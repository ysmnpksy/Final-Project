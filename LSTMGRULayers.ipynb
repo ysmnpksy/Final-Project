{
  "cells": [
    {
      "cell_type": "markdown",
      "metadata": {
        "id": "view-in-github",
        "colab_type": "text"
      },
      "source": [
        "<a href=\"https://colab.research.google.com/github/ysmnpksy/Final-Project/blob/main/LSTMGRULayers.ipynb\" target=\"_parent\"><img src=\"https://colab.research.google.com/assets/colab-badge.svg\" alt=\"Open In Colab\"/></a>"
      ]
    },
    {
      "cell_type": "markdown",
      "metadata": {
        "id": "3sLSAhakx6-X"
      },
      "source": [
        "<h1>AI CW2: Universal Workflow on IMDB Spoilers Dataset</h1>\n",
        "By Yasmin Paksoy"
      ]
    },
    {
      "cell_type": "markdown",
      "metadata": {
        "id": "hOS3anO24mLb"
      },
      "source": [
        "# Table of Contents \n",
        "  * [Preparing the Data](#section1)\n",
        "  * [Build Functions](#build)\n",
        "  * [Model 1: First LSTM Model](#model2)\n",
        "  * [Tuning: Dropout](#dropout)\n",
        "    * [Model 2: Rate 20%](#model3)\n",
        "    * [Model 3: Rate 40%](#model4)\n",
        "    * [Model 4: Rate 50%](#model5)\n",
        "  * [Tuning: Number of Layers](#layers)\n",
        "    * [Failed Model: 2 Layers](#model6)\n",
        "  * [Model 5: GRU](#model7)\n",
        "  * [Tuning Learning Rate](#Learning-Rate)\n",
        "    * [Model 6: 0.003](#model8)\n",
        "    * [Model 7: 0.006](#model9)\n",
        "    * [Model 8: 0.004](#model10)\n",
        "    * [Model 9: 0.01](#model11)\n",
        "  * [Training Final Model](#FinalModel)"
      ]
    },
    {
      "cell_type": "code",
      "execution_count": null,
      "metadata": {
        "colab": {
          "base_uri": "https://localhost:8080/",
          "height": 94,
          "resources": {
            "http://localhost:8080/nbextensions/google.colab/files.js": {
              "data": "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",
              "headers": [
                [
                  "content-type",
                  "application/javascript"
                ]
              ],
              "ok": true,
              "status": 200,
              "status_text": "OK"
            }
          }
        },
        "id": "QUsOFte1Hzqn",
        "outputId": "43c69ccf-b8ed-4568-c3ff-7cbe402e65d7"
      },
      "outputs": [
        {
          "output_type": "display_data",
          "data": {
            "text/html": [
              "\n",
              "     <input type=\"file\" id=\"files-4f110a0d-3a28-48c4-ace3-6ecd2ecdd2ba\" name=\"files[]\" multiple disabled\n",
              "        style=\"border:none\" />\n",
              "     <output id=\"result-4f110a0d-3a28-48c4-ace3-6ecd2ecdd2ba\">\n",
              "      Upload widget is only available when the cell has been executed in the\n",
              "      current browser session. Please rerun this cell to enable.\n",
              "      </output>\n",
              "      <script src=\"/nbextensions/google.colab/files.js\"></script> "
            ],
            "text/plain": [
              "<IPython.core.display.HTML object>"
            ]
          },
          "metadata": {}
        },
        {
          "output_type": "stream",
          "name": "stdout",
          "text": [
            "Saving kaggle.json to kaggle.json\n"
          ]
        },
        {
          "output_type": "execute_result",
          "data": {
            "text/plain": [
              "{'kaggle.json': b'{\"username\":\"yasminpaksoy\",\"key\":\"9092d77ded0787db0dc92dec0c6c058c\"}'}"
            ]
          },
          "metadata": {},
          "execution_count": 1
        }
      ],
      "source": [
        "from google.colab import files\n",
        "\n",
        "files.upload()"
      ]
    },
    {
      "cell_type": "code",
      "execution_count": null,
      "metadata": {
        "id": "B37hkVNbKatl"
      },
      "outputs": [],
      "source": [
        "# making kaggle directory \n",
        "! mkdir ~/.kaggle\n",
        "\n",
        "# copying api login info into directory \n",
        "! cp kaggle.json ~/.kaggle/\n",
        "\n",
        "# allocating required permissions \n",
        "! chmod 600 ~/.kaggle/kaggle.json"
      ]
    },
    {
      "cell_type": "code",
      "execution_count": null,
      "metadata": {
        "colab": {
          "base_uri": "https://localhost:8080/"
        },
        "id": "A473jXCkJxU-",
        "outputId": "80937761-66f8-41c0-a759-335dea4da50d"
      },
      "outputs": [
        {
          "output_type": "stream",
          "name": "stdout",
          "text": [
            "Downloading imdb-spoiler-dataset.zip to /content\n",
            " 98% 326M/331M [00:03<00:00, 108MB/s]\n",
            "100% 331M/331M [00:03<00:00, 95.1MB/s]\n",
            "Archive:  imdb-spoiler-dataset.zip\n",
            "  inflating: IMDB_movie_details.json  \n",
            "  inflating: IMDB_reviews.json       \n"
          ]
        }
      ],
      "source": [
        "! kaggle datasets download rmisra/imdb-spoiler-dataset\n",
        "\n",
        "# unzipping dataset \n",
        "! unzip imdb-spoiler-dataset.zip"
      ]
    },
    {
      "cell_type": "code",
      "execution_count": null,
      "metadata": {
        "colab": {
          "base_uri": "https://localhost:8080/",
          "height": 550
        },
        "id": "7UE2FiwiV6Um",
        "outputId": "4a799154-821d-482f-db01-040b14daaa3c"
      },
      "outputs": [
        {
          "output_type": "stream",
          "name": "stdout",
          "text": [
            "Total number of reviews: 573913\n",
            "Total number of reviews that contain spoilers: 150924\n",
            "User reviews shape: (573913, 7)\n",
            "\n",
            "First 5 user reviews:\n"
          ]
        },
        {
          "output_type": "execute_result",
          "data": {
            "text/html": [
              "\n",
              "  <div id=\"df-ed22740e-f983-450b-8607-764989bd9d3c\">\n",
              "    <div class=\"colab-df-container\">\n",
              "      <div>\n",
              "<style scoped>\n",
              "    .dataframe tbody tr th:only-of-type {\n",
              "        vertical-align: middle;\n",
              "    }\n",
              "\n",
              "    .dataframe tbody tr th {\n",
              "        vertical-align: top;\n",
              "    }\n",
              "\n",
              "    .dataframe thead th {\n",
              "        text-align: right;\n",
              "    }\n",
              "</style>\n",
              "<table border=\"1\" class=\"dataframe\">\n",
              "  <thead>\n",
              "    <tr style=\"text-align: right;\">\n",
              "      <th></th>\n",
              "      <th>review_date</th>\n",
              "      <th>movie_id</th>\n",
              "      <th>user_id</th>\n",
              "      <th>is_spoiler</th>\n",
              "      <th>review_text</th>\n",
              "      <th>rating</th>\n",
              "      <th>review_summary</th>\n",
              "    </tr>\n",
              "  </thead>\n",
              "  <tbody>\n",
              "    <tr>\n",
              "      <th>0</th>\n",
              "      <td>10 February 2006</td>\n",
              "      <td>tt0111161</td>\n",
              "      <td>ur1898687</td>\n",
              "      <td>True</td>\n",
              "      <td>In its Oscar year, Shawshank Redemption (writt...</td>\n",
              "      <td>10</td>\n",
              "      <td>A classic piece of unforgettable film-making.</td>\n",
              "    </tr>\n",
              "    <tr>\n",
              "      <th>1</th>\n",
              "      <td>6 September 2000</td>\n",
              "      <td>tt0111161</td>\n",
              "      <td>ur0842118</td>\n",
              "      <td>True</td>\n",
              "      <td>The Shawshank Redemption is without a doubt on...</td>\n",
              "      <td>10</td>\n",
              "      <td>Simply amazing. The best film of the 90's.</td>\n",
              "    </tr>\n",
              "    <tr>\n",
              "      <th>2</th>\n",
              "      <td>3 August 2001</td>\n",
              "      <td>tt0111161</td>\n",
              "      <td>ur1285640</td>\n",
              "      <td>True</td>\n",
              "      <td>I believe that this film is the best story eve...</td>\n",
              "      <td>8</td>\n",
              "      <td>The best story ever told on film</td>\n",
              "    </tr>\n",
              "    <tr>\n",
              "      <th>3</th>\n",
              "      <td>1 September 2002</td>\n",
              "      <td>tt0111161</td>\n",
              "      <td>ur1003471</td>\n",
              "      <td>True</td>\n",
              "      <td>**Yes, there are SPOILERS here**This film has ...</td>\n",
              "      <td>10</td>\n",
              "      <td>Busy dying or busy living?</td>\n",
              "    </tr>\n",
              "    <tr>\n",
              "      <th>4</th>\n",
              "      <td>20 May 2004</td>\n",
              "      <td>tt0111161</td>\n",
              "      <td>ur0226855</td>\n",
              "      <td>True</td>\n",
              "      <td>At the heart of this extraordinary movie is a ...</td>\n",
              "      <td>8</td>\n",
              "      <td>Great story, wondrously told and acted</td>\n",
              "    </tr>\n",
              "  </tbody>\n",
              "</table>\n",
              "</div>\n",
              "      <button class=\"colab-df-convert\" onclick=\"convertToInteractive('df-ed22740e-f983-450b-8607-764989bd9d3c')\"\n",
              "              title=\"Convert this dataframe to an interactive table.\"\n",
              "              style=\"display:none;\">\n",
              "        \n",
              "  <svg xmlns=\"http://www.w3.org/2000/svg\" height=\"24px\"viewBox=\"0 0 24 24\"\n",
              "       width=\"24px\">\n",
              "    <path d=\"M0 0h24v24H0V0z\" fill=\"none\"/>\n",
              "    <path d=\"M18.56 5.44l.94 2.06.94-2.06 2.06-.94-2.06-.94-.94-2.06-.94 2.06-2.06.94zm-11 1L8.5 8.5l.94-2.06 2.06-.94-2.06-.94L8.5 2.5l-.94 2.06-2.06.94zm10 10l.94 2.06.94-2.06 2.06-.94-2.06-.94-.94-2.06-.94 2.06-2.06.94z\"/><path d=\"M17.41 7.96l-1.37-1.37c-.4-.4-.92-.59-1.43-.59-.52 0-1.04.2-1.43.59L10.3 9.45l-7.72 7.72c-.78.78-.78 2.05 0 2.83L4 21.41c.39.39.9.59 1.41.59.51 0 1.02-.2 1.41-.59l7.78-7.78 2.81-2.81c.8-.78.8-2.07 0-2.86zM5.41 20L4 18.59l7.72-7.72 1.47 1.35L5.41 20z\"/>\n",
              "  </svg>\n",
              "      </button>\n",
              "      \n",
              "  <style>\n",
              "    .colab-df-container {\n",
              "      display:flex;\n",
              "      flex-wrap:wrap;\n",
              "      gap: 12px;\n",
              "    }\n",
              "\n",
              "    .colab-df-convert {\n",
              "      background-color: #E8F0FE;\n",
              "      border: none;\n",
              "      border-radius: 50%;\n",
              "      cursor: pointer;\n",
              "      display: none;\n",
              "      fill: #1967D2;\n",
              "      height: 32px;\n",
              "      padding: 0 0 0 0;\n",
              "      width: 32px;\n",
              "    }\n",
              "\n",
              "    .colab-df-convert:hover {\n",
              "      background-color: #E2EBFA;\n",
              "      box-shadow: 0px 1px 2px rgba(60, 64, 67, 0.3), 0px 1px 3px 1px rgba(60, 64, 67, 0.15);\n",
              "      fill: #174EA6;\n",
              "    }\n",
              "\n",
              "    [theme=dark] .colab-df-convert {\n",
              "      background-color: #3B4455;\n",
              "      fill: #D2E3FC;\n",
              "    }\n",
              "\n",
              "    [theme=dark] .colab-df-convert:hover {\n",
              "      background-color: #434B5C;\n",
              "      box-shadow: 0px 1px 3px 1px rgba(0, 0, 0, 0.15);\n",
              "      filter: drop-shadow(0px 1px 2px rgba(0, 0, 0, 0.3));\n",
              "      fill: #FFFFFF;\n",
              "    }\n",
              "  </style>\n",
              "\n",
              "      <script>\n",
              "        const buttonEl =\n",
              "          document.querySelector('#df-ed22740e-f983-450b-8607-764989bd9d3c button.colab-df-convert');\n",
              "        buttonEl.style.display =\n",
              "          google.colab.kernel.accessAllowed ? 'block' : 'none';\n",
              "\n",
              "        async function convertToInteractive(key) {\n",
              "          const element = document.querySelector('#df-ed22740e-f983-450b-8607-764989bd9d3c');\n",
              "          const dataTable =\n",
              "            await google.colab.kernel.invokeFunction('convertToInteractive',\n",
              "                                                     [key], {});\n",
              "          if (!dataTable) return;\n",
              "\n",
              "          const docLinkHtml = 'Like what you see? Visit the ' +\n",
              "            '<a target=\"_blank\" href=https://colab.research.google.com/notebooks/data_table.ipynb>data table notebook</a>'\n",
              "            + ' to learn more about interactive tables.';\n",
              "          element.innerHTML = '';\n",
              "          dataTable['output_type'] = 'display_data';\n",
              "          await google.colab.output.renderOutput(dataTable, element);\n",
              "          const docLink = document.createElement('div');\n",
              "          docLink.innerHTML = docLinkHtml;\n",
              "          element.appendChild(docLink);\n",
              "        }\n",
              "      </script>\n",
              "    </div>\n",
              "  </div>\n",
              "  "
            ],
            "text/plain": [
              "        review_date  ...                                 review_summary\n",
              "0  10 February 2006  ...  A classic piece of unforgettable film-making.\n",
              "1  6 September 2000  ...     Simply amazing. The best film of the 90's.\n",
              "2     3 August 2001  ...               The best story ever told on film\n",
              "3  1 September 2002  ...                     Busy dying or busy living?\n",
              "4       20 May 2004  ...         Great story, wondrously told and acted\n",
              "\n",
              "[5 rows x 7 columns]"
            ]
          },
          "metadata": {},
          "execution_count": 4
        }
      ],
      "source": [
        "# importing pandas to read the JSON files\n",
        "import pandas as pd \n",
        "\n",
        "# information regarding reviews file\n",
        "all_reviews = pd.read_json('../content/IMDB_reviews.json', lines=True)\n",
        "\n",
        "print('Total number of reviews:', all_reviews['review_date'].count())\n",
        "print('Total number of reviews that contain spoilers:', all_reviews['is_spoiler'].sum())\n",
        "print('User reviews shape:', all_reviews.shape)\n",
        "print()\n",
        "\n",
        "print('First 5 user reviews:')\n",
        "all_reviews.head()"
      ]
    },
    {
      "cell_type": "markdown",
      "metadata": {
        "id": "5QzzrCZtDe4Z"
      },
      "source": [
        "# Preparing the Data <a class=\"anchor\" id=\"preparing\"></a>\n",
        "--------------------------------\n",
        "As shown in previous code cells, the reviews database contains 573,913 records, 150,924 of them which contain spoilers. Since the difference between reviews with spoilers and without are so big, I will be balancing the dataset before moving forward. \n",
        "\n",
        "In the code cell below, I am converting the reviews and their labels into lists from the JSON file they were loaded in with. During this process, I am adding all reviews that contain spoilers to this list but only 150,924 reviews that don't. This leaves me with a fully balances dataset, which can be seen in the calculations below. "
      ]
    },
    {
      "cell_type": "code",
      "execution_count": null,
      "metadata": {
        "id": "-cgyL_4KWonY"
      },
      "outputs": [],
      "source": [
        "import json\n",
        "\n",
        "labels = [] \n",
        "texts = []\n",
        "sum = 0; \n",
        "\n",
        "with open('IMDB_reviews.json', 'r') as json_file:\n",
        "  for jsonObj in json_file:\n",
        "    data = json.loads(jsonObj)\n",
        "    if data['is_spoiler'] == True:\n",
        "      labels.append(1)\n",
        "      texts.append(data['review_text'])\n",
        "    else:\n",
        "      if sum < 150924:\n",
        "        sum += 1\n",
        "        labels.append(0)\n",
        "        texts.append(data['review_text'])"
      ]
    },
    {
      "cell_type": "code",
      "execution_count": null,
      "metadata": {
        "colab": {
          "base_uri": "https://localhost:8080/"
        },
        "id": "c2Sx8Yi3XYdD",
        "outputId": "5218c425-521f-45d8-f857-92ac72dfb3dc"
      },
      "outputs": [
        {
          "output_type": "stream",
          "name": "stdout",
          "text": [
            "Total number of reviews: 301848\n",
            "Total nummber with spoilers: 150924\n",
            "Total number without spoilers 150924\n"
          ]
        }
      ],
      "source": [
        "spoilers = 0;\n",
        "nonSpoilers = 0;\n",
        "\n",
        "for i in labels: \n",
        "  if i == 1: \n",
        "    spoilers += 1 \n",
        "  else: \n",
        "    nonSpoilers += 1\n",
        "\n",
        "print(\"Total number of reviews: \" + str(len(labels)))\n",
        "print(\"Total nummber with spoilers: \" + str(spoilers))\n",
        "print(\"Total number without spoilers \" + str(nonSpoilers))"
      ]
    },
    {
      "cell_type": "markdown",
      "metadata": {
        "id": "qNBrXaYpfY0Y"
      },
      "source": [
        "Next, I am preparing the data. For this data to be inputted into a machine-learning model, it needs to be formatted into tensors which are small in value and normalized if heterogeneous. Heterogeneous data refers to the data being in different ranges, and while deep neural networks can adapt to this, it makes learning more difficult [1]. \n",
        "\n",
        "The data is currently not in tensors, so I will be tokenizing the text data using one-hot encoding. To do this I am using the `Tokenizer` module from Keras. I have cut the reviews of after a maximum of 500 words and am only considering the most frequent 15000 words in the dataset. \n",
        "\n",
        "After tokenizing, I have vectorized the data using the `pad_sequences` module from Keras, which converts the list of tokenized data, integers, into 2D tensors, which can then be fed into the neural network. I have also vectorized the list of labels by converting it to a list of floating point numbers.\n",
        "\n",
        "This data is now ready to be inputted into a machine-learning model. "
      ]
    },
    {
      "cell_type": "code",
      "execution_count": null,
      "metadata": {
        "colab": {
          "base_uri": "https://localhost:8080/"
        },
        "id": "94TyDEQYgWSD",
        "outputId": "010ab852-0df1-4dd5-9483-1f67b67851ae"
      },
      "outputs": [
        {
          "output_type": "stream",
          "name": "stdout",
          "text": [
            "Found 282338 unique tokens.\n",
            "Shape of data tensor: (301848, 500)\n",
            "Shape of label tensor: (301848,)\n"
          ]
        }
      ],
      "source": [
        "from keras.preprocessing.text import Tokenizer\n",
        "from keras.preprocessing.sequence import pad_sequences\n",
        "import numpy as np\n",
        "\n",
        "maxlen = 500 # cuts reviews off after 500 words \n",
        "max_words = 15000 # considers only the top 15,000 words in the dataset \n",
        "\n",
        "# tokenizing texts \n",
        "tokenizer = Tokenizer(num_words=max_words)\n",
        "tokenizer.fit_on_texts(texts)\n",
        "sequences = tokenizer.texts_to_sequences(texts)\n",
        "word_index = tokenizer.word_index\n",
        "print('Found %s unique tokens.' % len(word_index))\n",
        "\n",
        "# vectorizing texts\n",
        "data = pad_sequences(sequences, maxlen=maxlen)\n",
        "\n",
        "# vectorizing labels \n",
        "labels = np.asarray(labels).astype('float32')\n",
        "\n",
        "print('Shape of data tensor:', data.shape)\n",
        "print('Shape of label tensor:', labels.shape)"
      ]
    },
    {
      "cell_type": "markdown",
      "metadata": {
        "id": "4eXV0nN8gzoF"
      },
      "source": [
        "Lastly, to prepare the data, I am splitting it into training and testing sets. This way I will be testing the model on unseen data only, ensuring information leaking does not affect the final results. I will be training on 201,848 data points and testing on 100,00.\n",
        "\n",
        "I am first shuffling the data, since the JSON file lists all reviews including spoilers first, then splitting it."
      ]
    },
    {
      "cell_type": "code",
      "execution_count": null,
      "metadata": {
        "id": "0JOQ_1F9g9-x"
      },
      "outputs": [],
      "source": [
        "# suffling data\n",
        "indices = np.arange(data.shape[0])\n",
        "np.random.shuffle(indices)\n",
        "data = data[indices]\n",
        "labels = labels[indices]\n",
        "\n",
        "# setting number of training and testing samples\n",
        "training_samples = 251848\n",
        "testing_samples = 50000\n",
        "\n",
        "# splitting into training and testing sets\n",
        "x_train = data[:training_samples]\n",
        "y_train = labels[:training_samples]\n",
        "x_test = data[training_samples: training_samples + testing_samples]\n",
        "y_test = labels[training_samples: training_samples + testing_samples]"
      ]
    },
    {
      "cell_type": "code",
      "execution_count": null,
      "metadata": {
        "colab": {
          "base_uri": "https://localhost:8080/"
        },
        "id": "Ke0TUFwciHvs",
        "outputId": "89c24c8f-427f-48de-f430-0146c228a9cf"
      },
      "outputs": [
        {
          "output_type": "stream",
          "name": "stdout",
          "text": [
            "Training data shape: (251848, 500)\n",
            "Training labels shape: (251848,)\n",
            "Test data shape: (50000, 500)\n",
            "Test labels shape: (50000,)\n"
          ]
        }
      ],
      "source": [
        "print('Training data shape:',x_train.shape)\n",
        "print('Training labels shape:', y_train.shape)\n",
        "\n",
        "print('Test data shape:',x_test.shape)\n",
        "print('Test labels shape:',y_test.shape)"
      ]
    },
    {
      "cell_type": "markdown",
      "metadata": {
        "id": "vw3DNrlIiG7O"
      },
      "source": [
        "Here I am further splitting the training set into partial training and validation. This ensures that the data used to validate will not be the same as that used to train, helping avoid overfitting issues. I will be training on 151,848 samples and validating on 50,000. "
      ]
    },
    {
      "cell_type": "code",
      "execution_count": null,
      "metadata": {
        "id": "S2XTstX4ieJu"
      },
      "outputs": [],
      "source": [
        "# setting number of training and validation samples\n",
        "partial_training_samples = 201848\n",
        "validation_samples = 50000\n",
        "\n",
        "# splitting into training and validation sets\n",
        "x_partial_train = data[:partial_training_samples]\n",
        "y_partial_train = labels[:partial_training_samples]\n",
        "x_val = data[partial_training_samples: partial_training_samples + validation_samples]\n",
        "y_val = labels[partial_training_samples: partial_training_samples + validation_samples]"
      ]
    },
    {
      "cell_type": "code",
      "execution_count": null,
      "metadata": {
        "colab": {
          "base_uri": "https://localhost:8080/"
        },
        "id": "Dngdv0rmijtL",
        "outputId": "42bb395f-3735-4b6a-efb6-486c27c33494"
      },
      "outputs": [
        {
          "output_type": "stream",
          "name": "stdout",
          "text": [
            "Partial training data shape: (201848, 500)\n",
            "Partial training labels shape: (201848,)\n",
            "Validation data shape: (50000, 500)\n",
            "Validation labels shape: (50000,)\n"
          ]
        }
      ],
      "source": [
        "print('Partial training data shape:',x_partial_train.shape)\n",
        "print('Partial training labels shape:', y_partial_train.shape)\n",
        "\n",
        "print('Validation data shape:',x_val.shape)\n",
        "print('Validation labels shape:',y_val.shape)"
      ]
    },
    {
      "cell_type": "markdown",
      "metadata": {
        "id": "yqJBgVTL7tTY"
      },
      "source": [
        "# Build Functions <a class=\"anchor\" id=\"build\"></a>\n",
        "---------------------\n",
        "I have included all the functions I will use below.\n",
        "\n",
        "The code functions I have included are: \n",
        "* Build baseline model. \n",
        "* Build scaled up model. \n",
        "* Build model with dropout and recurrent dropout. \n",
        "* Plot loss function. \n",
        "* Plot final loss function. \n",
        "* Plot accuracy function. \n",
        "* Plot final accuracy function. \n",
        "* Train function. \n",
        "* Train final model function. \n",
        "* Evaluate function. \n",
        "\n"
      ]
    },
    {
      "cell_type": "code",
      "execution_count": null,
      "metadata": {
        "id": "J3Drvs6GoVww"
      },
      "outputs": [],
      "source": [
        "# Importing all necessary libraries\n",
        "import tensorflow as tf\n",
        "import keras\n",
        "import matplotlib.pyplot as plt\n",
        "\n",
        "\n",
        "from gc import callbacks\n",
        "from keras import models, layers\n",
        "from tensorflow.keras import optimizers\n",
        "from keras.layers import Embedding, Flatten, LSTM"
      ]
    },
    {
      "cell_type": "code",
      "execution_count": null,
      "metadata": {
        "id": "hTT-iQsY-TEq"
      },
      "outputs": [],
      "source": [
        "def build_small():\n",
        "  model = models.Sequential()\n",
        "  \n",
        "  # Embedding layers \n",
        "  # network will learn 8-dimensional embeddings for each of the 15,000 words\n",
        "  model.add(Embedding(15000, 8, input_length=maxlen))\n",
        "  \n",
        "  # flattens the 3D tensor output to a 2D tensor\n",
        "  model.add(Flatten())\n",
        "  \n",
        "  # training single dense layer for classfication  \n",
        "  model.add(layers.Dense(32, activation = 'relu'))\n",
        "  # output layer \n",
        "  model.add(layers.Dense(1, activation = 'sigmoid'))\n",
        "  \n",
        "  model.compile(optimizer = 'rmsprop', \n",
        "              loss = 'binary_crossentropy', \n",
        "              metrics = ['acc'])\n",
        "  model.build()\n",
        "  model.summary()\n",
        "  return model"
      ]
    },
    {
      "cell_type": "code",
      "execution_count": null,
      "metadata": {
        "id": "kZqebn48-jnh"
      },
      "outputs": [],
      "source": [
        "def build_scaled_up():\n",
        "  model = models.Sequential()\n",
        "\n",
        "  # Embedding layers \n",
        "  # network will learn 32-dimensional embeddings for each of the 15,000 words\n",
        "  model.add(Embedding(15000, 8))\n",
        "\n",
        "  # LSTM layer\n",
        "  model.add(LSTM(32))\n",
        "  # output layer\n",
        "  model.add(layers.Dense(1, activation='sigmoid'))\n",
        "\n",
        "  model.compile(optimizer='rmsprop',\n",
        "                loss='binary_crossentropy',\n",
        "                metrics=['acc'])\n",
        "  model.build()\n",
        "  model.summary()\n",
        "  return model "
      ]
    },
    {
      "cell_type": "code",
      "execution_count": null,
      "metadata": {
        "id": "z_4QslKX-7q7"
      },
      "outputs": [],
      "source": [
        "def build_dropout(drop, rec_drop):\n",
        "  model = models.Sequential()\n",
        "\n",
        "  # Embedding layers \n",
        "  # network will learn 8-dimensional embeddings for each of the 15,000 words\n",
        "  model.add(Embedding(15000, 8))\n",
        "\n",
        "  # LSTM layer\n",
        "  # includes dropout and reccurrent dropout \n",
        "  model.add(LSTM(32, \n",
        "                 dropout=drop,\n",
        "                 recurrent_dropout=rec_drop\n",
        "                 ))\n",
        "  \n",
        "  # output layer \n",
        "  model.add(layers.Dense(1, activation='sigmoid'))\n",
        "\n",
        "  model.compile(optimizer='rmsprop',\n",
        "                loss='binary_crossentropy',\n",
        "                metrics=['acc'])\n",
        "  model.build()\n",
        "  model.summary()\n",
        "  return model "
      ]
    },
    {
      "cell_type": "code",
      "execution_count": null,
      "metadata": {
        "id": "fsryVua9Y3wg"
      },
      "outputs": [],
      "source": [
        "def build_layers(drop, rec_drop, layer):\n",
        "  model = models.Sequential()\n",
        "\n",
        "  # Embedding layers \n",
        "  # network will learn 8-dimensional embeddings for each of the 15,000 words\n",
        "  model.add(Embedding(15000, 8))\n",
        "\n",
        "  # LSTM layer\n",
        "  # includes dropout and reccurrent dropout \n",
        "  #for i in range(layer):\n",
        "  model.add(LSTM(32, \n",
        "                 dropout=drop,\n",
        "                 recurrent_dropout=rec_drop,\n",
        "                 input_shape=(151848, 500), \n",
        "                 return_sequences=True))\n",
        "  \n",
        "  if layer==2:\n",
        "    model.add(LSTM(32,\n",
        "                   dropout=drop,\n",
        "                   recurrent_dropout=rec_drop))\n",
        "    \n",
        "  if layer==3:\n",
        "    model.add(LSTM(32,\n",
        "                   dropout=drop,\n",
        "                   recurrent_dropout=rec_drop,\n",
        "                   return_sequences=True))\n",
        "    model.add(LSTM(32,\n",
        "                   dropout=drop,\n",
        "                   recurrent_dropout=rec_drop))\n",
        "\n",
        "  # output layer \n",
        "  model.add(layers.Dense(1, activation='sigmoid'))\n",
        "  \n",
        "  model.compile(optimizer='rmsprop',\n",
        "                loss='binary_crossentropy',\n",
        "                metrics=['acc'])\n",
        "  model.build()\n",
        "  model.summary()\n",
        "  return model "
      ]
    },
    {
      "cell_type": "code",
      "execution_count": null,
      "metadata": {
        "id": "5EE3kj8N5Lf5"
      },
      "outputs": [],
      "source": [
        "def build_GRU(drop, rec_drop):\n",
        "  model = models.Sequential()\n",
        "\n",
        "  # Embedding layers \n",
        "  # network will learn 8-dimensional embeddings for each of the 15,000 words\n",
        "  model.add(Embedding(15000, 8))\n",
        "\n",
        "  # LSTM layer\n",
        "  # includes dropout and reccurrent dropout \n",
        "  #for i in range(layer):\n",
        "  model.add(layers.GRU(32, \n",
        "                 dropout=drop,\n",
        "                 recurrent_dropout=rec_drop,\n",
        "                 input_shape=(151848, 500)))\n",
        "\n",
        "  # output layer \n",
        "  model.add(layers.Dense(1, activation='sigmoid'))\n",
        "  \n",
        "  model.compile(optimizer='rmsprop',\n",
        "                loss='binary_crossentropy',\n",
        "                metrics=['acc'])\n",
        "  model.build()\n",
        "  model.summary()\n",
        "  return model "
      ]
    },
    {
      "cell_type": "code",
      "execution_count": null,
      "metadata": {
        "id": "KeA2Qzd7FUPM"
      },
      "outputs": [],
      "source": [
        "def build_learning_rate(drop, rec_drop, lr):\n",
        "  model = models.Sequential()\n",
        "\n",
        "  # Embedding layers \n",
        "  # network will learn 8-dimensional embeddings for each of the 15,000 words\n",
        "  model.add(Embedding(15000, 8))\n",
        "\n",
        "  # LSTM layer\n",
        "  # includes dropout and reccurrent dropout \n",
        "  #for i in range(layer):\n",
        "  model.add(layers.GRU(32, \n",
        "                 dropout=drop,\n",
        "                 recurrent_dropout=rec_drop,\n",
        "                 input_shape=(151848, 500))\n",
        "  )\n",
        "\n",
        "  # output layer \n",
        "  model.add(layers.Dense(1, activation='sigmoid'))\n",
        "  \n",
        "  model.compile(optimizer = optimizers.RMSprop(learning_rate = lr),\n",
        "                loss='binary_crossentropy',\n",
        "                metrics=['acc'])\n",
        "  model.build()\n",
        "  model.summary()\n",
        "  return model "
      ]
    },
    {
      "cell_type": "code",
      "execution_count": null,
      "metadata": {
        "id": "sM59ZYms7gjI"
      },
      "outputs": [],
      "source": [
        "def plot_outputs():\n",
        "\n",
        "  acc = history.history['acc']\n",
        "  val_acc = history.history['val_acc']\n",
        "  loss = history.history['loss']\n",
        "  val_loss = history.history['val_loss']\n",
        "\n",
        "  epochs = range(1, len(acc) + 1)\n",
        "\n",
        "  plt.plot(epochs, acc, 'bo', label='Training acc')\n",
        "  plt.plot(epochs, val_acc, 'b', label='Validation acc')\n",
        "  plt.title('Training and validation accuracy')\n",
        "  plt.legend()\n",
        "\n",
        "  plt.figure()\n",
        "\n",
        "  plt.plot(epochs, loss, 'bo', label='Training loss')\n",
        "  plt.plot(epochs, val_loss, 'b', label='Validation loss')\n",
        "  plt.title('Training and validation loss')\n",
        "  plt.legend()\n",
        "\n",
        "  plt.show()"
      ]
    },
    {
      "cell_type": "code",
      "execution_count": null,
      "metadata": {
        "id": "MPD09m9hwYzQ"
      },
      "outputs": [],
      "source": [
        "callbacks_list = [keras.callbacks.EarlyStopping(\n",
        "    monitor='val_loss',\n",
        "    patience=5\n",
        "    )]"
      ]
    },
    {
      "cell_type": "code",
      "execution_count": null,
      "metadata": {
        "id": "1TdWEKAI_8rv"
      },
      "outputs": [],
      "source": [
        "def train(model, epoch):\n",
        "  return model.fit(x_partial_train, y_partial_train,\n",
        "                   epochs = epoch,\n",
        "                   batch_size = 128,\n",
        "                   callbacks = callbacks_list,\n",
        "                   validation_data = (x_val, y_val))"
      ]
    },
    {
      "cell_type": "code",
      "execution_count": null,
      "metadata": {
        "id": "gUBwG-MJAmQH"
      },
      "outputs": [],
      "source": [
        "def train_final_model(model, epoch):\n",
        "  return model.fit(x_train, y_train, epochs = epoch, batch_size = 128)"
      ]
    },
    {
      "cell_type": "code",
      "execution_count": null,
      "metadata": {
        "id": "4N42m_tSBG56"
      },
      "outputs": [],
      "source": [
        "def evaluate():\n",
        "  model.evaluate(x_test, y_test)"
      ]
    },
    {
      "cell_type": "markdown",
      "metadata": {
        "id": "7amL1zLQDork"
      },
      "source": [
        "# Model 1: First LSTM Model<a class=\"anchor\" id=\"model2\"></a>\n",
        "-------------------------"
      ]
    },
    {
      "cell_type": "code",
      "execution_count": null,
      "metadata": {
        "colab": {
          "base_uri": "https://localhost:8080/"
        },
        "id": "TVqjBeg5EiQT",
        "outputId": "ce79ddac-a478-4b69-87b2-9e91c5ab5711"
      },
      "outputs": [
        {
          "name": "stdout",
          "output_type": "stream",
          "text": [
            "Model: \"sequential\"\n",
            "_________________________________________________________________\n",
            " Layer (type)                Output Shape              Param #   \n",
            "=================================================================\n",
            " embedding (Embedding)       (None, None, 8)           120000    \n",
            "                                                                 \n",
            " lstm (LSTM)                 (None, 32)                5248      \n",
            "                                                                 \n",
            " dense (Dense)               (None, 1)                 33        \n",
            "                                                                 \n",
            "=================================================================\n",
            "Total params: 125,281\n",
            "Trainable params: 125,281\n",
            "Non-trainable params: 0\n",
            "_________________________________________________________________\n"
          ]
        }
      ],
      "source": [
        "model = build_scaled_up()"
      ]
    },
    {
      "cell_type": "code",
      "execution_count": null,
      "metadata": {
        "colab": {
          "base_uri": "https://localhost:8080/"
        },
        "id": "IvuPlxW7v_zH",
        "outputId": "2a4fe782-384a-45d8-c32a-c0e234f2af7f"
      },
      "outputs": [
        {
          "name": "stdout",
          "output_type": "stream",
          "text": [
            "Epoch 1/50\n",
            "1577/1577 [==============================] - 462s 292ms/step - loss: 0.5871 - acc: 0.6945 - val_loss: 0.5397 - val_acc: 0.7311\n",
            "Epoch 2/50\n",
            "1577/1577 [==============================] - 458s 290ms/step - loss: 0.5303 - acc: 0.7452 - val_loss: 0.5295 - val_acc: 0.7463\n",
            "Epoch 3/50\n",
            "1577/1577 [==============================] - 464s 294ms/step - loss: 0.5125 - acc: 0.7587 - val_loss: 0.5143 - val_acc: 0.7477\n",
            "Epoch 4/50\n",
            "1577/1577 [==============================] - 460s 292ms/step - loss: 0.5050 - acc: 0.7628 - val_loss: 0.5111 - val_acc: 0.7549\n",
            "Epoch 5/50\n",
            "1577/1577 [==============================] - 460s 292ms/step - loss: 0.4943 - acc: 0.7686 - val_loss: 0.5079 - val_acc: 0.7554\n",
            "Epoch 6/50\n",
            "1577/1577 [==============================] - 462s 293ms/step - loss: 0.4856 - acc: 0.7740 - val_loss: 0.5131 - val_acc: 0.7525\n",
            "Epoch 7/50\n",
            "1577/1577 [==============================] - 462s 293ms/step - loss: 0.4773 - acc: 0.7776 - val_loss: 0.5093 - val_acc: 0.7500\n",
            "Epoch 8/50\n",
            "1577/1577 [==============================] - 460s 291ms/step - loss: 0.4721 - acc: 0.7821 - val_loss: 0.5013 - val_acc: 0.7557\n",
            "Epoch 9/50\n",
            "1577/1577 [==============================] - 464s 294ms/step - loss: 0.4658 - acc: 0.7859 - val_loss: 0.5113 - val_acc: 0.7540\n",
            "Epoch 10/50\n",
            "1577/1577 [==============================] - 463s 294ms/step - loss: 0.4595 - acc: 0.7890 - val_loss: 0.4992 - val_acc: 0.7567\n",
            "Epoch 11/50\n",
            "1577/1577 [==============================] - 462s 293ms/step - loss: 0.4542 - acc: 0.7919 - val_loss: 0.5060 - val_acc: 0.7552\n",
            "Epoch 12/50\n",
            "1577/1577 [==============================] - 463s 294ms/step - loss: 0.4490 - acc: 0.7954 - val_loss: 0.5063 - val_acc: 0.7574\n",
            "Epoch 13/50\n",
            "1577/1577 [==============================] - 463s 294ms/step - loss: 0.4437 - acc: 0.7985 - val_loss: 0.5267 - val_acc: 0.7560\n",
            "Epoch 14/50\n",
            "1577/1577 [==============================] - 460s 292ms/step - loss: 0.4390 - acc: 0.8014 - val_loss: 0.5081 - val_acc: 0.7493\n",
            "Epoch 15/50\n",
            "1577/1577 [==============================] - 471s 299ms/step - loss: 0.4352 - acc: 0.8045 - val_loss: 0.5089 - val_acc: 0.7487\n"
          ]
        }
      ],
      "source": [
        "history = train(model, 50)"
      ]
    },
    {
      "cell_type": "code",
      "execution_count": null,
      "metadata": {
        "colab": {
          "base_uri": "https://localhost:8080/",
          "height": 545
        },
        "id": "kKN0rfstE0US",
        "outputId": "3caf0ba5-1828-4382-d484-b8287cbfc078"
      },
      "outputs": [
        {
          "data": {
            "image/png": "[encoded data removed]",
            "text/plain": [
              "<Figure size 432x288 with 1 Axes>"
            ]
          },
          "metadata": {},
          "output_type": "display_data"
        },
        {
          "data": {
            "image/png": "[encoded data removed]",
            "text/plain": [
              "<Figure size 432x288 with 1 Axes>"
            ]
          },
          "metadata": {},
          "output_type": "display_data"
        }
      ],
      "source": [
        "plot_outputs()"
      ]
    },
    {
      "cell_type": "markdown",
      "metadata": {
        "id": "N9e8Y78B2oKm"
      },
      "source": [
        "# Tuning: Dropout <a class=\"anchor\" id=\"dropout\"></a>\n",
        "------------"
      ]
    },
    {
      "cell_type": "markdown",
      "metadata": {
        "id": "1w5u_2EK-Qsr"
      },
      "source": [
        "## Model 2: Rate 20% <a class=\"anchor\" id=\"model3\"></a>\n",
        "-----------------------"
      ]
    },
    {
      "cell_type": "code",
      "execution_count": null,
      "metadata": {
        "colab": {
          "base_uri": "https://localhost:8080/"
        },
        "id": "ite5-62s23RO",
        "outputId": "70814dc2-a32b-48a2-9b47-e5ccbc17dcf6"
      },
      "outputs": [
        {
          "name": "stdout",
          "output_type": "stream",
          "text": [
            "Model: \"sequential_1\"\n",
            "_________________________________________________________________\n",
            " Layer (type)                Output Shape              Param #   \n",
            "=================================================================\n",
            " embedding_1 (Embedding)     (None, None, 8)           120000    \n",
            "                                                                 \n",
            " lstm_1 (LSTM)               (None, 32)                5248      \n",
            "                                                                 \n",
            " dense_1 (Dense)             (None, 1)                 33        \n",
            "                                                                 \n",
            "=================================================================\n",
            "Total params: 125,281\n",
            "Trainable params: 125,281\n",
            "Non-trainable params: 0\n",
            "_________________________________________________________________\n"
          ]
        }
      ],
      "source": [
        "model = build_dropout(0.2, 0.2)"
      ]
    },
    {
      "cell_type": "code",
      "execution_count": null,
      "metadata": {
        "colab": {
          "base_uri": "https://localhost:8080/"
        },
        "id": "kHnBZYx9u-Ap",
        "outputId": "bac733be-ba3f-482c-fa78-fc41d70d73c0"
      },
      "outputs": [
        {
          "name": "stdout",
          "output_type": "stream",
          "text": [
            "Epoch 1/50\n",
            "1577/1577 [==============================] - 995s 629ms/step - loss: 0.5950 - acc: 0.6900 - val_loss: 0.5661 - val_acc: 0.7167\n",
            "Epoch 2/50\n",
            "1577/1577 [==============================] - 992s 629ms/step - loss: 0.5394 - acc: 0.7417 - val_loss: 0.5380 - val_acc: 0.7321\n",
            "Epoch 3/50\n",
            "1577/1577 [==============================] - 989s 627ms/step - loss: 0.5216 - acc: 0.7535 - val_loss: 0.5292 - val_acc: 0.7492\n",
            "Epoch 4/50\n",
            "1577/1577 [==============================] - 984s 624ms/step - loss: 0.5098 - acc: 0.7600 - val_loss: 0.5378 - val_acc: 0.7502\n",
            "Epoch 5/50\n",
            "1577/1577 [==============================] - 986s 625ms/step - loss: 0.5034 - acc: 0.7613 - val_loss: 0.5110 - val_acc: 0.7488\n",
            "Epoch 6/50\n",
            "1577/1577 [==============================] - 998s 633ms/step - loss: 0.4928 - acc: 0.7686 - val_loss: 0.5091 - val_acc: 0.7551\n",
            "Epoch 7/50\n",
            "1577/1577 [==============================] - 996s 632ms/step - loss: 0.4870 - acc: 0.7714 - val_loss: 0.5103 - val_acc: 0.7532\n",
            "Epoch 8/50\n",
            "1577/1577 [==============================] - 986s 625ms/step - loss: 0.4837 - acc: 0.7735 - val_loss: 0.5045 - val_acc: 0.7574\n",
            "Epoch 9/50\n",
            "1577/1577 [==============================] - 990s 628ms/step - loss: 0.4772 - acc: 0.7773 - val_loss: 0.4998 - val_acc: 0.7570\n",
            "Epoch 10/50\n",
            "1577/1577 [==============================] - 998s 633ms/step - loss: 0.4725 - acc: 0.7797 - val_loss: 0.5282 - val_acc: 0.7546\n",
            "Epoch 11/50\n",
            "1577/1577 [==============================] - 986s 625ms/step - loss: 0.4701 - acc: 0.7796 - val_loss: 0.5081 - val_acc: 0.7489\n",
            "Epoch 12/50\n",
            "1577/1577 [==============================] - 985s 625ms/step - loss: 0.4667 - acc: 0.7817 - val_loss: 0.5198 - val_acc: 0.7525\n",
            "Epoch 13/50\n",
            "1577/1577 [==============================] - 993s 630ms/step - loss: 0.4640 - acc: 0.7830 - val_loss: 0.4941 - val_acc: 0.7562\n",
            "Epoch 14/50\n",
            "1577/1577 [==============================] - 989s 627ms/step - loss: 0.4610 - acc: 0.7836 - val_loss: 0.5085 - val_acc: 0.7563\n",
            "Epoch 15/50\n",
            "1577/1577 [==============================] - 983s 624ms/step - loss: 0.4581 - acc: 0.7858 - val_loss: 0.5108 - val_acc: 0.7608\n",
            "Epoch 16/50\n",
            "1577/1577 [==============================] - 985s 624ms/step - loss: 0.4563 - acc: 0.7858 - val_loss: 0.5055 - val_acc: 0.7562\n",
            "Epoch 17/50\n",
            "1577/1577 [==============================] - 985s 625ms/step - loss: 0.4538 - acc: 0.7875 - val_loss: 0.4981 - val_acc: 0.7600\n",
            "Epoch 18/50\n",
            "1577/1577 [==============================] - 988s 627ms/step - loss: 0.4518 - acc: 0.7883 - val_loss: 0.5048 - val_acc: 0.7595\n"
          ]
        }
      ],
      "source": [
        "history = train(model, 50)"
      ]
    },
    {
      "cell_type": "markdown",
      "metadata": {
        "id": "Yrm83f2TZcLd"
      },
      "source": [
        "Below I have included graphs showing the training and validation accuracy and loss of this model:\n"
      ]
    },
    {
      "cell_type": "code",
      "execution_count": null,
      "metadata": {
        "colab": {
          "base_uri": "https://localhost:8080/",
          "height": 545
        },
        "id": "iXc_6UlUmT2E",
        "outputId": "79f1f640-84c3-4934-fb91-4eb3c83e05a2"
      },
      "outputs": [
        {
          "data": {
            "image/png": "[encoded data removed]",
            "text/plain": [
              "<Figure size 432x288 with 1 Axes>"
            ]
          },
          "metadata": {},
          "output_type": "display_data"
        },
        {
          "data": {
            "image/png": "[encoded data removed]",
            "text/plain": [
              "<Figure size 432x288 with 1 Axes>"
            ]
          },
          "metadata": {},
          "output_type": "display_data"
        }
      ],
      "source": [
        "plot_outputs()"
      ]
    },
    {
      "cell_type": "markdown",
      "metadata": {
        "id": "vHxRYbpP-aYT"
      },
      "source": [
        "## Model 3: Rate 40% <a class=\"anchor\" id=\"model4\"></a>\n",
        "-----------------------"
      ]
    },
    {
      "cell_type": "code",
      "execution_count": null,
      "metadata": {
        "colab": {
          "base_uri": "https://localhost:8080/"
        },
        "id": "6VqAPxirvyXg",
        "outputId": "0a65e815-fbdd-433f-b1ac-782c39676540"
      },
      "outputs": [
        {
          "name": "stdout",
          "output_type": "stream",
          "text": [
            "Model: \"sequential\"\n",
            "_________________________________________________________________\n",
            " Layer (type)                Output Shape              Param #   \n",
            "=================================================================\n",
            " embedding (Embedding)       (None, None, 8)           120000    \n",
            "                                                                 \n",
            " lstm (LSTM)                 (None, 32)                5248      \n",
            "                                                                 \n",
            " dense (Dense)               (None, 1)                 33        \n",
            "                                                                 \n",
            "=================================================================\n",
            "Total params: 125,281\n",
            "Trainable params: 125,281\n",
            "Non-trainable params: 0\n",
            "_________________________________________________________________\n"
          ]
        }
      ],
      "source": [
        "model = build_dropout(0.4, 0.4)"
      ]
    },
    {
      "cell_type": "code",
      "execution_count": null,
      "metadata": {
        "colab": {
          "base_uri": "https://localhost:8080/"
        },
        "id": "XS0X9i_6v1PS",
        "outputId": "db0490b3-37b4-480a-a0d5-a17daebb534b"
      },
      "outputs": [
        {
          "name": "stdout",
          "output_type": "stream",
          "text": [
            "Epoch 1/50\n",
            "1577/1577 [==============================] - 1140s 717ms/step - loss: 0.6202 - acc: 0.6626 - val_loss: 0.5539 - val_acc: 0.7264\n",
            "Epoch 2/50\n",
            "1577/1577 [==============================] - 1125s 714ms/step - loss: 0.5634 - acc: 0.7260 - val_loss: 0.5533 - val_acc: 0.7379\n",
            "Epoch 3/50\n",
            "1577/1577 [==============================] - 1122s 711ms/step - loss: 0.5412 - acc: 0.7402 - val_loss: 0.5335 - val_acc: 0.7431\n",
            "Epoch 4/50\n",
            "1577/1577 [==============================] - 1125s 713ms/step - loss: 0.5268 - acc: 0.7469 - val_loss: 0.5371 - val_acc: 0.7468\n",
            "Epoch 5/50\n",
            "1577/1577 [==============================] - 1127s 715ms/step - loss: 0.5142 - acc: 0.7556 - val_loss: 0.5734 - val_acc: 0.7351\n",
            "Epoch 6/50\n",
            "1577/1577 [==============================] - 1126s 714ms/step - loss: 0.5103 - acc: 0.7574 - val_loss: 0.5418 - val_acc: 0.7496\n",
            "Epoch 7/50\n",
            "1577/1577 [==============================] - 1120s 710ms/step - loss: 0.5018 - acc: 0.7619 - val_loss: 0.5848 - val_acc: 0.7463\n",
            "Epoch 8/50\n",
            "1577/1577 [==============================] - 1128s 715ms/step - loss: 0.4961 - acc: 0.7651 - val_loss: 0.5061 - val_acc: 0.7577\n",
            "Epoch 9/50\n",
            "1577/1577 [==============================] - 1129s 716ms/step - loss: 0.4907 - acc: 0.7674 - val_loss: 0.5080 - val_acc: 0.7585\n",
            "Epoch 10/50\n",
            "1577/1577 [==============================] - 1129s 716ms/step - loss: 0.4866 - acc: 0.7693 - val_loss: 0.5152 - val_acc: 0.7595\n",
            "Epoch 11/50\n",
            "1577/1577 [==============================] - 1126s 714ms/step - loss: 0.4822 - acc: 0.7717 - val_loss: 0.5202 - val_acc: 0.7552\n",
            "Epoch 12/50\n",
            "1577/1577 [==============================] - 1128s 715ms/step - loss: 0.4794 - acc: 0.7724 - val_loss: 0.5194 - val_acc: 0.7596\n",
            "Epoch 13/50\n",
            "1577/1577 [==============================] - 1129s 716ms/step - loss: 0.4766 - acc: 0.7742 - val_loss: 0.5095 - val_acc: 0.7518\n"
          ]
        }
      ],
      "source": [
        "history = train(model, 50)"
      ]
    },
    {
      "cell_type": "markdown",
      "metadata": {
        "id": "9Yv8WEPQaPjI"
      },
      "source": [
        "Graphs showing the training and validation loss and accuracy can be found below:"
      ]
    },
    {
      "cell_type": "code",
      "execution_count": null,
      "metadata": {
        "colab": {
          "base_uri": "https://localhost:8080/",
          "height": 545
        },
        "id": "R8wPA6S6mgDv",
        "outputId": "68702737-3ccb-4431-8c11-85ace94f727c"
      },
      "outputs": [
        {
          "data": {
            "image/png": "[encoded data removed]",
            "text/plain": [
              "<Figure size 432x288 with 1 Axes>"
            ]
          },
          "metadata": {},
          "output_type": "display_data"
        },
        {
          "data": {
            "image/png": "[encoded data removed]",
            "text/plain": [
              "<Figure size 432x288 with 1 Axes>"
            ]
          },
          "metadata": {},
          "output_type": "display_data"
        }
      ],
      "source": [
        "plot_outputs()"
      ]
    },
    {
      "cell_type": "markdown",
      "metadata": {
        "id": "_EEWbueXCS7d"
      },
      "source": [
        "## Model 4: Rate 30% <a class=\"anchor\" id=\"model5\"></a>\n",
        "-----------------------"
      ]
    },
    {
      "cell_type": "code",
      "execution_count": null,
      "metadata": {
        "colab": {
          "base_uri": "https://localhost:8080/"
        },
        "id": "6EPKuGN_CLvv",
        "outputId": "31d565d8-a0a0-46cb-b683-20b3f5cc1073"
      },
      "outputs": [
        {
          "name": "stdout",
          "output_type": "stream",
          "text": [
            "Model: \"sequential\"\n",
            "_________________________________________________________________\n",
            " Layer (type)                Output Shape              Param #   \n",
            "=================================================================\n",
            " embedding (Embedding)       (None, None, 8)           120000    \n",
            "                                                                 \n",
            " lstm (LSTM)                 (None, 32)                5248      \n",
            "                                                                 \n",
            " dense (Dense)               (None, 1)                 33        \n",
            "                                                                 \n",
            "=================================================================\n",
            "Total params: 125,281\n",
            "Trainable params: 125,281\n",
            "Non-trainable params: 0\n",
            "_________________________________________________________________\n"
          ]
        }
      ],
      "source": [
        "model = build_dropout(0.3, 0.3)"
      ]
    },
    {
      "cell_type": "code",
      "execution_count": null,
      "metadata": {
        "colab": {
          "base_uri": "https://localhost:8080/"
        },
        "id": "YRZwq_AuCNp1",
        "outputId": "381fd198-17f5-45d9-b393-eca6595e3022"
      },
      "outputs": [
        {
          "name": "stdout",
          "output_type": "stream",
          "text": [
            "Epoch 1/50\n",
            "1577/1577 [==============================] - 1019s 644ms/step - loss: 0.5977 - acc: 0.6837 - val_loss: 0.5367 - val_acc: 0.7354\n",
            "Epoch 2/50\n",
            "1577/1577 [==============================] - 1035s 657ms/step - loss: 0.5519 - acc: 0.7325 - val_loss: 0.5430 - val_acc: 0.7392\n",
            "Epoch 3/50\n",
            "1577/1577 [==============================] - 1032s 655ms/step - loss: 0.5255 - acc: 0.7480 - val_loss: 0.5219 - val_acc: 0.7504\n",
            "Epoch 4/50\n",
            "1577/1577 [==============================] - 1037s 658ms/step - loss: 0.5145 - acc: 0.7563 - val_loss: 0.5208 - val_acc: 0.7568\n",
            "Epoch 5/50\n",
            "1577/1577 [==============================] - 1041s 660ms/step - loss: 0.5065 - acc: 0.7600 - val_loss: 0.5376 - val_acc: 0.7501\n",
            "Epoch 6/50\n",
            "1577/1577 [==============================] - 1042s 661ms/step - loss: 0.5026 - acc: 0.7620 - val_loss: 0.5267 - val_acc: 0.7543\n",
            "Epoch 7/50\n",
            "1577/1577 [==============================] - 1036s 657ms/step - loss: 0.4955 - acc: 0.7676 - val_loss: 0.5218 - val_acc: 0.7548\n",
            "Epoch 8/50\n",
            "1577/1577 [==============================] - 1040s 659ms/step - loss: 0.4892 - acc: 0.7705 - val_loss: 0.5139 - val_acc: 0.7566\n",
            "Epoch 9/50\n",
            "1577/1577 [==============================] - 1043s 661ms/step - loss: 0.4844 - acc: 0.7716 - val_loss: 0.5097 - val_acc: 0.7581\n",
            "Epoch 10/50\n",
            "1577/1577 [==============================] - 1052s 667ms/step - loss: 0.4797 - acc: 0.7731 - val_loss: 0.5077 - val_acc: 0.7487\n",
            "Epoch 11/50\n",
            "1577/1577 [==============================] - 1051s 666ms/step - loss: 0.4755 - acc: 0.7759 - val_loss: 0.5093 - val_acc: 0.7583\n",
            "Epoch 12/50\n",
            "1577/1577 [==============================] - 1040s 659ms/step - loss: 0.4729 - acc: 0.7765 - val_loss: 0.5098 - val_acc: 0.7574\n",
            "Epoch 13/50\n",
            "1577/1577 [==============================] - 1046s 663ms/step - loss: 0.4700 - acc: 0.7788 - val_loss: 0.4991 - val_acc: 0.7615\n",
            "Epoch 14/50\n",
            "1577/1577 [==============================] - 1047s 664ms/step - loss: 0.4682 - acc: 0.7793 - val_loss: 0.5019 - val_acc: 0.7623\n",
            "Epoch 15/50\n",
            "1577/1577 [==============================] - 1041s 660ms/step - loss: 0.4659 - acc: 0.7795 - val_loss: 0.5035 - val_acc: 0.7618\n",
            "Epoch 16/50\n",
            "1577/1577 [==============================] - 1031s 654ms/step - loss: 0.4634 - acc: 0.7819 - val_loss: 0.4972 - val_acc: 0.7615\n",
            "Epoch 17/50\n",
            "1577/1577 [==============================] - 1031s 654ms/step - loss: 0.4621 - acc: 0.7830 - val_loss: 0.4990 - val_acc: 0.7582\n",
            "Epoch 18/50\n",
            "1577/1577 [==============================] - 1037s 657ms/step - loss: 0.4604 - acc: 0.7836 - val_loss: 0.5153 - val_acc: 0.7608\n",
            "Epoch 19/50\n",
            "1577/1577 [==============================] - 1039s 659ms/step - loss: 0.4586 - acc: 0.7852 - val_loss: 0.5034 - val_acc: 0.7631\n",
            "Epoch 20/50\n",
            "1577/1577 [==============================] - 1041s 660ms/step - loss: 0.4570 - acc: 0.7860 - val_loss: 0.4998 - val_acc: 0.7641\n",
            "Epoch 21/50\n",
            "1577/1577 [==============================] - 1043s 661ms/step - loss: 0.4556 - acc: 0.7859 - val_loss: 0.5012 - val_acc: 0.7622\n"
          ]
        }
      ],
      "source": [
        "history = train(model, 50)"
      ]
    },
    {
      "cell_type": "code",
      "execution_count": null,
      "metadata": {
        "colab": {
          "base_uri": "https://localhost:8080/",
          "height": 545
        },
        "id": "aY60CegHOGKg",
        "outputId": "204ccf55-c3e2-4724-83a2-9efc23b14478"
      },
      "outputs": [
        {
          "data": {
            "image/png": "[encoded data removed]",
            "text/plain": [
              "<Figure size 432x288 with 1 Axes>"
            ]
          },
          "metadata": {},
          "output_type": "display_data"
        },
        {
          "data": {
            "image/png": "[encoded data removed]",
            "text/plain": [
              "<Figure size 432x288 with 1 Axes>"
            ]
          },
          "metadata": {},
          "output_type": "display_data"
        }
      ],
      "source": [
        "plot_outputs()"
      ]
    },
    {
      "cell_type": "markdown",
      "metadata": {
        "id": "UfpTQsadZXBq"
      },
      "source": [
        "# Tuning: Number of Layers <a class=\"anchor\" id=\"layers\"></a>\n",
        "----------------------------\n",
        "Next, I will be changing the architecture by adding layers. Adding layers will increase the capacity of the network, making it more likely to learn important patterns that can allow it to make more accurate predictions. "
      ]
    },
    {
      "cell_type": "markdown",
      "metadata": {
        "id": "QKfum3k6O2lP"
      },
      "source": [
        "## Failed Model: 2 Layers <a class=\"anchor\" id=\"model6\"></a>\n",
        "--------------------\n",
        "For the next model, I will be increasing the number of LSTM layers to 2. The model definition can be seen below. "
      ]
    },
    {
      "cell_type": "code",
      "execution_count": null,
      "metadata": {
        "colab": {
          "base_uri": "https://localhost:8080/"
        },
        "id": "dl0MU_eYZii-",
        "outputId": "fee83369-0daa-476e-fa73-84a3b6586325"
      },
      "outputs": [
        {
          "name": "stdout",
          "output_type": "stream",
          "text": [
            "Model: \"sequential\"\n",
            "_________________________________________________________________\n",
            " Layer (type)                Output Shape              Param #   \n",
            "=================================================================\n",
            " embedding (Embedding)       (None, None, 8)           120000    \n",
            "                                                                 \n",
            " lstm (LSTM)                 (None, None, 32)          5248      \n",
            "                                                                 \n",
            " lstm_1 (LSTM)               (None, 32)                8320      \n",
            "                                                                 \n",
            " dense (Dense)               (None, 1)                 33        \n",
            "                                                                 \n",
            "=================================================================\n",
            "Total params: 133,601\n",
            "Trainable params: 133,601\n",
            "Non-trainable params: 0\n",
            "_________________________________________________________________\n"
          ]
        }
      ],
      "source": [
        "model = build_layers(0.4, 0.4, 2)"
      ]
    },
    {
      "cell_type": "code",
      "execution_count": null,
      "metadata": {
        "colab": {
          "base_uri": "https://localhost:8080/"
        },
        "id": "JVzlzUzlZ8_y",
        "outputId": "a8f1526d-f873-4749-ad5a-978af350f939"
      },
      "outputs": [
        {
          "name": "stdout",
          "output_type": "stream",
          "text": [
            "Epoch 1/50\n",
            "1577/1577 [==============================] - 2239s 1s/step - loss: 0.6039 - acc: 0.6761 - val_loss: 0.5870 - val_acc: 0.6942\n",
            "Epoch 2/50\n",
            "1577/1577 [==============================] - 2235s 1s/step - loss: 0.5539 - acc: 0.7291 - val_loss: 0.5353 - val_acc: 0.7395\n",
            "Epoch 3/50\n",
            "1577/1577 [==============================] - 2238s 1s/step - loss: 0.5365 - acc: 0.7416 - val_loss: 0.5319 - val_acc: 0.7429\n",
            "Epoch 4/50\n",
            "1577/1577 [==============================] - 2248s 1s/step - loss: 0.5246 - acc: 0.7475 - val_loss: 0.5422 - val_acc: 0.7464\n",
            "Epoch 5/50\n",
            "1577/1577 [==============================] - 2244s 1s/step - loss: 0.5153 - acc: 0.7541 - val_loss: 0.5193 - val_acc: 0.7512\n",
            "Epoch 6/50\n",
            "1577/1577 [==============================] - 2257s 1s/step - loss: 0.5023 - acc: 0.7608 - val_loss: 0.5090 - val_acc: 0.7524\n",
            "Epoch 7/50\n",
            "1577/1577 [==============================] - 2313s 1s/step - loss: 0.4907 - acc: 0.7664 - val_loss: 0.5085 - val_acc: 0.7540\n",
            "Epoch 8/50\n",
            "1577/1577 [==============================] - 2277s 1s/step - loss: 0.4812 - acc: 0.7715 - val_loss: 0.5052 - val_acc: 0.7547\n",
            "Epoch 9/50\n",
            "1577/1577 [==============================] - 2285s 1s/step - loss: 0.4764 - acc: 0.7743 - val_loss: 0.5028 - val_acc: 0.7580\n",
            "Epoch 10/50\n",
            "1577/1577 [==============================] - 2320s 1s/step - loss: 0.4722 - acc: 0.7767 - val_loss: 0.5019 - val_acc: 0.7558\n",
            "Epoch 11/50\n",
            "1577/1577 [==============================] - 2316s 1s/step - loss: 0.4700 - acc: 0.7776 - val_loss: 0.4927 - val_acc: 0.7605\n",
            "Epoch 12/50\n",
            "1577/1577 [==============================] - 2276s 1s/step - loss: 0.4667 - acc: 0.7781 - val_loss: 0.4899 - val_acc: 0.7596\n",
            "Epoch 13/50\n",
            "1577/1577 [==============================] - 2264s 1s/step - loss: 0.4660 - acc: 0.7789 - val_loss: 0.4942 - val_acc: 0.7600\n",
            "Epoch 14/50\n",
            "1577/1577 [==============================] - 2278s 1s/step - loss: 0.4642 - acc: 0.7793 - val_loss: 0.4890 - val_acc: 0.7600\n",
            "Epoch 15/50\n",
            "1577/1577 [==============================] - 2265s 1s/step - loss: 0.4638 - acc: 0.7791 - val_loss: 0.4921 - val_acc: 0.7609\n",
            "Epoch 16/50\n",
            "1577/1577 [==============================] - 2255s 1s/step - loss: 0.4636 - acc: 0.7794 - val_loss: 0.4912 - val_acc: 0.7587\n",
            "Epoch 17/50\n",
            "1577/1577 [==============================] - 2252s 1s/step - loss: 0.4628 - acc: 0.7800 - val_loss: 0.5035 - val_acc: 0.7584\n",
            "Epoch 18/50\n",
            "1506/1577 [===========================>..] - ETA: 1:40 - loss: 0.4629 - acc: 0.7802"
          ]
        }
      ],
      "source": [
        "history = train(model, 50)"
      ]
    },
    {
      "cell_type": "markdown",
      "metadata": {
        "id": "Gnoq1VNSQVE6"
      },
      "source": [
        "# Model 5: First GRU Model <a class=\"anchor\" id=\"model7\"></a>\n",
        "-----------------"
      ]
    },
    {
      "cell_type": "code",
      "execution_count": null,
      "metadata": {
        "colab": {
          "base_uri": "https://localhost:8080/"
        },
        "id": "h1JEPGh85dzs",
        "outputId": "1e1a2d31-f87d-4368-ec6a-853626d68cd9"
      },
      "outputs": [
        {
          "output_type": "stream",
          "name": "stdout",
          "text": [
            "Model: \"sequential_5\"\n",
            "_________________________________________________________________\n",
            " Layer (type)                Output Shape              Param #   \n",
            "=================================================================\n",
            " embedding_5 (Embedding)     (None, None, 8)           120000    \n",
            "                                                                 \n",
            " gru_8 (GRU)                 (None, 32)                4032      \n",
            "                                                                 \n",
            " dense_5 (Dense)             (None, 1)                 33        \n",
            "                                                                 \n",
            "=================================================================\n",
            "Total params: 124,065\n",
            "Trainable params: 124,065\n",
            "Non-trainable params: 0\n",
            "_________________________________________________________________\n"
          ]
        }
      ],
      "source": [
        "model = build_GRU(0.2, 0.2)"
      ]
    },
    {
      "cell_type": "code",
      "execution_count": null,
      "metadata": {
        "colab": {
          "base_uri": "https://localhost:8080/"
        },
        "id": "cHqgy2aU2YFM",
        "outputId": "240a4054-1598-45f4-b52e-bd4cf7b6647c"
      },
      "outputs": [
        {
          "output_type": "stream",
          "name": "stdout",
          "text": [
            "Epoch 1/50\n",
            "1577/1577 [==============================] - 888s 561ms/step - loss: 0.6111 - acc: 0.6659 - val_loss: 0.5545 - val_acc: 0.7312\n",
            "Epoch 2/50\n",
            "1577/1577 [==============================] - 885s 561ms/step - loss: 0.5287 - acc: 0.7449 - val_loss: 0.5158 - val_acc: 0.7501\n",
            "Epoch 3/50\n",
            "1577/1577 [==============================] - 890s 564ms/step - loss: 0.5013 - acc: 0.7594 - val_loss: 0.5020 - val_acc: 0.7546\n",
            "Epoch 4/50\n",
            "1577/1577 [==============================] - 884s 560ms/step - loss: 0.4868 - acc: 0.7675 - val_loss: 0.5021 - val_acc: 0.7524\n",
            "Epoch 5/50\n",
            "1577/1577 [==============================] - 888s 563ms/step - loss: 0.4758 - acc: 0.7738 - val_loss: 0.4925 - val_acc: 0.7589\n",
            "Epoch 6/50\n",
            "1577/1577 [==============================] - 888s 563ms/step - loss: 0.4676 - acc: 0.7794 - val_loss: 0.4902 - val_acc: 0.7637\n",
            "Epoch 7/50\n",
            "1577/1577 [==============================] - 889s 564ms/step - loss: 0.4607 - acc: 0.7834 - val_loss: 0.4877 - val_acc: 0.7627\n",
            "Epoch 8/50\n",
            "1577/1577 [==============================] - 889s 564ms/step - loss: 0.4560 - acc: 0.7858 - val_loss: 0.4891 - val_acc: 0.7649\n",
            "Epoch 9/50\n",
            "1577/1577 [==============================] - 890s 564ms/step - loss: 0.4514 - acc: 0.7885 - val_loss: 0.4885 - val_acc: 0.7634\n",
            "Epoch 10/50\n",
            "1577/1577 [==============================] - 892s 566ms/step - loss: 0.4473 - acc: 0.7919 - val_loss: 0.4847 - val_acc: 0.7652\n",
            "Epoch 11/50\n",
            "1577/1577 [==============================] - 891s 565ms/step - loss: 0.4437 - acc: 0.7937 - val_loss: 0.4888 - val_acc: 0.7644\n",
            "Epoch 12/50\n",
            "1577/1577 [==============================] - 893s 566ms/step - loss: 0.4413 - acc: 0.7949 - val_loss: 0.4927 - val_acc: 0.7623\n",
            "Epoch 13/50\n",
            "1577/1577 [==============================] - 890s 564ms/step - loss: 0.4393 - acc: 0.7959 - val_loss: 0.4882 - val_acc: 0.7627\n",
            "Epoch 14/50\n",
            "1577/1577 [==============================] - 891s 565ms/step - loss: 0.4374 - acc: 0.7972 - val_loss: 0.4941 - val_acc: 0.7630\n",
            "Epoch 15/50\n",
            "1577/1577 [==============================] - 887s 563ms/step - loss: 0.4359 - acc: 0.7985 - val_loss: 0.5055 - val_acc: 0.7600\n"
          ]
        }
      ],
      "source": [
        "history = train(model, 50)"
      ]
    },
    {
      "cell_type": "code",
      "execution_count": null,
      "metadata": {
        "id": "JaUU91OT2X7_"
      },
      "outputs": [],
      "source": [
        "plot_outputs()"
      ]
    },
    {
      "cell_type": "markdown",
      "metadata": {
        "id": "fcBZaw3BC2og"
      },
      "source": [
        "# Tuning: Learning Rate <a class=\"anchor\" id=\"Learning-Rate\"></a>\n",
        "----------------------------"
      ]
    },
    {
      "cell_type": "markdown",
      "metadata": {
        "id": "o0lBz6h6F00f"
      },
      "source": [
        "## Model 6: 0.003 <a class=\"anchor\" id=\"model8\"></a>\n",
        "-----------------"
      ]
    },
    {
      "cell_type": "code",
      "execution_count": null,
      "metadata": {
        "colab": {
          "base_uri": "https://localhost:8080/"
        },
        "id": "My-6PlgUF6F9",
        "outputId": "a2a89c21-c8b6-4c26-86ee-d45b6b6e69ff"
      },
      "outputs": [
        {
          "output_type": "stream",
          "name": "stdout",
          "text": [
            "Model: \"sequential_6\"\n",
            "_________________________________________________________________\n",
            " Layer (type)                Output Shape              Param #   \n",
            "=================================================================\n",
            " embedding_6 (Embedding)     (None, None, 8)           120000    \n",
            "                                                                 \n",
            " gru_6 (GRU)                 (None, 32)                4032      \n",
            "                                                                 \n",
            " dense_6 (Dense)             (None, 1)                 33        \n",
            "                                                                 \n",
            "=================================================================\n",
            "Total params: 124,065\n",
            "Trainable params: 124,065\n",
            "Non-trainable params: 0\n",
            "_________________________________________________________________\n"
          ]
        }
      ],
      "source": [
        "model = build_learning_rate(0.2, 0.2, 0.003)"
      ]
    },
    {
      "cell_type": "code",
      "execution_count": null,
      "metadata": {
        "colab": {
          "base_uri": "https://localhost:8080/",
          "height": 473
        },
        "id": "wceGNTiuF58I",
        "outputId": "5f80b26e-5fab-42b6-eff5-a569ad38e7dc"
      },
      "outputs": [
        {
          "output_type": "stream",
          "name": "stdout",
          "text": [
            "Epoch 1/50\n",
            "1577/1577 [==============================] - 1032s 652ms/step - loss: 0.6055 - acc: 0.6722 - val_loss: 0.5273 - val_acc: 0.7369\n",
            "Epoch 2/50\n",
            "1577/1577 [==============================] - 1036s 657ms/step - loss: 0.5074 - acc: 0.7517 - val_loss: 0.4959 - val_acc: 0.7621\n",
            "Epoch 3/50\n",
            "1185/1577 [=====================>........] - ETA: 4:06 - loss: 0.4793 - acc: 0.7695"
          ]
        },
        {
          "output_type": "error",
          "ename": "KeyboardInterrupt",
          "evalue": "ignored",
          "traceback": [
            "\u001b[0;31m---------------------------------------------------------------------------\u001b[0m",
            "\u001b[0;31mKeyboardInterrupt\u001b[0m                         Traceback (most recent call last)",
            "\u001b[0;32m<ipython-input-41-6517e78d3567>\u001b[0m in \u001b[0;36m<module>\u001b[0;34m()\u001b[0m\n\u001b[0;32m----> 1\u001b[0;31m \u001b[0mhistory\u001b[0m \u001b[0;34m=\u001b[0m \u001b[0mtrain\u001b[0m\u001b[0;34m(\u001b[0m\u001b[0mmodel\u001b[0m\u001b[0;34m,\u001b[0m \u001b[0;36m50\u001b[0m\u001b[0;34m)\u001b[0m\u001b[0;34m\u001b[0m\u001b[0;34m\u001b[0m\u001b[0m\n\u001b[0m",
            "\u001b[0;32m<ipython-input-21-0e18f5e1a53b>\u001b[0m in \u001b[0;36mtrain\u001b[0;34m(model, epoch)\u001b[0m\n\u001b[1;32m      4\u001b[0m                    \u001b[0mbatch_size\u001b[0m \u001b[0;34m=\u001b[0m \u001b[0;36m128\u001b[0m\u001b[0;34m,\u001b[0m\u001b[0;34m\u001b[0m\u001b[0;34m\u001b[0m\u001b[0m\n\u001b[1;32m      5\u001b[0m                    \u001b[0mcallbacks\u001b[0m \u001b[0;34m=\u001b[0m \u001b[0mcallbacks_list\u001b[0m\u001b[0;34m,\u001b[0m\u001b[0;34m\u001b[0m\u001b[0;34m\u001b[0m\u001b[0m\n\u001b[0;32m----> 6\u001b[0;31m                    validation_data = (x_val, y_val))\n\u001b[0m",
            "\u001b[0;32m/usr/local/lib/python3.7/dist-packages/keras/utils/traceback_utils.py\u001b[0m in \u001b[0;36merror_handler\u001b[0;34m(*args, **kwargs)\u001b[0m\n\u001b[1;32m     62\u001b[0m     \u001b[0mfiltered_tb\u001b[0m \u001b[0;34m=\u001b[0m \u001b[0;32mNone\u001b[0m\u001b[0;34m\u001b[0m\u001b[0;34m\u001b[0m\u001b[0m\n\u001b[1;32m     63\u001b[0m     \u001b[0;32mtry\u001b[0m\u001b[0;34m:\u001b[0m\u001b[0;34m\u001b[0m\u001b[0;34m\u001b[0m\u001b[0m\n\u001b[0;32m---> 64\u001b[0;31m       \u001b[0;32mreturn\u001b[0m \u001b[0mfn\u001b[0m\u001b[0;34m(\u001b[0m\u001b[0;34m*\u001b[0m\u001b[0margs\u001b[0m\u001b[0;34m,\u001b[0m \u001b[0;34m**\u001b[0m\u001b[0mkwargs\u001b[0m\u001b[0;34m)\u001b[0m\u001b[0;34m\u001b[0m\u001b[0;34m\u001b[0m\u001b[0m\n\u001b[0m\u001b[1;32m     65\u001b[0m     \u001b[0;32mexcept\u001b[0m \u001b[0mException\u001b[0m \u001b[0;32mas\u001b[0m \u001b[0me\u001b[0m\u001b[0;34m:\u001b[0m  \u001b[0;31m# pylint: disable=broad-except\u001b[0m\u001b[0;34m\u001b[0m\u001b[0;34m\u001b[0m\u001b[0m\n\u001b[1;32m     66\u001b[0m       \u001b[0mfiltered_tb\u001b[0m \u001b[0;34m=\u001b[0m \u001b[0m_process_traceback_frames\u001b[0m\u001b[0;34m(\u001b[0m\u001b[0me\u001b[0m\u001b[0;34m.\u001b[0m\u001b[0m__traceback__\u001b[0m\u001b[0;34m)\u001b[0m\u001b[0;34m\u001b[0m\u001b[0;34m\u001b[0m\u001b[0m\n",
            "\u001b[0;32m/usr/local/lib/python3.7/dist-packages/keras/engine/training.py\u001b[0m in \u001b[0;36mfit\u001b[0;34m(self, x, y, batch_size, epochs, verbose, callbacks, validation_split, validation_data, shuffle, class_weight, sample_weight, initial_epoch, steps_per_epoch, validation_steps, validation_batch_size, validation_freq, max_queue_size, workers, use_multiprocessing)\u001b[0m\n\u001b[1;32m   1214\u001b[0m                 _r=1):\n\u001b[1;32m   1215\u001b[0m               \u001b[0mcallbacks\u001b[0m\u001b[0;34m.\u001b[0m\u001b[0mon_train_batch_begin\u001b[0m\u001b[0;34m(\u001b[0m\u001b[0mstep\u001b[0m\u001b[0;34m)\u001b[0m\u001b[0;34m\u001b[0m\u001b[0;34m\u001b[0m\u001b[0m\n\u001b[0;32m-> 1216\u001b[0;31m               \u001b[0mtmp_logs\u001b[0m \u001b[0;34m=\u001b[0m \u001b[0mself\u001b[0m\u001b[0;34m.\u001b[0m\u001b[0mtrain_function\u001b[0m\u001b[0;34m(\u001b[0m\u001b[0miterator\u001b[0m\u001b[0;34m)\u001b[0m\u001b[0;34m\u001b[0m\u001b[0;34m\u001b[0m\u001b[0m\n\u001b[0m\u001b[1;32m   1217\u001b[0m               \u001b[0;32mif\u001b[0m \u001b[0mdata_handler\u001b[0m\u001b[0;34m.\u001b[0m\u001b[0mshould_sync\u001b[0m\u001b[0;34m:\u001b[0m\u001b[0;34m\u001b[0m\u001b[0;34m\u001b[0m\u001b[0m\n\u001b[1;32m   1218\u001b[0m                 \u001b[0mcontext\u001b[0m\u001b[0;34m.\u001b[0m\u001b[0masync_wait\u001b[0m\u001b[0;34m(\u001b[0m\u001b[0;34m)\u001b[0m\u001b[0;34m\u001b[0m\u001b[0;34m\u001b[0m\u001b[0m\n",
            "\u001b[0;32m/usr/local/lib/python3.7/dist-packages/tensorflow/python/util/traceback_utils.py\u001b[0m in \u001b[0;36merror_handler\u001b[0;34m(*args, **kwargs)\u001b[0m\n\u001b[1;32m    148\u001b[0m     \u001b[0mfiltered_tb\u001b[0m \u001b[0;34m=\u001b[0m \u001b[0;32mNone\u001b[0m\u001b[0;34m\u001b[0m\u001b[0;34m\u001b[0m\u001b[0m\n\u001b[1;32m    149\u001b[0m     \u001b[0;32mtry\u001b[0m\u001b[0;34m:\u001b[0m\u001b[0;34m\u001b[0m\u001b[0;34m\u001b[0m\u001b[0m\n\u001b[0;32m--> 150\u001b[0;31m       \u001b[0;32mreturn\u001b[0m \u001b[0mfn\u001b[0m\u001b[0;34m(\u001b[0m\u001b[0;34m*\u001b[0m\u001b[0margs\u001b[0m\u001b[0;34m,\u001b[0m \u001b[0;34m**\u001b[0m\u001b[0mkwargs\u001b[0m\u001b[0;34m)\u001b[0m\u001b[0;34m\u001b[0m\u001b[0;34m\u001b[0m\u001b[0m\n\u001b[0m\u001b[1;32m    151\u001b[0m     \u001b[0;32mexcept\u001b[0m \u001b[0mException\u001b[0m \u001b[0;32mas\u001b[0m \u001b[0me\u001b[0m\u001b[0;34m:\u001b[0m\u001b[0;34m\u001b[0m\u001b[0;34m\u001b[0m\u001b[0m\n\u001b[1;32m    152\u001b[0m       \u001b[0mfiltered_tb\u001b[0m \u001b[0;34m=\u001b[0m \u001b[0m_process_traceback_frames\u001b[0m\u001b[0;34m(\u001b[0m\u001b[0me\u001b[0m\u001b[0;34m.\u001b[0m\u001b[0m__traceback__\u001b[0m\u001b[0;34m)\u001b[0m\u001b[0;34m\u001b[0m\u001b[0;34m\u001b[0m\u001b[0m\n",
            "\u001b[0;32m/usr/local/lib/python3.7/dist-packages/tensorflow/python/eager/def_function.py\u001b[0m in \u001b[0;36m__call__\u001b[0;34m(self, *args, **kwds)\u001b[0m\n\u001b[1;32m    908\u001b[0m \u001b[0;34m\u001b[0m\u001b[0m\n\u001b[1;32m    909\u001b[0m       \u001b[0;32mwith\u001b[0m \u001b[0mOptionalXlaContext\u001b[0m\u001b[0;34m(\u001b[0m\u001b[0mself\u001b[0m\u001b[0;34m.\u001b[0m\u001b[0m_jit_compile\u001b[0m\u001b[0;34m)\u001b[0m\u001b[0;34m:\u001b[0m\u001b[0;34m\u001b[0m\u001b[0;34m\u001b[0m\u001b[0m\n\u001b[0;32m--> 910\u001b[0;31m         \u001b[0mresult\u001b[0m \u001b[0;34m=\u001b[0m \u001b[0mself\u001b[0m\u001b[0;34m.\u001b[0m\u001b[0m_call\u001b[0m\u001b[0;34m(\u001b[0m\u001b[0;34m*\u001b[0m\u001b[0margs\u001b[0m\u001b[0;34m,\u001b[0m \u001b[0;34m**\u001b[0m\u001b[0mkwds\u001b[0m\u001b[0;34m)\u001b[0m\u001b[0;34m\u001b[0m\u001b[0;34m\u001b[0m\u001b[0m\n\u001b[0m\u001b[1;32m    911\u001b[0m \u001b[0;34m\u001b[0m\u001b[0m\n\u001b[1;32m    912\u001b[0m       \u001b[0mnew_tracing_count\u001b[0m \u001b[0;34m=\u001b[0m \u001b[0mself\u001b[0m\u001b[0;34m.\u001b[0m\u001b[0mexperimental_get_tracing_count\u001b[0m\u001b[0;34m(\u001b[0m\u001b[0;34m)\u001b[0m\u001b[0;34m\u001b[0m\u001b[0;34m\u001b[0m\u001b[0m\n",
            "\u001b[0;32m/usr/local/lib/python3.7/dist-packages/tensorflow/python/eager/def_function.py\u001b[0m in \u001b[0;36m_call\u001b[0;34m(self, *args, **kwds)\u001b[0m\n\u001b[1;32m    940\u001b[0m       \u001b[0;31m# In this case we have created variables on the first call, so we run the\u001b[0m\u001b[0;34m\u001b[0m\u001b[0;34m\u001b[0m\u001b[0;34m\u001b[0m\u001b[0m\n\u001b[1;32m    941\u001b[0m       \u001b[0;31m# defunned version which is guaranteed to never create variables.\u001b[0m\u001b[0;34m\u001b[0m\u001b[0;34m\u001b[0m\u001b[0;34m\u001b[0m\u001b[0m\n\u001b[0;32m--> 942\u001b[0;31m       \u001b[0;32mreturn\u001b[0m \u001b[0mself\u001b[0m\u001b[0;34m.\u001b[0m\u001b[0m_stateless_fn\u001b[0m\u001b[0;34m(\u001b[0m\u001b[0;34m*\u001b[0m\u001b[0margs\u001b[0m\u001b[0;34m,\u001b[0m \u001b[0;34m**\u001b[0m\u001b[0mkwds\u001b[0m\u001b[0;34m)\u001b[0m  \u001b[0;31m# pylint: disable=not-callable\u001b[0m\u001b[0;34m\u001b[0m\u001b[0;34m\u001b[0m\u001b[0m\n\u001b[0m\u001b[1;32m    943\u001b[0m     \u001b[0;32melif\u001b[0m \u001b[0mself\u001b[0m\u001b[0;34m.\u001b[0m\u001b[0m_stateful_fn\u001b[0m \u001b[0;32mis\u001b[0m \u001b[0;32mnot\u001b[0m \u001b[0;32mNone\u001b[0m\u001b[0;34m:\u001b[0m\u001b[0;34m\u001b[0m\u001b[0;34m\u001b[0m\u001b[0m\n\u001b[1;32m    944\u001b[0m       \u001b[0;31m# Release the lock early so that multiple threads can perform the call\u001b[0m\u001b[0;34m\u001b[0m\u001b[0;34m\u001b[0m\u001b[0;34m\u001b[0m\u001b[0m\n",
            "\u001b[0;32m/usr/local/lib/python3.7/dist-packages/tensorflow/python/eager/function.py\u001b[0m in \u001b[0;36m__call__\u001b[0;34m(self, *args, **kwargs)\u001b[0m\n\u001b[1;32m   3129\u001b[0m        filtered_flat_args) = self._maybe_define_function(args, kwargs)\n\u001b[1;32m   3130\u001b[0m     return graph_function._call_flat(\n\u001b[0;32m-> 3131\u001b[0;31m         filtered_flat_args, captured_inputs=graph_function.captured_inputs)  # pylint: disable=protected-access\n\u001b[0m\u001b[1;32m   3132\u001b[0m \u001b[0;34m\u001b[0m\u001b[0m\n\u001b[1;32m   3133\u001b[0m   \u001b[0;34m@\u001b[0m\u001b[0mproperty\u001b[0m\u001b[0;34m\u001b[0m\u001b[0;34m\u001b[0m\u001b[0m\n",
            "\u001b[0;32m/usr/local/lib/python3.7/dist-packages/tensorflow/python/eager/function.py\u001b[0m in \u001b[0;36m_call_flat\u001b[0;34m(self, args, captured_inputs, cancellation_manager)\u001b[0m\n\u001b[1;32m   1958\u001b[0m       \u001b[0;31m# No tape is watching; skip to running the function.\u001b[0m\u001b[0;34m\u001b[0m\u001b[0;34m\u001b[0m\u001b[0;34m\u001b[0m\u001b[0m\n\u001b[1;32m   1959\u001b[0m       return self._build_call_outputs(self._inference_function.call(\n\u001b[0;32m-> 1960\u001b[0;31m           ctx, args, cancellation_manager=cancellation_manager))\n\u001b[0m\u001b[1;32m   1961\u001b[0m     forward_backward = self._select_forward_and_backward_functions(\n\u001b[1;32m   1962\u001b[0m         \u001b[0margs\u001b[0m\u001b[0;34m,\u001b[0m\u001b[0;34m\u001b[0m\u001b[0;34m\u001b[0m\u001b[0m\n",
            "\u001b[0;32m/usr/local/lib/python3.7/dist-packages/tensorflow/python/eager/function.py\u001b[0m in \u001b[0;36mcall\u001b[0;34m(self, ctx, args, cancellation_manager)\u001b[0m\n\u001b[1;32m    601\u001b[0m               \u001b[0minputs\u001b[0m\u001b[0;34m=\u001b[0m\u001b[0margs\u001b[0m\u001b[0;34m,\u001b[0m\u001b[0;34m\u001b[0m\u001b[0;34m\u001b[0m\u001b[0m\n\u001b[1;32m    602\u001b[0m               \u001b[0mattrs\u001b[0m\u001b[0;34m=\u001b[0m\u001b[0mattrs\u001b[0m\u001b[0;34m,\u001b[0m\u001b[0;34m\u001b[0m\u001b[0;34m\u001b[0m\u001b[0m\n\u001b[0;32m--> 603\u001b[0;31m               ctx=ctx)\n\u001b[0m\u001b[1;32m    604\u001b[0m         \u001b[0;32melse\u001b[0m\u001b[0;34m:\u001b[0m\u001b[0;34m\u001b[0m\u001b[0;34m\u001b[0m\u001b[0m\n\u001b[1;32m    605\u001b[0m           outputs = execute.execute_with_cancellation(\n",
            "\u001b[0;32m/usr/local/lib/python3.7/dist-packages/tensorflow/python/eager/execute.py\u001b[0m in \u001b[0;36mquick_execute\u001b[0;34m(op_name, num_outputs, inputs, attrs, ctx, name)\u001b[0m\n\u001b[1;32m     57\u001b[0m     \u001b[0mctx\u001b[0m\u001b[0;34m.\u001b[0m\u001b[0mensure_initialized\u001b[0m\u001b[0;34m(\u001b[0m\u001b[0;34m)\u001b[0m\u001b[0;34m\u001b[0m\u001b[0;34m\u001b[0m\u001b[0m\n\u001b[1;32m     58\u001b[0m     tensors = pywrap_tfe.TFE_Py_Execute(ctx._handle, device_name, op_name,\n\u001b[0;32m---> 59\u001b[0;31m                                         inputs, attrs, num_outputs)\n\u001b[0m\u001b[1;32m     60\u001b[0m   \u001b[0;32mexcept\u001b[0m \u001b[0mcore\u001b[0m\u001b[0;34m.\u001b[0m\u001b[0m_NotOkStatusException\u001b[0m \u001b[0;32mas\u001b[0m \u001b[0me\u001b[0m\u001b[0;34m:\u001b[0m\u001b[0;34m\u001b[0m\u001b[0;34m\u001b[0m\u001b[0m\n\u001b[1;32m     61\u001b[0m     \u001b[0;32mif\u001b[0m \u001b[0mname\u001b[0m \u001b[0;32mis\u001b[0m \u001b[0;32mnot\u001b[0m \u001b[0;32mNone\u001b[0m\u001b[0;34m:\u001b[0m\u001b[0;34m\u001b[0m\u001b[0;34m\u001b[0m\u001b[0m\n",
            "\u001b[0;31mKeyboardInterrupt\u001b[0m: "
          ]
        }
      ],
      "source": [
        "history = train(model, 50)"
      ]
    },
    {
      "cell_type": "code",
      "execution_count": null,
      "metadata": {
        "id": "HYFMM8INF5ws"
      },
      "outputs": [],
      "source": [
        "plot_outputs()"
      ]
    },
    {
      "cell_type": "markdown",
      "metadata": {
        "id": "hUsNfyxdF6ny"
      },
      "source": [
        "## Model 7: 0.006 <a class=\"anchor\" id=\"model9\"></a>\n",
        "--------------"
      ]
    },
    {
      "cell_type": "code",
      "execution_count": null,
      "metadata": {
        "id": "FC3POfNPF-Kp"
      },
      "outputs": [],
      "source": [
        "model = build_learning_rate(0.2, 0.2, 0.006)"
      ]
    },
    {
      "cell_type": "code",
      "execution_count": null,
      "metadata": {
        "colab": {
          "base_uri": "https://localhost:8080/"
        },
        "id": "1IOV53vnF9_x",
        "outputId": "9b8cb737-13b1-4e4d-ce4f-35a263fc5c6b"
      },
      "outputs": [
        {
          "output_type": "stream",
          "name": "stdout",
          "text": [
            "Epoch 1/50\n",
            "1577/1577 [==============================] - 1017s 641ms/step - loss: 0.5758 - acc: 0.6913 - val_loss: 0.5266 - val_acc: 0.7330\n",
            "Epoch 2/50\n",
            "1577/1577 [==============================] - 1030s 653ms/step - loss: 0.4912 - acc: 0.7620 - val_loss: 0.4880 - val_acc: 0.7622\n",
            "Epoch 3/50\n",
            "1577/1577 [==============================] - 1024s 649ms/step - loss: 0.4711 - acc: 0.7745 - val_loss: 0.4909 - val_acc: 0.7590\n",
            "Epoch 4/50\n",
            "1577/1577 [==============================] - 1029s 653ms/step - loss: 0.4616 - acc: 0.7810 - val_loss: 0.4952 - val_acc: 0.7573\n",
            "Epoch 5/50\n",
            "1577/1577 [==============================] - 1019s 646ms/step - loss: 0.4546 - acc: 0.7849 - val_loss: 0.4876 - val_acc: 0.7647\n",
            "Epoch 6/50\n",
            "1577/1577 [==============================] - 1023s 648ms/step - loss: 0.4499 - acc: 0.7882 - val_loss: 0.4849 - val_acc: 0.7640\n",
            "Epoch 7/50\n",
            "1577/1577 [==============================] - 1028s 652ms/step - loss: 0.4446 - acc: 0.7919 - val_loss: 0.4978 - val_acc: 0.7633\n",
            "Epoch 8/50\n",
            "1577/1577 [==============================] - 1023s 649ms/step - loss: 0.4409 - acc: 0.7941 - val_loss: 0.4893 - val_acc: 0.7654\n",
            "Epoch 9/50\n",
            "1577/1577 [==============================] - 1023s 649ms/step - loss: 0.4378 - acc: 0.7960 - val_loss: 0.4905 - val_acc: 0.7645\n",
            "Epoch 10/50\n",
            "1577/1577 [==============================] - 1017s 645ms/step - loss: 0.4339 - acc: 0.7997 - val_loss: 0.4951 - val_acc: 0.7617\n",
            "Epoch 11/50\n",
            "1577/1577 [==============================] - 1026s 650ms/step - loss: 0.4310 - acc: 0.8001 - val_loss: 0.4918 - val_acc: 0.7639\n"
          ]
        }
      ],
      "source": [
        "history = train(model, 50)"
      ]
    },
    {
      "cell_type": "code",
      "execution_count": null,
      "metadata": {
        "colab": {
          "base_uri": "https://localhost:8080/",
          "height": 545
        },
        "id": "Zm1ZzSO3F90e",
        "outputId": "73c93798-8767-4384-dcdf-0c8625eb365f"
      },
      "outputs": [
        {
          "output_type": "display_data",
          "data": {
            "image/png": "[encoded data removed]",
            "text/plain": [
              "<Figure size 432x288 with 1 Axes>"
            ]
          },
          "metadata": {
            "needs_background": "light"
          }
        },
        {
          "output_type": "display_data",
          "data": {
            "image/png": "[encoded data removed]",
            "text/plain": [
              "<Figure size 432x288 with 1 Axes>"
            ]
          },
          "metadata": {
            "needs_background": "light"
          }
        }
      ],
      "source": [
        "plot_outputs()"
      ]
    },
    {
      "cell_type": "markdown",
      "metadata": {
        "id": "Zjtf-Hn8F-mh"
      },
      "source": [
        "## Model 8: 0.004 <a class=\"anchor\" id=\"model10\"></a>\n",
        "----------------"
      ]
    },
    {
      "cell_type": "code",
      "execution_count": null,
      "metadata": {
        "colab": {
          "base_uri": "https://localhost:8080/"
        },
        "id": "e1_Ecb8TGFE-",
        "outputId": "1464fdc2-a18c-4edc-9ae2-72bdb6eebd5c"
      },
      "outputs": [
        {
          "output_type": "stream",
          "name": "stdout",
          "text": [
            "Model: \"sequential_2\"\n",
            "_________________________________________________________________\n",
            " Layer (type)                Output Shape              Param #   \n",
            "=================================================================\n",
            " embedding_2 (Embedding)     (None, None, 8)           120000    \n",
            "                                                                 \n",
            " gru_2 (GRU)                 (None, 32)                4032      \n",
            "                                                                 \n",
            " dense_2 (Dense)             (None, 1)                 33        \n",
            "                                                                 \n",
            "=================================================================\n",
            "Total params: 124,065\n",
            "Trainable params: 124,065\n",
            "Non-trainable params: 0\n",
            "_________________________________________________________________\n"
          ]
        }
      ],
      "source": [
        "model = build_learning_rate(0.4, 0.4, 0.004)"
      ]
    },
    {
      "cell_type": "code",
      "execution_count": null,
      "metadata": {
        "colab": {
          "base_uri": "https://localhost:8080/"
        },
        "id": "W_tc1ShUGE8Y",
        "outputId": "2f88c725-0e75-428b-b6c2-cc4feb712e78"
      },
      "outputs": [
        {
          "output_type": "stream",
          "name": "stdout",
          "text": [
            "Epoch 1/50\n",
            "1577/1577 [==============================] - 1043s 659ms/step - loss: 0.6215 - acc: 0.6486 - val_loss: 0.5264 - val_acc: 0.7449\n",
            "Epoch 2/50\n",
            "1577/1577 [==============================] - 1017s 645ms/step - loss: 0.5154 - acc: 0.7459 - val_loss: 0.4993 - val_acc: 0.7572\n",
            "Epoch 3/50\n",
            "1577/1577 [==============================] - 998s 633ms/step - loss: 0.4878 - acc: 0.7641 - val_loss: 0.4841 - val_acc: 0.7642\n",
            "Epoch 4/50\n",
            "1577/1577 [==============================] - 1020s 647ms/step - loss: 0.4774 - acc: 0.7712 - val_loss: 0.4960 - val_acc: 0.7584\n",
            "Epoch 5/50\n",
            "1577/1577 [==============================] - 1022s 648ms/step - loss: 0.4690 - acc: 0.7754 - val_loss: 0.4857 - val_acc: 0.7637\n",
            "Epoch 6/50\n",
            "1577/1577 [==============================] - 1019s 646ms/step - loss: 0.4637 - acc: 0.7793 - val_loss: 0.4940 - val_acc: 0.7584\n",
            "Epoch 7/50\n",
            "1577/1577 [==============================] - 1032s 654ms/step - loss: 0.4599 - acc: 0.7818 - val_loss: 0.4852 - val_acc: 0.7647\n",
            "Epoch 8/50\n",
            "1577/1577 [==============================] - 1022s 648ms/step - loss: 0.4564 - acc: 0.7845 - val_loss: 0.4886 - val_acc: 0.7632\n"
          ]
        }
      ],
      "source": [
        "history = train(model, 50)"
      ]
    },
    {
      "cell_type": "code",
      "execution_count": null,
      "metadata": {
        "colab": {
          "base_uri": "https://localhost:8080/",
          "height": 545
        },
        "id": "HbH7IgqoGEyR",
        "outputId": "adcea7cb-9bc8-4e19-f6fb-62caeb427a3c"
      },
      "outputs": [
        {
          "output_type": "display_data",
          "data": {
            "image/png": "[encoded data removed]",
            "text/plain": [
              "<Figure size 432x288 with 1 Axes>"
            ]
          },
          "metadata": {
            "needs_background": "light"
          }
        },
        {
          "output_type": "display_data",
          "data": {
            "image/png": "[encoded data removed]",
            "text/plain": [
              "<Figure size 432x288 with 1 Axes>"
            ]
          },
          "metadata": {
            "needs_background": "light"
          }
        }
      ],
      "source": [
        "plot_outputs()"
      ]
    },
    {
      "cell_type": "markdown",
      "source": [
        "## Model 9: 0.01 <a class=\"anchor\" id=\"model11\"></a>\n",
        "-----------------"
      ],
      "metadata": {
        "id": "Lmp53e4YCP7U"
      }
    },
    {
      "cell_type": "code",
      "source": [
        "model = build_learning_rate(0.4, 0.4, 0.01)"
      ],
      "metadata": {
        "colab": {
          "base_uri": "https://localhost:8080/"
        },
        "id": "MaIHjBWU0ava",
        "outputId": "27efae52-dff5-4209-83a9-e836b1e2c1c3"
      },
      "execution_count": null,
      "outputs": [
        {
          "output_type": "stream",
          "name": "stdout",
          "text": [
            "Model: \"sequential_4\"\n",
            "_________________________________________________________________\n",
            " Layer (type)                Output Shape              Param #   \n",
            "=================================================================\n",
            " embedding_4 (Embedding)     (None, None, 8)           120000    \n",
            "                                                                 \n",
            " gru_4 (GRU)                 (None, 32)                4032      \n",
            "                                                                 \n",
            " dense_4 (Dense)             (None, 1)                 33        \n",
            "                                                                 \n",
            "=================================================================\n",
            "Total params: 124,065\n",
            "Trainable params: 124,065\n",
            "Non-trainable params: 0\n",
            "_________________________________________________________________\n"
          ]
        }
      ]
    },
    {
      "cell_type": "code",
      "source": [
        "history = train(model, 50)"
      ],
      "metadata": {
        "colab": {
          "base_uri": "https://localhost:8080/"
        },
        "id": "LQKOiqeaVQIe",
        "outputId": "6d7f7fb6-2e88-4089-92a5-519f4cbdc31b"
      },
      "execution_count": null,
      "outputs": [
        {
          "output_type": "stream",
          "name": "stdout",
          "text": [
            "Epoch 1/50\n",
            "1577/1577 [==============================] - 1015s 641ms/step - loss: 0.5717 - acc: 0.6912 - val_loss: 0.5119 - val_acc: 0.7468\n",
            "Epoch 2/50\n",
            "1577/1577 [==============================] - 1008s 639ms/step - loss: 0.4967 - acc: 0.7584 - val_loss: 0.5068 - val_acc: 0.7509\n",
            "Epoch 3/50\n",
            "1577/1577 [==============================] - 1017s 645ms/step - loss: 0.4817 - acc: 0.7681 - val_loss: 0.4933 - val_acc: 0.7611\n",
            "Epoch 4/50\n",
            "1577/1577 [==============================] - 1027s 651ms/step - loss: 0.4752 - acc: 0.7722 - val_loss: 0.4853 - val_acc: 0.7635\n",
            "Epoch 5/50\n",
            "1577/1577 [==============================] - 1017s 645ms/step - loss: 0.4715 - acc: 0.7746 - val_loss: 0.4849 - val_acc: 0.7637\n",
            "Epoch 6/50\n",
            "1577/1577 [==============================] - 1020s 647ms/step - loss: 0.4677 - acc: 0.7776 - val_loss: 0.4899 - val_acc: 0.7628\n",
            "Epoch 7/50\n",
            "1577/1577 [==============================] - 1020s 647ms/step - loss: 0.4651 - acc: 0.7795 - val_loss: 0.4930 - val_acc: 0.7615\n",
            "Epoch 8/50\n",
            "1577/1577 [==============================] - 1024s 649ms/step - loss: 0.4637 - acc: 0.7806 - val_loss: 0.4895 - val_acc: 0.7627\n",
            "Epoch 9/50\n",
            "1577/1577 [==============================] - 1042s 660ms/step - loss: 0.4621 - acc: 0.7803 - val_loss: 0.4953 - val_acc: 0.7600\n",
            "Epoch 10/50\n",
            "1577/1577 [==============================] - 1023s 649ms/step - loss: 0.4604 - acc: 0.7829 - val_loss: 0.4924 - val_acc: 0.7613\n"
          ]
        }
      ]
    },
    {
      "cell_type": "code",
      "source": [
        "plot_outputs()"
      ],
      "metadata": {
        "colab": {
          "base_uri": "https://localhost:8080/",
          "height": 545
        },
        "id": "vtEvfI-V0cRz",
        "outputId": "f14838db-963d-4e1b-e258-9a5396108917"
      },
      "execution_count": null,
      "outputs": [
        {
          "output_type": "display_data",
          "data": {
            "image/png": "[encoded data removed]",
            "text/plain": [
              "<Figure size 432x288 with 1 Axes>"
            ]
          },
          "metadata": {
            "needs_background": "light"
          }
        },
        {
          "output_type": "display_data",
          "data": {
            "image/png": "[encoded data removed]",
            "text/plain": [
              "<Figure size 432x288 with 1 Axes>"
            ]
          },
          "metadata": {
            "needs_background": "light"
          }
        }
      ]
    },
    {
      "cell_type": "markdown",
      "metadata": {
        "id": "3ElnyykVD6Lf"
      },
      "source": [
        "# Training Final Model <a class=\"anchor\" id=\"FinalModel\"></a>\n",
        "-----------------------------------"
      ]
    },
    {
      "cell_type": "code",
      "execution_count": null,
      "metadata": {
        "colab": {
          "base_uri": "https://localhost:8080/"
        },
        "outputId": "ab86b3da-893e-4a29-c301-bb6090255a73",
        "id": "ejvlsAUZCtrP"
      },
      "outputs": [
        {
          "output_type": "stream",
          "name": "stdout",
          "text": [
            "Model: \"sequential\"\n",
            "_________________________________________________________________\n",
            " Layer (type)                Output Shape              Param #   \n",
            "=================================================================\n",
            " embedding (Embedding)       (None, None, 8)           120000    \n",
            "                                                                 \n",
            " gru (GRU)                   (None, 32)                4032      \n",
            "                                                                 \n",
            " dense (Dense)               (None, 1)                 33        \n",
            "                                                                 \n",
            "=================================================================\n",
            "Total params: 124,065\n",
            "Trainable params: 124,065\n",
            "Non-trainable params: 0\n",
            "_________________________________________________________________\n"
          ]
        }
      ],
      "source": [
        "model = build_learning_rate(0.2, 0.2, 0.003)"
      ]
    },
    {
      "cell_type": "code",
      "execution_count": null,
      "metadata": {
        "colab": {
          "base_uri": "https://localhost:8080/"
        },
        "outputId": "8af56950-90f1-4d96-d01a-39be060981a3",
        "id": "7tj59HdBCtrY"
      },
      "outputs": [
        {
          "output_type": "stream",
          "name": "stdout",
          "text": [
            "1968/1968 [==============================] - 1242s 629ms/step - loss: 0.5900 - acc: 0.6874\n"
          ]
        }
      ],
      "source": [
        "history = train_final_model(model, 1)"
      ]
    },
    {
      "cell_type": "code",
      "execution_count": null,
      "metadata": {
        "colab": {
          "base_uri": "https://localhost:8080/"
        },
        "outputId": "cdb90f4c-2163-4d3d-a0ef-1ac10c96801c",
        "id": "XQ9EGjdQCtrd"
      },
      "outputs": [
        {
          "output_type": "stream",
          "name": "stdout",
          "text": [
            "1563/1563 [==============================] - 85s 54ms/step - loss: 0.5257 - acc: 0.7336\n"
          ]
        }
      ],
      "source": [
        "results = evaluate()"
      ]
    },
    {
      "cell_type": "code",
      "source": [
        "%%shell\n",
        "jupyter nbconvert --to html /content/LSTMGRULayers.ipynb"
      ],
      "metadata": {
        "id": "70OswE73grx-",
        "outputId": "24c98023-3650-4c73-c2be-d9350abae27d",
        "colab": {
          "base_uri": "https://localhost:8080/"
        }
      },
      "execution_count": null,
      "outputs": [
        {
          "output_type": "stream",
          "name": "stdout",
          "text": [
            "[NbConvertApp] Converting notebook /content/LSTMGRULayers.ipynb to html\n",
            "[NbConvertApp] Writing 621334 bytes to /content/LSTMGRULayers.html\n"
          ]
        },
        {
          "output_type": "execute_result",
          "data": {
            "text/plain": [
              ""
            ]
          },
          "metadata": {},
          "execution_count": 3
        }
      ]
    }
  ],
  "metadata": {
    "colab": {
      "collapsed_sections": [],
      "name": "LSTMGRULayers.ipynb",
      "provenance": [],
      "authorship_tag": "ABX9TyPgpkwcbmqDCaDol10dMy9K",
      "include_colab_link": true
    },
    "kernelspec": {
      "display_name": "Python 3",
      "name": "python3"
    },
    "language_info": {
      "name": "python"
    }
  },
  "nbformat": 4,
  "nbformat_minor": 0
}