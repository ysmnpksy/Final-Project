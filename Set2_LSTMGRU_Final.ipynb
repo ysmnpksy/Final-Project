{
  "cells": [
    {
      "cell_type": "markdown",
      "metadata": {
        "id": "view-in-github",
        "colab_type": "text"
      },
      "source": [
        "<a href=\"https://colab.research.google.com/github/ysmnpksy/Final-Project/blob/main/Set2_LSTMGRU_Final.ipynb\" target=\"_parent\"><img src=\"https://colab.research.google.com/assets/colab-badge.svg\" alt=\"Open In Colab\"/></a>"
      ]
    },
    {
      "cell_type": "markdown",
      "metadata": {
        "id": "3sLSAhakx6-X"
      },
      "source": [
        "<h1>LSTM & GRU Layers</h1>\n",
        "By Yasmin Paksoy"
      ]
    },
    {
      "cell_type": "markdown",
      "metadata": {
        "id": "hOS3anO24mLb"
      },
      "source": [
        "# Table of Contents \n",
        "  * [Preparing the Data](#section1)\n",
        "  * [Build Functions](#build)\n",
        "  * [Model 1: First LSTM Model](#model2)\n",
        "  * [Tuning: Dropout](#dropout)\n",
        "    * [Model 2: Rate 20%](#model3)\n",
        "    * [Model 3: Rate 40%](#model4)\n",
        "    * [Model 4: Rate 50%](#model5)\n",
        "  * [Tuning: Number of Layers](#layers)\n",
        "    * [Failed Model: 2 Layers](#model6)\n",
        "  * [Model 5: GRU](#model7)\n",
        "  * [Tuning Learning Rate](#Learning-Rate)\n",
        "    * [Model 6: 0.003](#model8)\n",
        "    * [Model 7: 0.006](#model9)\n",
        "    * [Model 8: 0.004](#model10)\n",
        "    * [Model 9: 0.01](#model11)\n",
        "  * [Training Final Model](#FinalModel)"
      ]
    },
    {
      "cell_type": "code",
      "execution_count": null,
      "metadata": {
        "colab": {
          "base_uri": "https://localhost:8080/",
          "height": 92,
          "resources": {
            "http://localhost:8080/nbextensions/google.colab/files.js": {
              "data": "Ly8gQ29weXJpZ2h0IDIwMTcgR29vZ2xlIExMQwovLwovLyBMaWNlbnNlZCB1bmRlciB0aGUgQXBhY2hlIExpY2Vuc2UsIFZlcnNpb24gMi4wICh0aGUgIkxpY2Vuc2UiKTsKLy8geW91IG1heSBub3QgdXNlIHRoaXMgZmlsZSBleGNlcHQgaW4gY29tcGxpYW5jZSB3aXRoIHRoZSBMaWNlbnNlLgovLyBZb3UgbWF5IG9idGFpbiBhIGNvcHkgb2YgdGhlIExpY2Vuc2UgYXQKLy8KLy8gICAgICBodHRwOi8vd3d3LmFwYWNoZS5vcmcvbGljZW5zZXMvTElDRU5TRS0yLjAKLy8KLy8gVW5sZXNzIHJlcXVpcmVkIGJ5IGFwcGxpY2FibGUgbGF3IG9yIGFncmVlZCB0byBpbiB3cml0aW5nLCBzb2Z0d2FyZQovLyBkaXN0cmlidXRlZCB1bmRlciB0aGUgTGljZW5zZSBpcyBkaXN0cmlidXRlZCBvbiBhbiAiQVMgSVMiIEJBU0lTLAovLyBXSVRIT1VUIFdBUlJBTlRJRVMgT1IgQ09ORElUSU9OUyBPRiBBTlkgS0lORCwgZWl0aGVyIGV4cHJlc3Mgb3IgaW1wbGllZC4KLy8gU2VlIHRoZSBMaWNlbnNlIGZvciB0aGUgc3BlY2lmaWMgbGFuZ3VhZ2UgZ292ZXJuaW5nIHBlcm1pc3Npb25zIGFuZAovLyBsaW1pdGF0aW9ucyB1bmRlciB0aGUgTGljZW5zZS4KCi8qKgogKiBAZmlsZW92ZXJ2aWV3IEhlbHBlcnMgZm9yIGdvb2dsZS5jb2xhYiBQeXRob24gbW9kdWxlLgogKi8KKGZ1bmN0aW9uKHNjb3BlKSB7CmZ1bmN0aW9uIHNwYW4odGV4dCwgc3R5bGVBdHRyaWJ1dGVzID0ge30pIHsKICBjb25zdCBlbGVtZW50ID0gZG9jdW1lbnQuY3JlYXRlRWxlbWVudCgnc3BhbicpOwogIGVsZW1lbnQudGV4dENvbnRlbnQgPSB0ZXh0OwogIGZvciAoY29uc3Qga2V5IG9mIE9iamVjdC5rZXlzKHN0eWxlQXR0cmlidXRlcykpIHsKICAgIGVsZW1lbnQuc3R5bGVba2V5XSA9IHN0eWxlQXR0cmlidXRlc1trZXldOwogIH0KICByZXR1cm4gZWxlbWVudDsKfQoKLy8gTWF4IG51bWJlciBvZiBieXRlcyB3aGljaCB3aWxsIGJlIHVwbG9hZGVkIGF0IGEgdGltZS4KY29uc3QgTUFYX1BBWUxPQURfU0laRSA9IDEwMCAqIDEwMjQ7CgpmdW5jdGlvbiBfdXBsb2FkRmlsZXMoaW5wdXRJZCwgb3V0cHV0SWQpIHsKICBjb25zdCBzdGVwcyA9IHVwbG9hZEZpbGVzU3RlcChpbnB1dElkLCBvdXRwdXRJZCk7CiAgY29uc3Qgb3V0cHV0RWxlbWVudCA9IGRvY3VtZW50LmdldEVsZW1lbnRCeUlkKG91dHB1dElkKTsKICAvLyBDYWNoZSBzdGVwcyBvbiB0aGUgb3V0cHV0RWxlbWVudCB0byBtYWtlIGl0IGF2YWlsYWJsZSBmb3IgdGhlIG5leHQgY2FsbAogIC8vIHRvIHVwbG9hZEZpbGVzQ29udGludWUgZnJvbSBQeXRob24uCiAgb3V0cHV0RWxlbWVudC5zdGVwcyA9IHN0ZXBzOwoKICByZXR1cm4gX3VwbG9hZEZpbGVzQ29udGludWUob3V0cHV0SWQpOwp9CgovLyBUaGlzIGlzIHJvdWdobHkgYW4gYXN5bmMgZ2VuZXJhdG9yIChub3Qgc3VwcG9ydGVkIGluIHRoZSBicm93c2VyIHlldCksCi8vIHdoZXJlIHRoZXJlIGFyZSBtdWx0aXBsZSBhc3luY2hyb25vdXMgc3RlcHMgYW5kIHRoZSBQeXRob24gc2lkZSBpcyBnb2luZwovLyB0byBwb2xsIGZvciBjb21wbGV0aW9uIG9mIGVhY2ggc3RlcC4KLy8gVGhpcyB1c2VzIGEgUHJvbWlzZSB0byBibG9jayB0aGUgcHl0aG9uIHNpZGUgb24gY29tcGxldGlvbiBvZiBlYWNoIHN0ZXAsCi8vIHRoZW4gcGFzc2VzIHRoZSByZXN1bHQgb2YgdGhlIHByZXZpb3VzIHN0ZXAgYXMgdGhlIGlucHV0IHRvIHRoZSBuZXh0IHN0ZXAuCmZ1bmN0aW9uIF91cGxvYWRGaWxlc0NvbnRpbnVlKG91dHB1dElkKSB7CiAgY29uc3Qgb3V0cHV0RWxlbWVudCA9IGRvY3VtZW50LmdldEVsZW1lbnRCeUlkKG91dHB1dElkKTsKICBjb25zdCBzdGVwcyA9IG91dHB1dEVsZW1lbnQuc3RlcHM7CgogIGNvbnN0IG5leHQgPSBzdGVwcy5uZXh0KG91dHB1dEVsZW1lbnQubGFzdFByb21pc2VWYWx1ZSk7CiAgcmV0dXJuIFByb21pc2UucmVzb2x2ZShuZXh0LnZhbHVlLnByb21pc2UpLnRoZW4oKHZhbHVlKSA9PiB7CiAgICAvLyBDYWNoZSB0aGUgbGFzdCBwcm9taXNlIHZhbHVlIHRvIG1ha2UgaXQgYXZhaWxhYmxlIHRvIHRoZSBuZXh0CiAgICAvLyBzdGVwIG9mIHRoZSBnZW5lcmF0b3IuCiAgICBvdXRwdXRFbGVtZW50Lmxhc3RQcm9taXNlVmFsdWUgPSB2YWx1ZTsKICAgIHJldHVybiBuZXh0LnZhbHVlLnJlc3BvbnNlOwogIH0pOwp9CgovKioKICogR2VuZXJhdG9yIGZ1bmN0aW9uIHdoaWNoIGlzIGNhbGxlZCBiZXR3ZWVuIGVhY2ggYXN5bmMgc3RlcCBvZiB0aGUgdXBsb2FkCiAqIHByb2Nlc3MuCiAqIEBwYXJhbSB7c3RyaW5nfSBpbnB1dElkIEVsZW1lbnQgSUQgb2YgdGhlIGlucHV0IGZpbGUgcGlja2VyIGVsZW1lbnQuCiAqIEBwYXJhbSB7c3RyaW5nfSBvdXRwdXRJZCBFbGVtZW50IElEIG9mIHRoZSBvdXRwdXQgZGlzcGxheS4KICogQHJldHVybiB7IUl0ZXJhYmxlPCFPYmplY3Q+fSBJdGVyYWJsZSBvZiBuZXh0IHN0ZXBzLgogKi8KZnVuY3Rpb24qIHVwbG9hZEZpbGVzU3RlcChpbnB1dElkLCBvdXRwdXRJZCkgewogIGNvbnN0IGlucHV0RWxlbWVudCA9IGRvY3VtZW50LmdldEVsZW1lbnRCeUlkKGlucHV0SWQpOwogIGlucHV0RWxlbWVudC5kaXNhYmxlZCA9IGZhbHNlOwoKICBjb25zdCBvdXRwdXRFbGVtZW50ID0gZG9jdW1lbnQuZ2V0RWxlbWVudEJ5SWQob3V0cHV0SWQpOwogIG91dHB1dEVsZW1lbnQuaW5uZXJIVE1MID0gJyc7CgogIGNvbnN0IHBpY2tlZFByb21pc2UgPSBuZXcgUHJvbWlzZSgocmVzb2x2ZSkgPT4gewogICAgaW5wdXRFbGVtZW50LmFkZEV2ZW50TGlzdGVuZXIoJ2NoYW5nZScsIChlKSA9PiB7CiAgICAgIHJlc29sdmUoZS50YXJnZXQuZmlsZXMpOwogICAgfSk7CiAgfSk7CgogIGNvbnN0IGNhbmNlbCA9IGRvY3VtZW50LmNyZWF0ZUVsZW1lbnQoJ2J1dHRvbicpOwogIGlucHV0RWxlbWVudC5wYXJlbnRFbGVtZW50LmFwcGVuZENoaWxkKGNhbmNlbCk7CiAgY2FuY2VsLnRleHRDb250ZW50ID0gJ0NhbmNlbCB1cGxvYWQnOwogIGNvbnN0IGNhbmNlbFByb21pc2UgPSBuZXcgUHJvbWlzZSgocmVzb2x2ZSkgPT4gewogICAgY2FuY2VsLm9uY2xpY2sgPSAoKSA9PiB7CiAgICAgIHJlc29sdmUobnVsbCk7CiAgICB9OwogIH0pOwoKICAvLyBXYWl0IGZvciB0aGUgdXNlciB0byBwaWNrIHRoZSBmaWxlcy4KICBjb25zdCBmaWxlcyA9IHlpZWxkIHsKICAgIHByb21pc2U6IFByb21pc2UucmFjZShbcGlja2VkUHJvbWlzZSwgY2FuY2VsUHJvbWlzZV0pLAogICAgcmVzcG9uc2U6IHsKICAgICAgYWN0aW9uOiAnc3RhcnRpbmcnLAogICAgfQogIH07CgogIGNhbmNlbC5yZW1vdmUoKTsKCiAgLy8gRGlzYWJsZSB0aGUgaW5wdXQgZWxlbWVudCBzaW5jZSBmdXJ0aGVyIHBpY2tzIGFyZSBub3QgYWxsb3dlZC4KICBpbnB1dEVsZW1lbnQuZGlzYWJsZWQgPSB0cnVlOwoKICBpZiAoIWZpbGVzKSB7CiAgICByZXR1cm4gewogICAgICByZXNwb25zZTogewogICAgICAgIGFjdGlvbjogJ2NvbXBsZXRlJywKICAgICAgfQogICAgfTsKICB9CgogIGZvciAoY29uc3QgZmlsZSBvZiBmaWxlcykgewogICAgY29uc3QgbGkgPSBkb2N1bWVudC5jcmVhdGVFbGVtZW50KCdsaScpOwogICAgbGkuYXBwZW5kKHNwYW4oZmlsZS5uYW1lLCB7Zm9udFdlaWdodDogJ2JvbGQnfSkpOwogICAgbGkuYXBwZW5kKHNwYW4oCiAgICAgICAgYCgke2ZpbGUudHlwZSB8fCAnbi9hJ30pIC0gJHtmaWxlLnNpemV9IGJ5dGVzLCBgICsKICAgICAgICBgbGFzdCBtb2RpZmllZDogJHsKICAgICAgICAgICAgZmlsZS5sYXN0TW9kaWZpZWREYXRlID8gZmlsZS5sYXN0TW9kaWZpZWREYXRlLnRvTG9jYWxlRGF0ZVN0cmluZygpIDoKICAgICAgICAgICAgICAgICAgICAgICAgICAgICAgICAgICAgJ24vYSd9IC0gYCkpOwogICAgY29uc3QgcGVyY2VudCA9IHNwYW4oJzAlIGRvbmUnKTsKICAgIGxpLmFwcGVuZENoaWxkKHBlcmNlbnQpOwoKICAgIG91dHB1dEVsZW1lbnQuYXBwZW5kQ2hpbGQobGkpOwoKICAgIGNvbnN0IGZpbGVEYXRhUHJvbWlzZSA9IG5ldyBQcm9taXNlKChyZXNvbHZlKSA9PiB7CiAgICAgIGNvbnN0IHJlYWRlciA9IG5ldyBGaWxlUmVhZGVyKCk7CiAgICAgIHJlYWRlci5vbmxvYWQgPSAoZSkgPT4gewogICAgICAgIHJlc29sdmUoZS50YXJnZXQucmVzdWx0KTsKICAgICAgfTsKICAgICAgcmVhZGVyLnJlYWRBc0FycmF5QnVmZmVyKGZpbGUpOwogICAgfSk7CiAgICAvLyBXYWl0IGZvciB0aGUgZGF0YSB0byBiZSByZWFkeS4KICAgIGxldCBmaWxlRGF0YSA9IHlpZWxkIHsKICAgICAgcHJvbWlzZTogZmlsZURhdGFQcm9taXNlLAogICAgICByZXNwb25zZTogewogICAgICAgIGFjdGlvbjogJ2NvbnRpbnVlJywKICAgICAgfQogICAgfTsKCiAgICAvLyBVc2UgYSBjaHVua2VkIHNlbmRpbmcgdG8gYXZvaWQgbWVzc2FnZSBzaXplIGxpbWl0cy4gU2VlIGIvNjIxMTU2NjAuCiAgICBsZXQgcG9zaXRpb24gPSAwOwogICAgZG8gewogICAgICBjb25zdCBsZW5ndGggPSBNYXRoLm1pbihmaWxlRGF0YS5ieXRlTGVuZ3RoIC0gcG9zaXRpb24sIE1BWF9QQVlMT0FEX1NJWkUpOwogICAgICBjb25zdCBjaHVuayA9IG5ldyBVaW50OEFycmF5KGZpbGVEYXRhLCBwb3NpdGlvbiwgbGVuZ3RoKTsKICAgICAgcG9zaXRpb24gKz0gbGVuZ3RoOwoKICAgICAgY29uc3QgYmFzZTY0ID0gYnRvYShTdHJpbmcuZnJvbUNoYXJDb2RlLmFwcGx5KG51bGwsIGNodW5rKSk7CiAgICAgIHlpZWxkIHsKICAgICAgICByZXNwb25zZTogewogICAgICAgICAgYWN0aW9uOiAnYXBwZW5kJywKICAgICAgICAgIGZpbGU6IGZpbGUubmFtZSwKICAgICAgICAgIGRhdGE6IGJhc2U2NCwKICAgICAgICB9LAogICAgICB9OwoKICAgICAgbGV0IHBlcmNlbnREb25lID0gZmlsZURhdGEuYnl0ZUxlbmd0aCA9PT0gMCA/CiAgICAgICAgICAxMDAgOgogICAgICAgICAgTWF0aC5yb3VuZCgocG9zaXRpb24gLyBmaWxlRGF0YS5ieXRlTGVuZ3RoKSAqIDEwMCk7CiAgICAgIHBlcmNlbnQudGV4dENvbnRlbnQgPSBgJHtwZXJjZW50RG9uZX0lIGRvbmVgOwoKICAgIH0gd2hpbGUgKHBvc2l0aW9uIDwgZmlsZURhdGEuYnl0ZUxlbmd0aCk7CiAgfQoKICAvLyBBbGwgZG9uZS4KICB5aWVsZCB7CiAgICByZXNwb25zZTogewogICAgICBhY3Rpb246ICdjb21wbGV0ZScsCiAgICB9CiAgfTsKfQoKc2NvcGUuZ29vZ2xlID0gc2NvcGUuZ29vZ2xlIHx8IHt9OwpzY29wZS5nb29nbGUuY29sYWIgPSBzY29wZS5nb29nbGUuY29sYWIgfHwge307CnNjb3BlLmdvb2dsZS5jb2xhYi5fZmlsZXMgPSB7CiAgX3VwbG9hZEZpbGVzLAogIF91cGxvYWRGaWxlc0NvbnRpbnVlLAp9Owp9KShzZWxmKTsK",
              "headers": [
                [
                  "content-type",
                  "application/javascript"
                ]
              ],
              "ok": true,
              "status": 200,
              "status_text": "OK"
            }
          }
        },
        "id": "QUsOFte1Hzqn",
        "outputId": "9867695a-55b7-422c-96a0-25b234977cb2"
      },
      "outputs": [
        {
          "output_type": "display_data",
          "data": {
            "text/plain": [
              "<IPython.core.display.HTML object>"
            ],
            "text/html": [
              "\n",
              "     <input type=\"file\" id=\"files-ad53d974-5aee-4076-bb63-44eca459d3e9\" name=\"files[]\" multiple disabled\n",
              "        style=\"border:none\" />\n",
              "     <output id=\"result-ad53d974-5aee-4076-bb63-44eca459d3e9\">\n",
              "      Upload widget is only available when the cell has been executed in the\n",
              "      current browser session. Please rerun this cell to enable.\n",
              "      </output>\n",
              "      <script src=\"/nbextensions/google.colab/files.js\"></script> "
            ]
          },
          "metadata": {}
        },
        {
          "output_type": "stream",
          "name": "stdout",
          "text": [
            "Saving kaggle.json to kaggle.json\n"
          ]
        },
        {
          "output_type": "execute_result",
          "data": {
            "text/plain": [
              "{'kaggle.json': b'{\"username\":\"yasminpaksoy\",\"key\":\"9092d77ded0787db0dc92dec0c6c058c\"}'}"
            ]
          },
          "metadata": {},
          "execution_count": 1
        }
      ],
      "source": [
        "from google.colab import files\n",
        "\n",
        "files.upload()"
      ]
    },
    {
      "cell_type": "code",
      "execution_count": null,
      "metadata": {
        "id": "B37hkVNbKatl"
      },
      "outputs": [],
      "source": [
        "# making kaggle directory \n",
        "! mkdir ~/.kaggle\n",
        "\n",
        "# copying api login info into directory \n",
        "! cp kaggle.json ~/.kaggle/\n",
        "\n",
        "# allocating required permissions \n",
        "! chmod 600 ~/.kaggle/kaggle.json"
      ]
    },
    {
      "cell_type": "code",
      "execution_count": null,
      "metadata": {
        "colab": {
          "base_uri": "https://localhost:8080/"
        },
        "id": "A473jXCkJxU-",
        "outputId": "b3203ea8-3444-439b-8287-afdc771135ce"
      },
      "outputs": [
        {
          "output_type": "stream",
          "name": "stdout",
          "text": [
            "Downloading imdb-spoiler-dataset.zip to /content\n",
            " 98% 325M/331M [00:03<00:00, 111MB/s]\n",
            "100% 331M/331M [00:04<00:00, 86.8MB/s]\n",
            "Archive:  imdb-spoiler-dataset.zip\n",
            "  inflating: IMDB_movie_details.json  \n",
            "  inflating: IMDB_reviews.json       \n"
          ]
        }
      ],
      "source": [
        "! kaggle datasets download rmisra/imdb-spoiler-dataset\n",
        "\n",
        "# unzipping dataset \n",
        "! unzip imdb-spoiler-dataset.zip"
      ]
    },
    {
      "cell_type": "code",
      "execution_count": null,
      "metadata": {
        "colab": {
          "base_uri": "https://localhost:8080/",
          "height": 389
        },
        "id": "7UE2FiwiV6Um",
        "outputId": "200db1dc-dc3f-4357-dd74-027a6f348866"
      },
      "outputs": [
        {
          "output_type": "stream",
          "name": "stdout",
          "text": [
            "Total number of reviews: 573913\n",
            "Total number of reviews that contain spoilers: 150924\n",
            "User reviews shape: (573913, 7)\n",
            "\n",
            "First 5 user reviews:\n"
          ]
        },
        {
          "output_type": "execute_result",
          "data": {
            "text/plain": [
              "        review_date   movie_id    user_id  is_spoiler  \\\n",
              "0  10 February 2006  tt0111161  ur1898687        True   \n",
              "1  6 September 2000  tt0111161  ur0842118        True   \n",
              "2     3 August 2001  tt0111161  ur1285640        True   \n",
              "3  1 September 2002  tt0111161  ur1003471        True   \n",
              "4       20 May 2004  tt0111161  ur0226855        True   \n",
              "\n",
              "                                         review_text  rating  \\\n",
              "0  In its Oscar year, Shawshank Redemption (writt...      10   \n",
              "1  The Shawshank Redemption is without a doubt on...      10   \n",
              "2  I believe that this film is the best story eve...       8   \n",
              "3  **Yes, there are SPOILERS here**This film has ...      10   \n",
              "4  At the heart of this extraordinary movie is a ...       8   \n",
              "\n",
              "                                  review_summary  \n",
              "0  A classic piece of unforgettable film-making.  \n",
              "1     Simply amazing. The best film of the 90's.  \n",
              "2               The best story ever told on film  \n",
              "3                     Busy dying or busy living?  \n",
              "4         Great story, wondrously told and acted  "
            ],
            "text/html": [
              "\n",
              "  <div id=\"df-10f09801-527f-4290-b18e-b14c0418bbb3\">\n",
              "    <div class=\"colab-df-container\">\n",
              "      <div>\n",
              "<style scoped>\n",
              "    .dataframe tbody tr th:only-of-type {\n",
              "        vertical-align: middle;\n",
              "    }\n",
              "\n",
              "    .dataframe tbody tr th {\n",
              "        vertical-align: top;\n",
              "    }\n",
              "\n",
              "    .dataframe thead th {\n",
              "        text-align: right;\n",
              "    }\n",
              "</style>\n",
              "<table border=\"1\" class=\"dataframe\">\n",
              "  <thead>\n",
              "    <tr style=\"text-align: right;\">\n",
              "      <th></th>\n",
              "      <th>review_date</th>\n",
              "      <th>movie_id</th>\n",
              "      <th>user_id</th>\n",
              "      <th>is_spoiler</th>\n",
              "      <th>review_text</th>\n",
              "      <th>rating</th>\n",
              "      <th>review_summary</th>\n",
              "    </tr>\n",
              "  </thead>\n",
              "  <tbody>\n",
              "    <tr>\n",
              "      <th>0</th>\n",
              "      <td>10 February 2006</td>\n",
              "      <td>tt0111161</td>\n",
              "      <td>ur1898687</td>\n",
              "      <td>True</td>\n",
              "      <td>In its Oscar year, Shawshank Redemption (writt...</td>\n",
              "      <td>10</td>\n",
              "      <td>A classic piece of unforgettable film-making.</td>\n",
              "    </tr>\n",
              "    <tr>\n",
              "      <th>1</th>\n",
              "      <td>6 September 2000</td>\n",
              "      <td>tt0111161</td>\n",
              "      <td>ur0842118</td>\n",
              "      <td>True</td>\n",
              "      <td>The Shawshank Redemption is without a doubt on...</td>\n",
              "      <td>10</td>\n",
              "      <td>Simply amazing. The best film of the 90's.</td>\n",
              "    </tr>\n",
              "    <tr>\n",
              "      <th>2</th>\n",
              "      <td>3 August 2001</td>\n",
              "      <td>tt0111161</td>\n",
              "      <td>ur1285640</td>\n",
              "      <td>True</td>\n",
              "      <td>I believe that this film is the best story eve...</td>\n",
              "      <td>8</td>\n",
              "      <td>The best story ever told on film</td>\n",
              "    </tr>\n",
              "    <tr>\n",
              "      <th>3</th>\n",
              "      <td>1 September 2002</td>\n",
              "      <td>tt0111161</td>\n",
              "      <td>ur1003471</td>\n",
              "      <td>True</td>\n",
              "      <td>**Yes, there are SPOILERS here**This film has ...</td>\n",
              "      <td>10</td>\n",
              "      <td>Busy dying or busy living?</td>\n",
              "    </tr>\n",
              "    <tr>\n",
              "      <th>4</th>\n",
              "      <td>20 May 2004</td>\n",
              "      <td>tt0111161</td>\n",
              "      <td>ur0226855</td>\n",
              "      <td>True</td>\n",
              "      <td>At the heart of this extraordinary movie is a ...</td>\n",
              "      <td>8</td>\n",
              "      <td>Great story, wondrously told and acted</td>\n",
              "    </tr>\n",
              "  </tbody>\n",
              "</table>\n",
              "</div>\n",
              "      <button class=\"colab-df-convert\" onclick=\"convertToInteractive('df-10f09801-527f-4290-b18e-b14c0418bbb3')\"\n",
              "              title=\"Convert this dataframe to an interactive table.\"\n",
              "              style=\"display:none;\">\n",
              "        \n",
              "  <svg xmlns=\"http://www.w3.org/2000/svg\" height=\"24px\"viewBox=\"0 0 24 24\"\n",
              "       width=\"24px\">\n",
              "    <path d=\"M0 0h24v24H0V0z\" fill=\"none\"/>\n",
              "    <path d=\"M18.56 5.44l.94 2.06.94-2.06 2.06-.94-2.06-.94-.94-2.06-.94 2.06-2.06.94zm-11 1L8.5 8.5l.94-2.06 2.06-.94-2.06-.94L8.5 2.5l-.94 2.06-2.06.94zm10 10l.94 2.06.94-2.06 2.06-.94-2.06-.94-.94-2.06-.94 2.06-2.06.94z\"/><path d=\"M17.41 7.96l-1.37-1.37c-.4-.4-.92-.59-1.43-.59-.52 0-1.04.2-1.43.59L10.3 9.45l-7.72 7.72c-.78.78-.78 2.05 0 2.83L4 21.41c.39.39.9.59 1.41.59.51 0 1.02-.2 1.41-.59l7.78-7.78 2.81-2.81c.8-.78.8-2.07 0-2.86zM5.41 20L4 18.59l7.72-7.72 1.47 1.35L5.41 20z\"/>\n",
              "  </svg>\n",
              "      </button>\n",
              "      \n",
              "  <style>\n",
              "    .colab-df-container {\n",
              "      display:flex;\n",
              "      flex-wrap:wrap;\n",
              "      gap: 12px;\n",
              "    }\n",
              "\n",
              "    .colab-df-convert {\n",
              "      background-color: #E8F0FE;\n",
              "      border: none;\n",
              "      border-radius: 50%;\n",
              "      cursor: pointer;\n",
              "      display: none;\n",
              "      fill: #1967D2;\n",
              "      height: 32px;\n",
              "      padding: 0 0 0 0;\n",
              "      width: 32px;\n",
              "    }\n",
              "\n",
              "    .colab-df-convert:hover {\n",
              "      background-color: #E2EBFA;\n",
              "      box-shadow: 0px 1px 2px rgba(60, 64, 67, 0.3), 0px 1px 3px 1px rgba(60, 64, 67, 0.15);\n",
              "      fill: #174EA6;\n",
              "    }\n",
              "\n",
              "    [theme=dark] .colab-df-convert {\n",
              "      background-color: #3B4455;\n",
              "      fill: #D2E3FC;\n",
              "    }\n",
              "\n",
              "    [theme=dark] .colab-df-convert:hover {\n",
              "      background-color: #434B5C;\n",
              "      box-shadow: 0px 1px 3px 1px rgba(0, 0, 0, 0.15);\n",
              "      filter: drop-shadow(0px 1px 2px rgba(0, 0, 0, 0.3));\n",
              "      fill: #FFFFFF;\n",
              "    }\n",
              "  </style>\n",
              "\n",
              "      <script>\n",
              "        const buttonEl =\n",
              "          document.querySelector('#df-10f09801-527f-4290-b18e-b14c0418bbb3 button.colab-df-convert');\n",
              "        buttonEl.style.display =\n",
              "          google.colab.kernel.accessAllowed ? 'block' : 'none';\n",
              "\n",
              "        async function convertToInteractive(key) {\n",
              "          const element = document.querySelector('#df-10f09801-527f-4290-b18e-b14c0418bbb3');\n",
              "          const dataTable =\n",
              "            await google.colab.kernel.invokeFunction('convertToInteractive',\n",
              "                                                     [key], {});\n",
              "          if (!dataTable) return;\n",
              "\n",
              "          const docLinkHtml = 'Like what you see? Visit the ' +\n",
              "            '<a target=\"_blank\" href=https://colab.research.google.com/notebooks/data_table.ipynb>data table notebook</a>'\n",
              "            + ' to learn more about interactive tables.';\n",
              "          element.innerHTML = '';\n",
              "          dataTable['output_type'] = 'display_data';\n",
              "          await google.colab.output.renderOutput(dataTable, element);\n",
              "          const docLink = document.createElement('div');\n",
              "          docLink.innerHTML = docLinkHtml;\n",
              "          element.appendChild(docLink);\n",
              "        }\n",
              "      </script>\n",
              "    </div>\n",
              "  </div>\n",
              "  "
            ]
          },
          "metadata": {},
          "execution_count": 4
        }
      ],
      "source": [
        "# importing pandas to read the JSON files\n",
        "import pandas as pd \n",
        "\n",
        "# information regarding reviews file\n",
        "all_reviews = pd.read_json('../content/IMDB_reviews.json', lines=True)\n",
        "\n",
        "print('Total number of reviews:', all_reviews['review_date'].count())\n",
        "print('Total number of reviews that contain spoilers:', all_reviews['is_spoiler'].sum())\n",
        "print('User reviews shape:', all_reviews.shape)\n",
        "print()\n",
        "\n",
        "print('First 5 user reviews:')\n",
        "all_reviews.head()"
      ]
    },
    {
      "cell_type": "markdown",
      "metadata": {
        "id": "5QzzrCZtDe4Z"
      },
      "source": [
        "# Preparing the Data <a class=\"anchor\" id=\"preparing\"></a>\n",
        "--------------------------------\n",
        "As shown in previous code cells, the reviews database contains 573,913 records, 150,924 of them which contain spoilers. \n",
        "\n",
        "In the code cell below, I am converting the reviews and their labels into lists from the JSON file they were loaded in with. During this process, I am adding all reviews that contain spoilers to this list but only 150,924 reviews that don't. This leaves me with a fully balances dataset, which can be seen in the calculations below. "
      ]
    },
    {
      "cell_type": "code",
      "execution_count": null,
      "metadata": {
        "id": "B8156liDuytT"
      },
      "outputs": [],
      "source": [
        "import json\n",
        "\n",
        "labels = [] \n",
        "texts = []\n",
        "\n",
        "with open('IMDB_reviews.json', 'r') as json_file:\n",
        "  for jsonObj in json_file:\n",
        "    data = json.loads(jsonObj)\n",
        "    if data['is_spoiler'] == True:\n",
        "       labels.append(1)\n",
        "    else:\n",
        "       labels.append(0)\n",
        "    texts.append(data['review_text'])"
      ]
    },
    {
      "cell_type": "markdown",
      "metadata": {
        "id": "qNBrXaYpfY0Y"
      },
      "source": [
        "Next, I am preparing the data. For this data to be inputted into a machine-learning model, it needs to be formatted into tensors which are small in value and normalized if heterogeneous. Heterogeneous data refers to the data being in different ranges, and while deep neural networks can adapt to this, it makes learning more difficult [1]. \n",
        "\n",
        "The data is currently not in tensors, so I will be tokenizing the text data using one-hot encoding. To do this I am using the `Tokenizer` module from Keras. I have cut the reviews of after a maximum of 500 words and am only considering the most frequent 15000 words in the dataset. \n",
        "\n",
        "After tokenizing, I have vectorized the data using the `pad_sequences` module from Keras, which converts the list of tokenized data, integers, into 2D tensors, which can then be fed into the neural network. I have also vectorized the list of labels by converting it to a list of floating point numbers.\n",
        "\n",
        "This data is now ready to be inputted into a machine-learning model. "
      ]
    },
    {
      "cell_type": "code",
      "execution_count": null,
      "metadata": {
        "colab": {
          "base_uri": "https://localhost:8080/"
        },
        "id": "94TyDEQYgWSD",
        "outputId": "6fac3f88-a0eb-4091-b4d5-6338b20c5dea"
      },
      "outputs": [
        {
          "output_type": "stream",
          "name": "stdout",
          "text": [
            "Found 379856 unique tokens.\n",
            "Shape of data tensor: (573913, 500)\n",
            "Shape of label tensor: (573913,)\n"
          ]
        }
      ],
      "source": [
        "from keras.preprocessing.text import Tokenizer\n",
        "from keras.preprocessing.sequence import pad_sequences\n",
        "import numpy as np\n",
        "\n",
        "maxlen = 500 # cuts reviews off after 500 words \n",
        "max_words = 15000 # considers only the top 15,000 words in the dataset \n",
        "\n",
        "# tokenizing texts \n",
        "tokenizer = Tokenizer(num_words=max_words)\n",
        "tokenizer.fit_on_texts(texts)\n",
        "sequences = tokenizer.texts_to_sequences(texts)\n",
        "word_index = tokenizer.word_index\n",
        "print('Found %s unique tokens.' % len(word_index))\n",
        "\n",
        "# vectorizing texts\n",
        "data = pad_sequences(sequences, maxlen=maxlen)\n",
        "\n",
        "# vectorizing labels \n",
        "labels = np.asarray(labels).astype('float32')\n",
        "\n",
        "print('Shape of data tensor:', data.shape)\n",
        "print('Shape of label tensor:', labels.shape)"
      ]
    },
    {
      "cell_type": "markdown",
      "metadata": {
        "id": "4eXV0nN8gzoF"
      },
      "source": [
        "Lastly, to prepare the data, I am splitting it into training and testing sets. This way I will be testing the model on unseen data only, ensuring information leaking does not affect the final results. I will be training on 201,848 data points and testing on 100,00.\n",
        "\n",
        "I am first shuffling the data, since the JSON file lists all reviews including spoilers first, then splitting it."
      ]
    },
    {
      "cell_type": "code",
      "execution_count": null,
      "metadata": {
        "id": "0JOQ_1F9g9-x"
      },
      "outputs": [],
      "source": [
        "# suffling data\n",
        "indices = np.arange(data.shape[0])\n",
        "np.random.shuffle(indices)\n",
        "data = data[indices]\n",
        "labels = labels[indices]\n",
        "\n",
        "# setting number of training and testing samples\n",
        "training_samples = 523913\n",
        "testing_samples = 50000\n",
        "\n",
        "# splitting into training and testing sets\n",
        "x_train = data[:training_samples]\n",
        "y_train = labels[:training_samples]\n",
        "x_test = data[training_samples: training_samples + testing_samples]\n",
        "y_test = labels[training_samples: training_samples + testing_samples]"
      ]
    },
    {
      "cell_type": "code",
      "execution_count": null,
      "metadata": {
        "colab": {
          "base_uri": "https://localhost:8080/"
        },
        "id": "Ke0TUFwciHvs",
        "outputId": "b8adae48-2aac-4afe-c8ad-099c0055624b"
      },
      "outputs": [
        {
          "output_type": "stream",
          "name": "stdout",
          "text": [
            "Training data shape: (523913, 500)\n",
            "Training labels shape: (523913,)\n",
            "Test data shape: (50000, 500)\n",
            "Test labels shape: (50000,)\n"
          ]
        }
      ],
      "source": [
        "print('Training data shape:',x_train.shape)\n",
        "print('Training labels shape:', y_train.shape)\n",
        "\n",
        "print('Test data shape:',x_test.shape)\n",
        "print('Test labels shape:',y_test.shape)"
      ]
    },
    {
      "cell_type": "markdown",
      "metadata": {
        "id": "vw3DNrlIiG7O"
      },
      "source": [
        "Here I am further splitting the training set into partial training and validation. This ensures that the data used to validate will not be the same as that used to train, helping avoid overfitting issues. I will be training on 151,848 samples and validating on 50,000. "
      ]
    },
    {
      "cell_type": "code",
      "execution_count": null,
      "metadata": {
        "id": "S2XTstX4ieJu"
      },
      "outputs": [],
      "source": [
        "# setting number of training and validation samples\n",
        "partial_training_samples = 473913\n",
        "validation_samples = 50000\n",
        "\n",
        "# splitting into training and validation sets\n",
        "x_partial_train_unbal = data[:partial_training_samples]\n",
        "y_partial_train_unbal = labels[:partial_training_samples]\n",
        "x_val = data[partial_training_samples: partial_training_samples + validation_samples]\n",
        "y_val = labels[partial_training_samples: partial_training_samples + validation_samples]"
      ]
    },
    {
      "cell_type": "code",
      "execution_count": null,
      "metadata": {
        "colab": {
          "base_uri": "https://localhost:8080/"
        },
        "id": "Dngdv0rmijtL",
        "outputId": "c3cfa81a-c7a5-4ad9-c47d-c12b37d9ead4"
      },
      "outputs": [
        {
          "output_type": "stream",
          "name": "stdout",
          "text": [
            "Partial training data shape: (473913, 500)\n",
            "Partial training labels shape: (473913,)\n",
            "Validation data shape: (50000, 500)\n",
            "Validation labels shape: (50000,)\n"
          ]
        }
      ],
      "source": [
        "print('Partial training data shape:',x_partial_train_unbal.shape)\n",
        "print('Partial training labels shape:', y_partial_train_unbal.shape)\n",
        "\n",
        "print('Validation data shape:',x_val.shape)\n",
        "print('Validation labels shape:',y_val.shape)"
      ]
    },
    {
      "cell_type": "code",
      "execution_count": null,
      "metadata": {
        "colab": {
          "base_uri": "https://localhost:8080/"
        },
        "id": "c2Sx8Yi3XYdD",
        "outputId": "10fb227b-b20a-4f37-a948-dd9a7b6a653b"
      },
      "outputs": [
        {
          "output_type": "stream",
          "name": "stdout",
          "text": [
            "Total number of reviews: 573913\n",
            "Total nummber with spoilers: 124563\n",
            "Total number without spoilers 349350\n"
          ]
        }
      ],
      "source": [
        "spoilers = 0;\n",
        "nonSpoilers = 0;\n",
        "\n",
        "for i in y_partial_train_unbal: \n",
        "  if i == 1: \n",
        "    spoilers += 1 \n",
        "  else: \n",
        "    nonSpoilers += 1\n",
        "\n",
        "print(\"Total number of reviews: \" + str(len(labels)))\n",
        "print(\"Total nummber with spoilers: \" + str(spoilers))\n",
        "print(\"Total number without spoilers \" + str(nonSpoilers))"
      ]
    },
    {
      "cell_type": "code",
      "execution_count": null,
      "metadata": {
        "id": "mAjh3sLTyrDz"
      },
      "outputs": [],
      "source": [
        "x_partial_train = [] \n",
        "y_partial_train = []\n",
        "sum = 0\n",
        "\n",
        "for data in range(len(y_partial_train_unbal)):\n",
        "  if y_partial_train_unbal[data] == 1:\n",
        "    y_partial_train.append(1)\n",
        "    x_partial_train.append(x_partial_train_unbal[data])\n",
        "  else:\n",
        "    if sum < spoilers:\n",
        "      sum += 1\n",
        "      y_partial_train.append(0)\n",
        "      x_partial_train.append(x_partial_train_unbal[data])"
      ]
    },
    {
      "cell_type": "code",
      "execution_count": null,
      "metadata": {
        "colab": {
          "base_uri": "https://localhost:8080/"
        },
        "id": "wKYXl5Ol0K7i",
        "outputId": "dd8f9640-057a-45d7-cf68-d5e088e75118"
      },
      "outputs": [
        {
          "output_type": "stream",
          "name": "stdout",
          "text": [
            "Total number of reviews: 249126\n",
            "Total nummber with spoilers: 124563\n",
            "Total number without spoilers 124563\n"
          ]
        }
      ],
      "source": [
        "spoilers = 0;\n",
        "nonSpoilers = 0;\n",
        "\n",
        "for i in y_partial_train: \n",
        "  if i == 1: \n",
        "    spoilers += 1 \n",
        "  else: \n",
        "    nonSpoilers += 1\n",
        "\n",
        "print(\"Total number of reviews: \" + str(len(x_partial_train)))\n",
        "print(\"Total nummber with spoilers: \" + str(spoilers))\n",
        "print(\"Total number without spoilers \" + str(nonSpoilers))"
      ]
    },
    {
      "cell_type": "code",
      "execution_count": null,
      "metadata": {
        "id": "k2lUwyyB1BPd"
      },
      "outputs": [],
      "source": [
        "x_val = np.array(x_val)\n",
        "y_val = np.array(y_val)\n",
        "x_partial_train = np.array(x_partial_train) \n",
        "y_partial_train = np.array(y_partial_train)\n",
        "x_test = np.array(x_test)\n",
        "y_test = np.array(y_test)"
      ]
    },
    {
      "cell_type": "markdown",
      "metadata": {
        "id": "yqJBgVTL7tTY"
      },
      "source": [
        "# Build Functions <a class=\"anchor\" id=\"build\"></a>\n",
        "---------------------\n",
        "I have included all the functions I will use below.\n",
        "\n",
        "The code functions I have included are: \n",
        "* Build baseline model. \n",
        "* Build scaled up model. \n",
        "* Build model with dropout and recurrent dropout. \n",
        "* Plot loss function. \n",
        "* Plot final loss function. \n",
        "* Plot accuracy function. \n",
        "* Plot final accuracy function. \n",
        "* Train function. \n",
        "* Train final model function. \n",
        "* Evaluate function. \n",
        "\n"
      ]
    },
    {
      "cell_type": "code",
      "execution_count": null,
      "metadata": {
        "id": "J3Drvs6GoVww"
      },
      "outputs": [],
      "source": [
        "# Importing all necessary libraries\n",
        "import tensorflow as tf\n",
        "import keras\n",
        "import matplotlib.pyplot as plt\n",
        "\n",
        "from gc import callbacks\n",
        "from keras import models, layers\n",
        "from tensorflow.keras import optimizers\n",
        "from keras.layers import Embedding, Flatten, LSTM"
      ]
    },
    {
      "cell_type": "code",
      "execution_count": null,
      "metadata": {
        "id": "3vyA94skOsqU"
      },
      "outputs": [],
      "source": [
        "import keras.backend as K\n",
        "from sklearn.metrics import f1_score as f1\n",
        "\n",
        "def f1_score(y_true, y_pred):\n",
        "  tp = K.sum(K.round(K.clip(y_true * y_pred, 0, 1)))\n",
        "  posp = K.sum(K.round(K.clip(y_pred, 0, 1)))\n",
        "  predp = K.sum(K.round(K.clip(y_true, 0, 1)))\n",
        "\n",
        "  precision = tp / (posp + K.epsilon())\n",
        "  recall = tp / (predp + K.epsilon())\n",
        "\n",
        "  f1_score = 2 * (precision * recall) / (precision + recall + K.epsilon())\n",
        "  return f1_score "
      ]
    },
    {
      "cell_type": "code",
      "execution_count": null,
      "metadata": {
        "id": "kZqebn48-jnh"
      },
      "outputs": [],
      "source": [
        "def build_scaled_up():\n",
        "  model = models.Sequential()\n",
        "\n",
        "  # Embedding layers \n",
        "  # network will learn 32-dimensional embeddings for each of the 15,000 words\n",
        "  model.add(Embedding(15000, 8))\n",
        "\n",
        "  # LSTM layer\n",
        "  model.add(LSTM(32))\n",
        "  # output layer\n",
        "  model.add(layers.Dense(1, activation='sigmoid'))\n",
        "\n",
        "  model.compile(optimizer='rmsprop',\n",
        "                loss='binary_crossentropy',\n",
        "                metrics=['acc', f1_score])\n",
        "  model.build()\n",
        "  model.summary()\n",
        "  return model "
      ]
    },
    {
      "cell_type": "code",
      "execution_count": null,
      "metadata": {
        "id": "5EE3kj8N5Lf5"
      },
      "outputs": [],
      "source": [
        "def build_GRU():\n",
        "  model = models.Sequential()\n",
        "\n",
        "  # Embedding layers \n",
        "  # network will learn 8-dimensional embeddings for each of the 15,000 words\n",
        "  model.add(Embedding(15000, 8))\n",
        "\n",
        "  # LSTM layer\n",
        "  # includes dropout and reccurrent dropout \n",
        "  model.add(layers.GRU(32, input_shape=(151848, 500)))\n",
        "\n",
        "  # output layer \n",
        "  model.add(layers.Dense(1, activation='sigmoid'))\n",
        "  \n",
        "  model.compile(optimizer='rmsprop',\n",
        "                loss='binary_crossentropy',\n",
        "                metrics=['acc', f1_score])\n",
        "  model.build()\n",
        "  model.summary()\n",
        "  return model "
      ]
    },
    {
      "cell_type": "code",
      "execution_count": null,
      "metadata": {
        "id": "z_4QslKX-7q7"
      },
      "outputs": [],
      "source": [
        "def build_dropout(drop, rec_drop):\n",
        "  model = models.Sequential()\n",
        "\n",
        "  # Embedding layers \n",
        "  # network will learn 8-dimensional embeddings for each of the 15,000 words\n",
        "  model.add(Embedding(15000, 8))\n",
        "\n",
        "  # LSTM layer\n",
        "  # includes dropout and reccurrent dropout \n",
        "  model.add(LSTM(32, \n",
        "                 dropout=drop,\n",
        "                 recurrent_dropout=rec_drop\n",
        "                 ))\n",
        "  \n",
        "  # output layer \n",
        "  model.add(layers.Dense(1, activation='sigmoid'))\n",
        "\n",
        "  model.compile(optimizer='rmsprop',\n",
        "                loss='binary_crossentropy',\n",
        "                metrics=['acc', f1_score])\n",
        "  model.build()\n",
        "  model.summary()\n",
        "  return model "
      ]
    },
    {
      "cell_type": "code",
      "execution_count": null,
      "metadata": {
        "id": "fsryVua9Y3wg"
      },
      "outputs": [],
      "source": [
        "def build_layers(drop, rec_drop, layer):\n",
        "  model = models.Sequential()\n",
        "\n",
        "  # Embedding layers \n",
        "  # network will learn 8-dimensional embeddings for each of the 15,000 words\n",
        "  model.add(Embedding(15000, 8))\n",
        "\n",
        "  # LSTM layer\n",
        "  # includes dropout and reccurrent dropout \n",
        "  model.add(LSTM(32, \n",
        "                 dropout=drop,\n",
        "                 recurrent_dropout=rec_drop,\n",
        "                 input_shape=(151848, 500), \n",
        "                 return_sequences=True))\n",
        "  \n",
        "  if layer==2:\n",
        "    model.add(LSTM(32,\n",
        "                   dropout=drop,\n",
        "                   recurrent_dropout=rec_drop))\n",
        "    \n",
        "  if layer==3:\n",
        "    model.add(LSTM(32,\n",
        "                   dropout=drop,\n",
        "                   recurrent_dropout=rec_drop,\n",
        "                   return_sequences=True))\n",
        "    model.add(LSTM(32,\n",
        "                   dropout=drop,\n",
        "                   recurrent_dropout=rec_drop))\n",
        "\n",
        "  # output layer \n",
        "  model.add(layers.Dense(1, activation='sigmoid'))\n",
        "  \n",
        "  model.compile(optimizer='rmsprop',\n",
        "                loss='binary_crossentropy',\n",
        "                metrics=['acc', f1_score])\n",
        "  model.build()\n",
        "  model.summary()\n",
        "  return model "
      ]
    },
    {
      "cell_type": "code",
      "execution_count": null,
      "metadata": {
        "id": "KeA2Qzd7FUPM"
      },
      "outputs": [],
      "source": [
        "def build_learning_rate(drop, rec_drop, lr):\n",
        "  model = models.Sequential()\n",
        "\n",
        "  # Embedding layers \n",
        "  # network will learn 8-dimensional embeddings for each of the 15,000 words\n",
        "  model.add(Embedding(15000, 8))\n",
        "\n",
        "  # LSTM layer\n",
        "  # includes dropout and reccurrent dropout \n",
        "  model.add(layers.LSTM(32, \n",
        "                 dropout=drop,\n",
        "                 recurrent_dropout=rec_drop,\n",
        "                 input_shape=(151848, 500))\n",
        "  )\n",
        "\n",
        "  # output layer \n",
        "  model.add(layers.Dense(1, activation='sigmoid'))\n",
        "  \n",
        "  model.compile(optimizer = optimizers.RMSprop(learning_rate = lr),\n",
        "                loss='binary_crossentropy',\n",
        "                metrics=['acc', f1_score])\n",
        "  model.build()\n",
        "  model.summary()\n",
        "  return model "
      ]
    },
    {
      "cell_type": "code",
      "execution_count": null,
      "metadata": {
        "id": "Y9B6awohyiPu"
      },
      "outputs": [],
      "source": [
        "def build_optimizer(drop, rec_drop, optimizer):\n",
        "  model = models.Sequential()\n",
        "\n",
        "  # Embedding layers \n",
        "  # network will learn 8-dimensional embeddings for each of the 15,000 words\n",
        "  model.add(Embedding(15000, 8))\n",
        "\n",
        "  # LSTM layer\n",
        "  # includes dropout and reccurrent dropout \n",
        "  model.add(layers.LSTM(32, \n",
        "                 dropout=drop,\n",
        "                 recurrent_dropout=rec_drop,\n",
        "                 input_shape=(151848, 500))\n",
        "  )\n",
        "\n",
        "  # output layer \n",
        "  model.add(layers.Dense(1, activation='sigmoid'))\n",
        "  \n",
        "  if optimizer == 'Adam':\n",
        "    model.compile(optimizer = optimizers.Adam(),\n",
        "                  loss='binary_crossentropy',\n",
        "                  metrics=['acc', f1_score])\n",
        "  else:\n",
        "    model.compile(optimizer = optimizers.Nadam(),\n",
        "                  loss='binary_crossentropy',\n",
        "                  metrics=['acc', f1_score])\n",
        "  model.build()\n",
        "  model.summary()\n",
        "  return model "
      ]
    },
    {
      "cell_type": "code",
      "execution_count": null,
      "metadata": {
        "id": "sM59ZYms7gjI"
      },
      "outputs": [],
      "source": [
        "def plot_outputs():\n",
        "\n",
        "  acc = history.history['acc']\n",
        "  val_acc = history.history['val_acc']\n",
        "  loss = history.history['loss']\n",
        "  val_loss = history.history['val_loss']\n",
        "\n",
        "  epochs = range(1, len(acc) + 1)\n",
        "\n",
        "  plt.plot(epochs, acc, 'bo', label='Training acc')\n",
        "  plt.plot(epochs, val_acc, 'b', label='Validation acc')\n",
        "  plt.title('Training and validation accuracy')\n",
        "  plt.legend()\n",
        "\n",
        "  plt.figure()\n",
        "\n",
        "  plt.plot(epochs, loss, 'bo', label='Training loss')\n",
        "  plt.plot(epochs, val_loss, 'b', label='Validation loss')\n",
        "  plt.title('Training and validation loss')\n",
        "  plt.legend()\n",
        "\n",
        "  plt.show()"
      ]
    },
    {
      "cell_type": "code",
      "execution_count": null,
      "metadata": {
        "id": "MPD09m9hwYzQ"
      },
      "outputs": [],
      "source": [
        "callbacks_list = [keras.callbacks.EarlyStopping(\n",
        "    monitor='val_loss',\n",
        "    patience=5\n",
        "    )]"
      ]
    },
    {
      "cell_type": "code",
      "execution_count": null,
      "metadata": {
        "id": "1TdWEKAI_8rv"
      },
      "outputs": [],
      "source": [
        "def train(model, epoch):\n",
        "  return model.fit(x_partial_train, y_partial_train,\n",
        "                   epochs = epoch,\n",
        "                   batch_size = 128,\n",
        "                   callbacks = callbacks_list,\n",
        "                   validation_data = (x_val, y_val))"
      ]
    },
    {
      "cell_type": "code",
      "execution_count": null,
      "metadata": {
        "id": "gUBwG-MJAmQH"
      },
      "outputs": [],
      "source": [
        "def train_final_model(model, epoch):\n",
        "  return model.fit(x_train, y_train, epochs = epoch, batch_size = 128)"
      ]
    },
    {
      "cell_type": "code",
      "execution_count": null,
      "metadata": {
        "id": "4N42m_tSBG56"
      },
      "outputs": [],
      "source": [
        "def evaluate():\n",
        "  model.evaluate(x_test, y_test)"
      ]
    },
    {
      "cell_type": "markdown",
      "metadata": {
        "id": "7amL1zLQDork"
      },
      "source": [
        "# Model 1: First LSTM Model<a class=\"anchor\" id=\"model2\"></a>\n",
        "-------------------------"
      ]
    },
    {
      "cell_type": "code",
      "execution_count": null,
      "metadata": {
        "colab": {
          "base_uri": "https://localhost:8080/"
        },
        "id": "TVqjBeg5EiQT",
        "outputId": "f1db33ce-0612-4a2c-e44d-c4537d009a2a"
      },
      "outputs": [
        {
          "name": "stdout",
          "output_type": "stream",
          "text": [
            "Model: \"sequential\"\n",
            "_________________________________________________________________\n",
            " Layer (type)                Output Shape              Param #   \n",
            "=================================================================\n",
            " embedding (Embedding)       (None, None, 8)           120000    \n",
            "                                                                 \n",
            " lstm (LSTM)                 (None, 32)                5248      \n",
            "                                                                 \n",
            " dense (Dense)               (None, 1)                 33        \n",
            "                                                                 \n",
            "=================================================================\n",
            "Total params: 125,281\n",
            "Trainable params: 125,281\n",
            "Non-trainable params: 0\n",
            "_________________________________________________________________\n"
          ]
        }
      ],
      "source": [
        "model = build_scaled_up()"
      ]
    },
    {
      "cell_type": "code",
      "execution_count": null,
      "metadata": {
        "colab": {
          "base_uri": "https://localhost:8080/"
        },
        "id": "IvuPlxW7v_zH",
        "outputId": "77ff414a-b4f8-4e34-fd90-3ff2b4d5d908"
      },
      "outputs": [
        {
          "name": "stdout",
          "output_type": "stream",
          "text": [
            "Epoch 1/50\n",
            "1949/1949 [==============================] - 605s 309ms/step - loss: 0.6128 - acc: 0.6648 - f1_score: 0.6639 - val_loss: 0.5955 - val_acc: 0.7070 - val_f1_score: 0.5391\n",
            "Epoch 2/50\n",
            "1949/1949 [==============================] - 602s 309ms/step - loss: 0.5730 - acc: 0.7045 - f1_score: 0.6963 - val_loss: 0.6350 - val_acc: 0.6557 - val_f1_score: 0.5410\n",
            "Epoch 3/50\n",
            "1949/1949 [==============================] - 599s 307ms/step - loss: 0.5603 - acc: 0.7134 - f1_score: 0.7095 - val_loss: 0.6174 - val_acc: 0.7094 - val_f1_score: 0.5529\n",
            "Epoch 4/50\n",
            "1949/1949 [==============================] - 598s 307ms/step - loss: 0.5512 - acc: 0.7196 - f1_score: 0.7141 - val_loss: 0.5697 - val_acc: 0.7138 - val_f1_score: 0.5522\n",
            "Epoch 5/50\n",
            "1949/1949 [==============================] - 602s 309ms/step - loss: 0.5440 - acc: 0.7252 - f1_score: 0.7216 - val_loss: 0.5667 - val_acc: 0.7372 - val_f1_score: 0.5534\n",
            "Epoch 6/50\n",
            "1949/1949 [==============================] - 601s 308ms/step - loss: 0.5383 - acc: 0.7280 - f1_score: 0.7241 - val_loss: 0.6161 - val_acc: 0.6689 - val_f1_score: 0.5442\n",
            "Epoch 7/50\n",
            "1949/1949 [==============================] - 603s 310ms/step - loss: 0.5336 - acc: 0.7313 - f1_score: 0.7275 - val_loss: 0.5309 - val_acc: 0.7176 - val_f1_score: 0.5524\n",
            "Epoch 8/50\n",
            "1949/1949 [==============================] - 602s 309ms/step - loss: 0.5316 - acc: 0.7321 - f1_score: 0.7304 - val_loss: 0.5590 - val_acc: 0.7299 - val_f1_score: 0.5512\n",
            "Epoch 9/50\n",
            "1949/1949 [==============================] - 608s 312ms/step - loss: 0.5255 - acc: 0.7364 - f1_score: 0.7346 - val_loss: 0.5892 - val_acc: 0.6723 - val_f1_score: 0.5427\n",
            "Epoch 10/50\n",
            "1949/1949 [==============================] - 608s 312ms/step - loss: 0.5218 - acc: 0.7389 - f1_score: 0.7378 - val_loss: 0.5358 - val_acc: 0.7410 - val_f1_score: 0.5483\n",
            "Epoch 11/50\n",
            "1949/1949 [==============================] - 609s 313ms/step - loss: 0.5184 - acc: 0.7412 - f1_score: 0.7405 - val_loss: 0.5751 - val_acc: 0.6970 - val_f1_score: 0.5493\n",
            "Epoch 12/50\n",
            "1949/1949 [==============================] - 603s 309ms/step - loss: 0.5148 - acc: 0.7440 - f1_score: 0.7436 - val_loss: 0.5506 - val_acc: 0.7167 - val_f1_score: 0.5514\n"
          ]
        }
      ],
      "source": [
        "history = train(model, 50)"
      ]
    },
    {
      "cell_type": "code",
      "execution_count": null,
      "metadata": {
        "colab": {
          "base_uri": "https://localhost:8080/",
          "height": 545
        },
        "id": "kKN0rfstE0US",
        "outputId": "d7670677-ef18-4613-8623-d8d4e195cfc5"
      },
      "outputs": [
        {
          "data": {
            "image/png": "[encoded data removed]",
            "text/plain": [
              "<Figure size 432x288 with 1 Axes>"
            ]
          },
          "metadata": {},
          "output_type": "display_data"
        },
        {
          "data": {
            "image/png": "[encoded data removed]",
            "text/plain": [
              "<Figure size 432x288 with 1 Axes>"
            ]
          },
          "metadata": {},
          "output_type": "display_data"
        }
      ],
      "source": [
        "plot_outputs()"
      ]
    },
    {
      "cell_type": "markdown",
      "metadata": {
        "id": "Gnoq1VNSQVE6"
      },
      "source": [
        "# Model 2: First GRU Model <a class=\"anchor\" id=\"model7\"></a>\n",
        "-----------------"
      ]
    },
    {
      "cell_type": "code",
      "execution_count": null,
      "metadata": {
        "colab": {
          "base_uri": "https://localhost:8080/"
        },
        "id": "h1JEPGh85dzs",
        "outputId": "081fa46d-31b7-4fff-f72c-df335862d0bf"
      },
      "outputs": [
        {
          "name": "stdout",
          "output_type": "stream",
          "text": [
            "Model: \"sequential\"\n",
            "_________________________________________________________________\n",
            " Layer (type)                Output Shape              Param #   \n",
            "=================================================================\n",
            " embedding (Embedding)       (None, None, 8)           120000    \n",
            "                                                                 \n",
            " gru (GRU)                   (None, 32)                4032      \n",
            "                                                                 \n",
            " dense (Dense)               (None, 1)                 33        \n",
            "                                                                 \n",
            "=================================================================\n",
            "Total params: 124,065\n",
            "Trainable params: 124,065\n",
            "Non-trainable params: 0\n",
            "_________________________________________________________________\n"
          ]
        }
      ],
      "source": [
        "model = build_GRU()"
      ]
    },
    {
      "cell_type": "code",
      "execution_count": null,
      "metadata": {
        "colab": {
          "base_uri": "https://localhost:8080/"
        },
        "id": "cHqgy2aU2YFM",
        "outputId": "494bc7ad-64d6-4021-dbd8-e91567056852"
      },
      "outputs": [
        {
          "name": "stdout",
          "output_type": "stream",
          "text": [
            "Epoch 1/50\n",
            "1948/1948 [==============================] - 375s 191ms/step - loss: 0.6257 - acc: 0.6372 - f1_score: 0.6285 - val_loss: 0.5970 - val_acc: 0.6812 - val_f1_score: 0.5376\n",
            "Epoch 2/50\n",
            "1948/1948 [==============================] - 380s 195ms/step - loss: 0.5644 - acc: 0.7074 - f1_score: 0.7038 - val_loss: 0.6076 - val_acc: 0.6782 - val_f1_score: 0.5480\n",
            "Epoch 3/50\n",
            "1948/1948 [==============================] - 393s 202ms/step - loss: 0.5476 - acc: 0.7190 - f1_score: 0.7139 - val_loss: 0.5433 - val_acc: 0.7237 - val_f1_score: 0.5544\n",
            "Epoch 4/50\n",
            "1948/1948 [==============================] - 394s 202ms/step - loss: 0.5383 - acc: 0.7258 - f1_score: 0.7205 - val_loss: 0.5836 - val_acc: 0.6919 - val_f1_score: 0.5519\n",
            "Epoch 5/50\n",
            "1948/1948 [==============================] - 395s 203ms/step - loss: 0.5308 - acc: 0.7311 - f1_score: 0.7259 - val_loss: 0.5857 - val_acc: 0.6908 - val_f1_score: 0.5506\n",
            "Epoch 6/50\n",
            "1948/1948 [==============================] - 394s 202ms/step - loss: 0.5235 - acc: 0.7369 - f1_score: 0.7320 - val_loss: 0.5757 - val_acc: 0.7028 - val_f1_score: 0.5533\n",
            "Epoch 7/50\n",
            "1948/1948 [==============================] - 396s 203ms/step - loss: 0.5152 - acc: 0.7433 - f1_score: 0.7381 - val_loss: 0.5340 - val_acc: 0.7367 - val_f1_score: 0.5497\n",
            "Epoch 8/50\n",
            "1948/1948 [==============================] - 395s 203ms/step - loss: 0.5077 - acc: 0.7498 - f1_score: 0.7449 - val_loss: 0.6062 - val_acc: 0.6824 - val_f1_score: 0.5460\n",
            "Epoch 9/50\n",
            "1948/1948 [==============================] - 401s 206ms/step - loss: 0.5005 - acc: 0.7551 - f1_score: 0.7502 - val_loss: 0.5924 - val_acc: 0.6992 - val_f1_score: 0.5490\n",
            "Epoch 10/50\n",
            "1948/1948 [==============================] - 397s 204ms/step - loss: 0.4936 - acc: 0.7602 - f1_score: 0.7552 - val_loss: 0.5600 - val_acc: 0.7226 - val_f1_score: 0.5462\n",
            "Epoch 11/50\n",
            "1948/1948 [==============================] - 394s 203ms/step - loss: 0.4868 - acc: 0.7659 - f1_score: 0.7607 - val_loss: 0.5769 - val_acc: 0.7037 - val_f1_score: 0.5411\n",
            "Epoch 12/50\n",
            "1948/1948 [==============================] - 394s 202ms/step - loss: 0.4804 - acc: 0.7700 - f1_score: 0.7648 - val_loss: 0.5555 - val_acc: 0.7225 - val_f1_score: 0.5368\n"
          ]
        }
      ],
      "source": [
        "history = train(model, 50)"
      ]
    },
    {
      "cell_type": "code",
      "execution_count": null,
      "metadata": {
        "colab": {
          "base_uri": "https://localhost:8080/",
          "height": 545
        },
        "id": "JaUU91OT2X7_",
        "outputId": "aae47471-820e-4656-acdf-68b8a728415f"
      },
      "outputs": [
        {
          "data": {
            "image/png": "[encoded data removed]",
            "text/plain": [
              "<Figure size 432x288 with 1 Axes>"
            ]
          },
          "metadata": {},
          "output_type": "display_data"
        },
        {
          "data": {
            "image/png": "[encoded data removed]",
            "text/plain": [
              "<Figure size 432x288 with 1 Axes>"
            ]
          },
          "metadata": {},
          "output_type": "display_data"
        }
      ],
      "source": [
        "plot_outputs()"
      ]
    },
    {
      "cell_type": "markdown",
      "metadata": {
        "id": "N9e8Y78B2oKm"
      },
      "source": [
        "# Tuning: Dropout <a class=\"anchor\" id=\"dropout\"></a>\n",
        "------------"
      ]
    },
    {
      "cell_type": "markdown",
      "metadata": {
        "id": "1w5u_2EK-Qsr"
      },
      "source": [
        "## Model 3: Rate 20% <a class=\"anchor\" id=\"model3\"></a>\n",
        "-----------------------"
      ]
    },
    {
      "cell_type": "code",
      "execution_count": null,
      "metadata": {
        "colab": {
          "base_uri": "https://localhost:8080/"
        },
        "id": "ite5-62s23RO",
        "outputId": "559067da-22c9-4260-d96f-a4c13ef1cb37"
      },
      "outputs": [
        {
          "name": "stdout",
          "output_type": "stream",
          "text": [
            "Model: \"sequential_1\"\n",
            "_________________________________________________________________\n",
            " Layer (type)                Output Shape              Param #   \n",
            "=================================================================\n",
            " embedding_1 (Embedding)     (None, None, 8)           120000    \n",
            "                                                                 \n",
            " lstm_1 (LSTM)               (None, 32)                5248      \n",
            "                                                                 \n",
            " dense_1 (Dense)             (None, 1)                 33        \n",
            "                                                                 \n",
            "=================================================================\n",
            "Total params: 125,281\n",
            "Trainable params: 125,281\n",
            "Non-trainable params: 0\n",
            "_________________________________________________________________\n"
          ]
        }
      ],
      "source": [
        "model = build_dropout(0.2, 0.2)"
      ]
    },
    {
      "cell_type": "code",
      "execution_count": null,
      "metadata": {
        "colab": {
          "base_uri": "https://localhost:8080/"
        },
        "id": "kHnBZYx9u-Ap",
        "outputId": "6038bb40-3a62-41a9-eece-e8b223d8ffe9"
      },
      "outputs": [
        {
          "name": "stdout",
          "output_type": "stream",
          "text": [
            "Epoch 1/50\n",
            "1949/1949 [==============================] - 1302s 666ms/step - loss: 0.6167 - acc: 0.6651 - f1_score: 0.6480 - val_loss: 0.5147 - val_acc: 0.7549 - val_f1_score: 0.5096\n",
            "Epoch 2/50\n",
            "1949/1949 [==============================] - 1299s 666ms/step - loss: 0.5791 - acc: 0.7013 - f1_score: 0.6969 - val_loss: 0.5496 - val_acc: 0.7273 - val_f1_score: 0.5492\n",
            "Epoch 3/50\n",
            "1949/1949 [==============================] - 1298s 666ms/step - loss: 0.5662 - acc: 0.7101 - f1_score: 0.7069 - val_loss: 0.5490 - val_acc: 0.7282 - val_f1_score: 0.5525\n",
            "Epoch 4/50\n",
            "1949/1949 [==============================] - 1297s 665ms/step - loss: 0.5591 - acc: 0.7155 - f1_score: 0.7128 - val_loss: 0.5545 - val_acc: 0.7182 - val_f1_score: 0.5550\n",
            "Epoch 5/50\n",
            "1949/1949 [==============================] - 1299s 667ms/step - loss: 0.5539 - acc: 0.7164 - f1_score: 0.7125 - val_loss: 0.5958 - val_acc: 0.6659 - val_f1_score: 0.5422\n",
            "Epoch 6/50\n",
            "1949/1949 [==============================] - 1300s 667ms/step - loss: 0.5524 - acc: 0.7153 - f1_score: 0.7162 - val_loss: 0.5828 - val_acc: 0.7022 - val_f1_score: 0.5532\n"
          ]
        }
      ],
      "source": [
        "history = train(model, 50)"
      ]
    },
    {
      "cell_type": "markdown",
      "metadata": {
        "id": "Yrm83f2TZcLd"
      },
      "source": [
        "Below I have included graphs showing the training and validation accuracy and loss of this model:\n"
      ]
    },
    {
      "cell_type": "code",
      "execution_count": null,
      "metadata": {
        "colab": {
          "base_uri": "https://localhost:8080/",
          "height": 545
        },
        "id": "iXc_6UlUmT2E",
        "outputId": "beeea635-b1ce-42a4-85da-6dae94248a6f"
      },
      "outputs": [
        {
          "data": {
            "image/png": "[encoded data removed]",
            "text/plain": [
              "<Figure size 432x288 with 1 Axes>"
            ]
          },
          "metadata": {},
          "output_type": "display_data"
        },
        {
          "data": {
            "image/png": "[encoded data removed]",
            "text/plain": [
              "<Figure size 432x288 with 1 Axes>"
            ]
          },
          "metadata": {},
          "output_type": "display_data"
        }
      ],
      "source": [
        "plot_outputs()"
      ]
    },
    {
      "cell_type": "markdown",
      "metadata": {
        "id": "vHxRYbpP-aYT"
      },
      "source": [
        "## Model 4: Rate 40% <a class=\"anchor\" id=\"model4\"></a>\n",
        "-----------------------"
      ]
    },
    {
      "cell_type": "code",
      "execution_count": null,
      "metadata": {
        "colab": {
          "background_save": true
        },
        "id": "lrJY8ajmcQIe",
        "outputId": "f9dc4db8-adcd-4746-a41a-7471fd5b52e2"
      },
      "outputs": [
        {
          "name": "stdout",
          "output_type": "stream",
          "text": [
            "Model: \"sequential_4\"\n",
            "_________________________________________________________________\n",
            " Layer (type)                Output Shape              Param #   \n",
            "=================================================================\n",
            " embedding_4 (Embedding)     (None, None, 8)           120000    \n",
            "                                                                 \n",
            " lstm_4 (LSTM)               (None, 32)                5248      \n",
            "                                                                 \n",
            " dense_4 (Dense)             (None, 1)                 33        \n",
            "                                                                 \n",
            "=================================================================\n",
            "Total params: 125,281\n",
            "Trainable params: 125,281\n",
            "Non-trainable params: 0\n",
            "_________________________________________________________________\n"
          ]
        }
      ],
      "source": [
        "model = build_dropout(0.4, 0.4)"
      ]
    },
    {
      "cell_type": "code",
      "execution_count": null,
      "metadata": {
        "colab": {
          "background_save": true
        },
        "id": "XS0X9i_6v1PS",
        "outputId": "f085a15f-5b52-4d64-87a1-61c6f3e0458b"
      },
      "outputs": [
        {
          "name": "stdout",
          "output_type": "stream",
          "text": [
            "Epoch 1/50\n",
            "1949/1949 [==============================] - 1310s 666ms/step - loss: 0.6251 - acc: 0.6530 - f1_score: 0.6315 - val_loss: 0.5584 - val_acc: 0.7060 - val_f1_score: 0.5371\n",
            "Epoch 2/50\n",
            "1949/1949 [==============================] - 1299s 667ms/step - loss: 0.5874 - acc: 0.6960 - f1_score: 0.6888 - val_loss: 0.5761 - val_acc: 0.7204 - val_f1_score: 0.5435\n",
            "Epoch 3/50\n",
            "1949/1949 [==============================] - 1298s 666ms/step - loss: 0.5758 - acc: 0.7035 - f1_score: 0.7025 - val_loss: 0.5578 - val_acc: 0.7542 - val_f1_score: 0.5282\n",
            "Epoch 4/50\n",
            "1949/1949 [==============================] - 1303s 669ms/step - loss: 0.5670 - acc: 0.7088 - f1_score: 0.7091 - val_loss: 0.5924 - val_acc: 0.6855 - val_f1_score: 0.5471\n",
            "Epoch 5/50\n",
            "1949/1949 [==============================] - 1303s 669ms/step - loss: 0.5609 - acc: 0.7117 - f1_score: 0.7131 - val_loss: 0.6201 - val_acc: 0.6683 - val_f1_score: 0.5445\n",
            "Epoch 6/50\n",
            "1949/1949 [==============================] - 1298s 666ms/step - loss: 0.5545 - acc: 0.7155 - f1_score: 0.7138 - val_loss: 0.5484 - val_acc: 0.7229 - val_f1_score: 0.5556\n",
            "Epoch 7/50\n",
            "1949/1949 [==============================] - 1304s 669ms/step - loss: 0.5493 - acc: 0.7197 - f1_score: 0.7193 - val_loss: 0.6016 - val_acc: 0.6691 - val_f1_score: 0.5464\n",
            "Epoch 8/50\n",
            "1949/1949 [==============================] - 1299s 667ms/step - loss: 0.5457 - acc: 0.7217 - f1_score: 0.7207 - val_loss: 0.5543 - val_acc: 0.7298 - val_f1_score: 0.5526\n",
            "Epoch 9/50\n",
            "1949/1949 [==============================] - 1297s 666ms/step - loss: 0.5426 - acc: 0.7243 - f1_score: 0.7235 - val_loss: 0.5849 - val_acc: 0.7087 - val_f1_score: 0.5515\n",
            "Epoch 10/50\n",
            "1949/1949 [==============================] - 1299s 667ms/step - loss: 0.5403 - acc: 0.7253 - f1_score: 0.7246 - val_loss: 0.5647 - val_acc: 0.7024 - val_f1_score: 0.5532\n",
            "Epoch 11/50\n",
            "1949/1949 [==============================] - 1300s 667ms/step - loss: 0.5385 - acc: 0.7261 - f1_score: 0.7249 - val_loss: 0.5274 - val_acc: 0.7404 - val_f1_score: 0.5535\n",
            "Epoch 12/50\n",
            "1949/1949 [==============================] - 1301s 668ms/step - loss: 0.5362 - acc: 0.7276 - f1_score: 0.7257 - val_loss: 0.4960 - val_acc: 0.7621 - val_f1_score: 0.5359\n",
            "Epoch 13/50\n",
            "1949/1949 [==============================] - 1303s 669ms/step - loss: 0.5348 - acc: 0.7288 - f1_score: 0.7265 - val_loss: 0.5381 - val_acc: 0.7393 - val_f1_score: 0.5564\n",
            "Epoch 14/50\n",
            "1949/1949 [==============================] - 1306s 670ms/step - loss: 0.5336 - acc: 0.7293 - f1_score: 0.7277 - val_loss: 0.5272 - val_acc: 0.7344 - val_f1_score: 0.5559\n",
            "Epoch 15/50\n",
            "1949/1949 [==============================] - 1320s 677ms/step - loss: 0.5323 - acc: 0.7308 - f1_score: 0.7296 - val_loss: 0.5545 - val_acc: 0.7258 - val_f1_score: 0.5526\n",
            "Epoch 16/50\n",
            "1949/1949 [==============================] - 1318s 676ms/step - loss: 0.5307 - acc: 0.7326 - f1_score: 0.7309 - val_loss: 0.5391 - val_acc: 0.7383 - val_f1_score: 0.5538\n",
            "Epoch 17/50\n",
            "1949/1949 [==============================] - 1307s 670ms/step - loss: 0.5292 - acc: 0.7329 - f1_score: 0.7315 - val_loss: 0.5548 - val_acc: 0.7372 - val_f1_score: 0.5487\n"
          ]
        }
      ],
      "source": [
        "history = train(model, 50)"
      ]
    },
    {
      "cell_type": "markdown",
      "metadata": {
        "id": "9Yv8WEPQaPjI"
      },
      "source": [
        "Graphs showing the training and validation loss and accuracy can be found below:"
      ]
    },
    {
      "cell_type": "code",
      "execution_count": null,
      "metadata": {
        "colab": {
          "background_save": true
        },
        "id": "mZElJhUycUDi",
        "outputId": "3a45d032-f6cd-419e-9be5-1a50ef501963"
      },
      "outputs": [
        {
          "data": {
            "image/png": "[encoded data removed]",
            "text/plain": [
              "<Figure size 432x288 with 1 Axes>"
            ]
          },
          "metadata": {},
          "output_type": "display_data"
        },
        {
          "data": {
            "image/png": "[encoded data removed]",
            "text/plain": [
              "<Figure size 432x288 with 1 Axes>"
            ]
          },
          "metadata": {},
          "output_type": "display_data"
        }
      ],
      "source": [
        "plot_outputs()"
      ]
    },
    {
      "cell_type": "markdown",
      "metadata": {
        "id": "_EEWbueXCS7d"
      },
      "source": [
        "## Model 5: Rate 30% <a class=\"anchor\" id=\"model5\"></a>\n",
        "-----------------------"
      ]
    },
    {
      "cell_type": "code",
      "execution_count": null,
      "metadata": {
        "colab": {
          "base_uri": "https://localhost:8080/"
        },
        "id": "6EPKuGN_CLvv",
        "outputId": "26c47d79-2544-4890-b1ff-63947a854fcd"
      },
      "outputs": [
        {
          "name": "stdout",
          "output_type": "stream",
          "text": [
            "Model: \"sequential_3\"\n",
            "_________________________________________________________________\n",
            " Layer (type)                Output Shape              Param #   \n",
            "=================================================================\n",
            " embedding_3 (Embedding)     (None, None, 8)           120000    \n",
            "                                                                 \n",
            " lstm_3 (LSTM)               (None, 32)                5248      \n",
            "                                                                 \n",
            " dense_3 (Dense)             (None, 1)                 33        \n",
            "                                                                 \n",
            "=================================================================\n",
            "Total params: 125,281\n",
            "Trainable params: 125,281\n",
            "Non-trainable params: 0\n",
            "_________________________________________________________________\n"
          ]
        }
      ],
      "source": [
        "model = build_dropout(0.3, 0.3)"
      ]
    },
    {
      "cell_type": "code",
      "execution_count": null,
      "metadata": {
        "colab": {
          "background_save": true,
          "base_uri": "https://localhost:8080/"
        },
        "id": "YRZwq_AuCNp1",
        "outputId": "6ddf092a-083e-417c-a9f4-807eba52020c"
      },
      "outputs": [
        {
          "name": "stdout",
          "output_type": "stream",
          "text": [
            "Epoch 1/50\n",
            "1949/1949 [==============================] - 1298s 665ms/step - loss: 0.6244 - acc: 0.6547 - f1_score: 0.6188 - val_loss: 0.6667 - val_acc: 0.6344 - val_f1_score: 0.5274\n",
            "Epoch 2/50\n",
            "1949/1949 [==============================] - 1296s 665ms/step - loss: 0.5925 - acc: 0.6911 - f1_score: 0.6845 - val_loss: 0.5666 - val_acc: 0.7095 - val_f1_score: 0.5434\n",
            "Epoch 3/50\n",
            "1949/1949 [==============================] - 1296s 665ms/step - loss: 0.5765 - acc: 0.7054 - f1_score: 0.7040 - val_loss: 0.5879 - val_acc: 0.7356 - val_f1_score: 0.5336\n",
            "Epoch 4/50\n",
            "1949/1949 [==============================] - 1298s 666ms/step - loss: 0.5657 - acc: 0.7100 - f1_score: 0.7077 - val_loss: 0.5598 - val_acc: 0.6891 - val_f1_score: 0.5470\n",
            "Epoch 5/50\n",
            "1949/1949 [==============================] - 1295s 664ms/step - loss: 0.5623 - acc: 0.7115 - f1_score: 0.7093 - val_loss: 0.5263 - val_acc: 0.7334 - val_f1_score: 0.5461\n",
            "Epoch 6/50\n",
            "1949/1949 [==============================] - 1295s 664ms/step - loss: 0.5569 - acc: 0.7119 - f1_score: 0.7123 - val_loss: 0.5835 - val_acc: 0.7204 - val_f1_score: 0.5460\n",
            "Epoch 7/50\n",
            "1949/1949 [==============================] - 1296s 665ms/step - loss: 0.5538 - acc: 0.7150 - f1_score: 0.7136 - val_loss: 0.5551 - val_acc: 0.7129 - val_f1_score: 0.5523\n",
            "Epoch 8/50\n",
            "1949/1949 [==============================] - 1331s 683ms/step - loss: 0.5498 - acc: 0.7180 - f1_score: 0.7171 - val_loss: 0.5478 - val_acc: 0.7164 - val_f1_score: 0.5532\n",
            "Epoch 9/50\n",
            "1949/1949 [==============================] - 1300s 667ms/step - loss: 0.5438 - acc: 0.7203 - f1_score: 0.7135 - val_loss: 0.5897 - val_acc: 0.7100 - val_f1_score: 0.5526\n",
            "Epoch 10/50\n",
            "1949/1949 [==============================] - 1281s 657ms/step - loss: 0.5424 - acc: 0.7214 - f1_score: 0.7148 - val_loss: 0.5534 - val_acc: 0.7261 - val_f1_score: 0.5551\n"
          ]
        }
      ],
      "source": [
        "history = train(model, 50)"
      ]
    },
    {
      "cell_type": "code",
      "execution_count": null,
      "metadata": {
        "colab": {
          "background_save": true
        },
        "id": "aY60CegHOGKg",
        "outputId": "d0a4d848-b622-4b7f-9293-d293bf13ddb4"
      },
      "outputs": [
        {
          "data": {
            "image/png": "[encoded data removed]",
            "text/plain": [
              "<Figure size 432x288 with 1 Axes>"
            ]
          },
          "metadata": {},
          "output_type": "display_data"
        },
        {
          "data": {
            "image/png": "[encoded data removed]",
            "text/plain": [
              "<Figure size 432x288 with 1 Axes>"
            ]
          },
          "metadata": {},
          "output_type": "display_data"
        }
      ],
      "source": [
        "plot_outputs()"
      ]
    },
    {
      "cell_type": "markdown",
      "metadata": {
        "id": "UfpTQsadZXBq"
      },
      "source": [
        "# Tuning: Number of Layers <a class=\"anchor\" id=\"layers\"></a>\n",
        "----------------------------\n",
        "Next, I will be changing the architecture by adding layers. Adding layers will increase the capacity of the network, making it more likely to learn important patterns that can allow it to make more accurate predictions. "
      ]
    },
    {
      "cell_type": "markdown",
      "metadata": {
        "id": "QKfum3k6O2lP"
      },
      "source": [
        "## Failed Model: 2 Layers <a class=\"anchor\" id=\"model6\"></a>\n",
        "--------------------\n",
        "For the next model, I will be increasing the number of LSTM layers to 2. The model definition can be seen below. "
      ]
    },
    {
      "cell_type": "code",
      "execution_count": null,
      "metadata": {
        "id": "dl0MU_eYZii-"
      },
      "outputs": [],
      "source": [
        "model = build_layers(0.4, 0.4, 2)"
      ]
    },
    {
      "cell_type": "code",
      "execution_count": null,
      "metadata": {
        "id": "JVzlzUzlZ8_y"
      },
      "outputs": [],
      "source": [
        "history = train(model, 50)"
      ]
    },
    {
      "cell_type": "markdown",
      "metadata": {
        "id": "fcBZaw3BC2og"
      },
      "source": [
        "# Tuning: Learning Rate <a class=\"anchor\" id=\"Learning-Rate\"></a>\n",
        "----------------------------"
      ]
    },
    {
      "cell_type": "markdown",
      "metadata": {
        "id": "o0lBz6h6F00f"
      },
      "source": [
        "## Model 6: 0.003 <a class=\"anchor\" id=\"model8\"></a>\n",
        "-----------------"
      ]
    },
    {
      "cell_type": "code",
      "execution_count": null,
      "metadata": {
        "colab": {
          "base_uri": "https://localhost:8080/"
        },
        "id": "My-6PlgUF6F9",
        "outputId": "f49ddb9b-84d2-4f50-b6cf-61e053729353"
      },
      "outputs": [
        {
          "name": "stdout",
          "output_type": "stream",
          "text": [
            "Model: \"sequential_1\"\n",
            "_________________________________________________________________\n",
            " Layer (type)                Output Shape              Param #   \n",
            "=================================================================\n",
            " embedding_1 (Embedding)     (None, None, 8)           120000    \n",
            "                                                                 \n",
            " lstm (LSTM)                 (None, 32)                5248      \n",
            "                                                                 \n",
            " dense_1 (Dense)             (None, 1)                 33        \n",
            "                                                                 \n",
            "=================================================================\n",
            "Total params: 125,281\n",
            "Trainable params: 125,281\n",
            "Non-trainable params: 0\n",
            "_________________________________________________________________\n"
          ]
        }
      ],
      "source": [
        "model = build_learning_rate(0.4, 0.4, 0.003)"
      ]
    },
    {
      "cell_type": "code",
      "execution_count": null,
      "metadata": {
        "colab": {
          "base_uri": "https://localhost:8080/"
        },
        "id": "wceGNTiuF58I",
        "outputId": "4adcebf0-4afa-4fe4-ade5-341c5930e6eb"
      },
      "outputs": [
        {
          "name": "stdout",
          "output_type": "stream",
          "text": [
            "Epoch 1/50\n",
            "1948/1948 [==============================] - 961s 492ms/step - loss: 0.6466 - acc: 0.6339 - f1_score: 0.6088 - val_loss: 0.5578 - val_acc: 0.7520 - val_f1_score: 0.4642\n",
            "Epoch 2/50\n",
            "1948/1948 [==============================] - 961s 493ms/step - loss: 0.6058 - acc: 0.6785 - f1_score: 0.6810 - val_loss: 0.5342 - val_acc: 0.7405 - val_f1_score: 0.5172\n",
            "Epoch 3/50\n",
            "1948/1948 [==============================] - 956s 491ms/step - loss: 0.5767 - acc: 0.6950 - f1_score: 0.6934 - val_loss: 0.5991 - val_acc: 0.6541 - val_f1_score: 0.5379\n",
            "Epoch 4/50\n",
            "1948/1948 [==============================] - 948s 487ms/step - loss: 0.5648 - acc: 0.7047 - f1_score: 0.7019 - val_loss: 0.5297 - val_acc: 0.7172 - val_f1_score: 0.5499\n",
            "Epoch 5/50\n",
            "1948/1948 [==============================] - 951s 488ms/step - loss: 0.5566 - acc: 0.7116 - f1_score: 0.7040 - val_loss: 0.5480 - val_acc: 0.7324 - val_f1_score: 0.5512\n",
            "Epoch 6/50\n",
            "1948/1948 [==============================] - 948s 487ms/step - loss: 0.5533 - acc: 0.7128 - f1_score: 0.7068 - val_loss: 0.5134 - val_acc: 0.7558 - val_f1_score: 0.5329\n",
            "Epoch 7/50\n",
            "1948/1948 [==============================] - 948s 487ms/step - loss: 0.5486 - acc: 0.7174 - f1_score: 0.7134 - val_loss: 0.5259 - val_acc: 0.7452 - val_f1_score: 0.5480\n",
            "Epoch 8/50\n",
            "1948/1948 [==============================] - 947s 486ms/step - loss: 0.5445 - acc: 0.7200 - f1_score: 0.7155 - val_loss: 0.5873 - val_acc: 0.7131 - val_f1_score: 0.5506\n",
            "Epoch 9/50\n",
            "1948/1948 [==============================] - 946s 486ms/step - loss: 0.5423 - acc: 0.7221 - f1_score: 0.7183 - val_loss: 0.6156 - val_acc: 0.6950 - val_f1_score: 0.5519\n",
            "Epoch 10/50\n",
            "1948/1948 [==============================] - 944s 485ms/step - loss: 0.5386 - acc: 0.7253 - f1_score: 0.7208 - val_loss: 0.5642 - val_acc: 0.7231 - val_f1_score: 0.5525\n",
            "Epoch 11/50\n",
            "1948/1948 [==============================] - 943s 484ms/step - loss: 0.5370 - acc: 0.7262 - f1_score: 0.7200 - val_loss: 0.6132 - val_acc: 0.6763 - val_f1_score: 0.5477\n"
          ]
        }
      ],
      "source": [
        "history = train(model, 50)"
      ]
    },
    {
      "cell_type": "code",
      "execution_count": null,
      "metadata": {
        "colab": {
          "base_uri": "https://localhost:8080/",
          "height": 545
        },
        "id": "HYFMM8INF5ws",
        "outputId": "f09329b9-4d62-4a18-c1c7-122762d5508b"
      },
      "outputs": [
        {
          "data": {
            "image/png": "[encoded data removed]",
            "text/plain": [
              "<Figure size 432x288 with 1 Axes>"
            ]
          },
          "metadata": {},
          "output_type": "display_data"
        },
        {
          "data": {
            "image/png": "[encoded data removed]",
            "text/plain": [
              "<Figure size 432x288 with 1 Axes>"
            ]
          },
          "metadata": {},
          "output_type": "display_data"
        }
      ],
      "source": [
        "plot_outputs()"
      ]
    },
    {
      "cell_type": "markdown",
      "metadata": {
        "id": "hUsNfyxdF6ny"
      },
      "source": [
        "## Model 7: 0.006 <a class=\"anchor\" id=\"model9\"></a>\n",
        "--------------"
      ]
    },
    {
      "cell_type": "code",
      "execution_count": null,
      "metadata": {
        "colab": {
          "base_uri": "https://localhost:8080/"
        },
        "id": "2-IsRpDEEa1c",
        "outputId": "82b57c2c-9a89-448b-8a54-91c7110dc23d"
      },
      "outputs": [
        {
          "name": "stdout",
          "output_type": "stream",
          "text": [
            "Model: \"sequential_2\"\n",
            "_________________________________________________________________\n",
            " Layer (type)                Output Shape              Param #   \n",
            "=================================================================\n",
            " embedding_2 (Embedding)     (None, None, 8)           120000    \n",
            "                                                                 \n",
            " lstm_1 (LSTM)               (None, 32)                5248      \n",
            "                                                                 \n",
            " dense_2 (Dense)             (None, 1)                 33        \n",
            "                                                                 \n",
            "=================================================================\n",
            "Total params: 125,281\n",
            "Trainable params: 125,281\n",
            "Non-trainable params: 0\n",
            "_________________________________________________________________\n"
          ]
        }
      ],
      "source": [
        "model = build_learning_rate(0.4, 0.4, 0.006)"
      ]
    },
    {
      "cell_type": "code",
      "execution_count": null,
      "metadata": {
        "colab": {
          "base_uri": "https://localhost:8080/"
        },
        "id": "1IOV53vnF9_x",
        "outputId": "0f2250ca-e48d-487d-c279-fb302f0b8d40"
      },
      "outputs": [
        {
          "name": "stdout",
          "output_type": "stream",
          "text": [
            "Epoch 1/50\n",
            "1948/1948 [==============================] - 949s 486ms/step - loss: 0.6529 - acc: 0.6082 - f1_score: 0.5692 - val_loss: 0.5847 - val_acc: 0.7110 - val_f1_score: 0.5389\n",
            "Epoch 2/50\n",
            "1948/1948 [==============================] - 948s 487ms/step - loss: 0.5722 - acc: 0.6999 - f1_score: 0.6953 - val_loss: 0.5328 - val_acc: 0.7320 - val_f1_score: 0.5499\n",
            "Epoch 3/50\n",
            "1948/1948 [==============================] - 942s 483ms/step - loss: 0.5553 - acc: 0.7135 - f1_score: 0.7086 - val_loss: 0.5805 - val_acc: 0.6842 - val_f1_score: 0.5523\n",
            "Epoch 4/50\n",
            "1948/1948 [==============================] - 947s 486ms/step - loss: 0.5472 - acc: 0.7200 - f1_score: 0.7151 - val_loss: 0.5429 - val_acc: 0.7308 - val_f1_score: 0.5509\n",
            "Epoch 5/50\n",
            "1948/1948 [==============================] - 946s 486ms/step - loss: 0.5409 - acc: 0.7248 - f1_score: 0.7204 - val_loss: 0.5219 - val_acc: 0.7342 - val_f1_score: 0.5531\n",
            "Epoch 6/50\n",
            "1948/1948 [==============================] - 946s 486ms/step - loss: 0.5382 - acc: 0.7280 - f1_score: 0.7232 - val_loss: 0.5556 - val_acc: 0.7070 - val_f1_score: 0.5544\n",
            "Epoch 7/50\n",
            "1948/1948 [==============================] - 945s 485ms/step - loss: 0.5347 - acc: 0.7296 - f1_score: 0.7249 - val_loss: 0.5786 - val_acc: 0.7078 - val_f1_score: 0.5531\n",
            "Epoch 8/50\n",
            "1948/1948 [==============================] - 942s 484ms/step - loss: 0.5321 - acc: 0.7316 - f1_score: 0.7262 - val_loss: 0.5773 - val_acc: 0.6893 - val_f1_score: 0.5509\n",
            "Epoch 9/50\n",
            "1948/1948 [==============================] - 943s 484ms/step - loss: 0.5295 - acc: 0.7346 - f1_score: 0.7292 - val_loss: 0.5587 - val_acc: 0.6988 - val_f1_score: 0.5510\n",
            "Epoch 10/50\n",
            "1948/1948 [==============================] - 946s 486ms/step - loss: 0.5288 - acc: 0.7350 - f1_score: 0.7296 - val_loss: 0.5451 - val_acc: 0.7080 - val_f1_score: 0.5522\n"
          ]
        }
      ],
      "source": [
        "history = train(model, 50)"
      ]
    },
    {
      "cell_type": "code",
      "execution_count": null,
      "metadata": {
        "colab": {
          "base_uri": "https://localhost:8080/",
          "height": 545
        },
        "id": "Zm1ZzSO3F90e",
        "outputId": "f56cdbc9-1a32-4d04-8c95-b20452e4f9e9"
      },
      "outputs": [
        {
          "data": {
            "image/png": "[encoded data removed]",
            "text/plain": [
              "<Figure size 432x288 with 1 Axes>"
            ]
          },
          "metadata": {},
          "output_type": "display_data"
        },
        {
          "data": {
            "image/png": "[encoded data removed]",
            "text/plain": [
              "<Figure size 432x288 with 1 Axes>"
            ]
          },
          "metadata": {},
          "output_type": "display_data"
        }
      ],
      "source": [
        "plot_outputs()"
      ]
    },
    {
      "cell_type": "markdown",
      "metadata": {
        "id": "Zjtf-Hn8F-mh"
      },
      "source": [
        "## Model 8: 0.004 <a class=\"anchor\" id=\"model10\"></a>\n",
        "----------------"
      ]
    },
    {
      "cell_type": "code",
      "execution_count": null,
      "metadata": {
        "colab": {
          "base_uri": "https://localhost:8080/"
        },
        "id": "e1_Ecb8TGFE-",
        "outputId": "0419ac24-fbd1-4323-f1f2-7c7b81274a99"
      },
      "outputs": [
        {
          "name": "stdout",
          "output_type": "stream",
          "text": [
            "Model: \"sequential_3\"\n",
            "_________________________________________________________________\n",
            " Layer (type)                Output Shape              Param #   \n",
            "=================================================================\n",
            " embedding_3 (Embedding)     (None, None, 8)           120000    \n",
            "                                                                 \n",
            " lstm_2 (LSTM)               (None, 32)                5248      \n",
            "                                                                 \n",
            " dense_3 (Dense)             (None, 1)                 33        \n",
            "                                                                 \n",
            "=================================================================\n",
            "Total params: 125,281\n",
            "Trainable params: 125,281\n",
            "Non-trainable params: 0\n",
            "_________________________________________________________________\n"
          ]
        }
      ],
      "source": [
        "model = build_learning_rate(0.4, 0.4, 0.004)"
      ]
    },
    {
      "cell_type": "code",
      "execution_count": null,
      "metadata": {
        "colab": {
          "background_save": true,
          "base_uri": "https://localhost:8080/"
        },
        "id": "W_tc1ShUGE8Y",
        "outputId": "f55e591a-d8b0-4ab1-af13-011128f08b61"
      },
      "outputs": [
        {
          "name": "stdout",
          "output_type": "stream",
          "text": [
            "Epoch 1/50\n",
            "1948/1948 [==============================] - 941s 482ms/step - loss: 0.6496 - acc: 0.6230 - f1_score: 0.6156 - val_loss: 0.6399 - val_acc: 0.6425 - val_f1_score: 0.5194\n",
            "Epoch 2/50\n",
            "1948/1948 [==============================] - 939s 482ms/step - loss: 0.5950 - acc: 0.6792 - f1_score: 0.6757 - val_loss: 0.5098 - val_acc: 0.7461 - val_f1_score: 0.5302\n",
            "Epoch 3/50\n",
            "1948/1948 [==============================] - 933s 479ms/step - loss: 0.5675 - acc: 0.7006 - f1_score: 0.6981 - val_loss: 0.5231 - val_acc: 0.7360 - val_f1_score: 0.5469\n",
            "Epoch 4/50\n",
            "1948/1948 [==============================] - 936s 481ms/step - loss: 0.5600 - acc: 0.7072 - f1_score: 0.7017 - val_loss: 0.6012 - val_acc: 0.6688 - val_f1_score: 0.5451\n",
            "Epoch 5/50\n",
            "1948/1948 [==============================] - 932s 479ms/step - loss: 0.5539 - acc: 0.7122 - f1_score: 0.7074 - val_loss: 0.5996 - val_acc: 0.7000 - val_f1_score: 0.5514\n",
            "Epoch 6/50\n",
            "1948/1948 [==============================] - 934s 479ms/step - loss: 0.5508 - acc: 0.7155 - f1_score: 0.7124 - val_loss: 0.6615 - val_acc: 0.6200 - val_f1_score: 0.5315\n",
            "Epoch 7/50\n",
            "1948/1948 [==============================] - 927s 476ms/step - loss: 0.5487 - acc: 0.7175 - f1_score: 0.7122 - val_loss: 0.5601 - val_acc: 0.7163 - val_f1_score: 0.5508\n"
          ]
        }
      ],
      "source": [
        "history = train(model, 50)"
      ]
    },
    {
      "cell_type": "code",
      "execution_count": null,
      "metadata": {
        "colab": {
          "background_save": true
        },
        "id": "HbH7IgqoGEyR",
        "outputId": "6a76bebb-7cf3-4b81-e3d2-791db498dfd9"
      },
      "outputs": [
        {
          "data": {
            "image/png": "[encoded data removed]",
            "text/plain": [
              "<Figure size 432x288 with 1 Axes>"
            ]
          },
          "metadata": {},
          "output_type": "display_data"
        },
        {
          "data": {
            "image/png": "[encoded data removed]",
            "text/plain": [
              "<Figure size 432x288 with 1 Axes>"
            ]
          },
          "metadata": {},
          "output_type": "display_data"
        }
      ],
      "source": [
        "plot_outputs()"
      ]
    },
    {
      "cell_type": "markdown",
      "metadata": {
        "id": "Lmp53e4YCP7U"
      },
      "source": [
        "## Model 9: 0.01 <a class=\"anchor\" id=\"model11\"></a>\n",
        "-----------------"
      ]
    },
    {
      "cell_type": "code",
      "execution_count": null,
      "metadata": {
        "colab": {
          "background_save": true
        },
        "id": "MaIHjBWU0ava",
        "outputId": "92d73b0b-ae69-4b87-d0b6-04233dfe861c"
      },
      "outputs": [
        {
          "name": "stdout",
          "output_type": "stream",
          "text": [
            "Model: \"sequential_4\"\n",
            "_________________________________________________________________\n",
            " Layer (type)                Output Shape              Param #   \n",
            "=================================================================\n",
            " embedding_4 (Embedding)     (None, None, 8)           120000    \n",
            "                                                                 \n",
            " lstm_3 (LSTM)               (None, 32)                5248      \n",
            "                                                                 \n",
            " dense_4 (Dense)             (None, 1)                 33        \n",
            "                                                                 \n",
            "=================================================================\n",
            "Total params: 125,281\n",
            "Trainable params: 125,281\n",
            "Non-trainable params: 0\n",
            "_________________________________________________________________\n"
          ]
        }
      ],
      "source": [
        "model = build_learning_rate(0.4, 0.4, 0.01)"
      ]
    },
    {
      "cell_type": "code",
      "execution_count": null,
      "metadata": {
        "colab": {
          "background_save": true
        },
        "id": "LQKOiqeaVQIe",
        "outputId": "3c8279e3-98e4-4738-df9a-a35b7907e2ad"
      },
      "outputs": [
        {
          "name": "stdout",
          "output_type": "stream",
          "text": [
            "Epoch 1/50\n",
            "1948/1948 [==============================] - 924s 473ms/step - loss: 0.6234 - acc: 0.6426 - f1_score: 0.6330 - val_loss: 0.6179 - val_acc: 0.6517 - val_f1_score: 0.5343\n",
            "Epoch 2/50\n",
            "1948/1948 [==============================] - 922s 473ms/step - loss: 0.5695 - acc: 0.7014 - f1_score: 0.6953 - val_loss: 0.5112 - val_acc: 0.7426 - val_f1_score: 0.5405\n",
            "Epoch 3/50\n",
            "1948/1948 [==============================] - 923s 474ms/step - loss: 0.5560 - acc: 0.7121 - f1_score: 0.7063 - val_loss: 0.5542 - val_acc: 0.7160 - val_f1_score: 0.5545\n",
            "Epoch 4/50\n",
            "1948/1948 [==============================] - 928s 476ms/step - loss: 0.5481 - acc: 0.7188 - f1_score: 0.7128 - val_loss: 0.5544 - val_acc: 0.7189 - val_f1_score: 0.5549\n",
            "Epoch 5/50\n",
            "1948/1948 [==============================] - 931s 478ms/step - loss: 0.5484 - acc: 0.7195 - f1_score: 0.7162 - val_loss: 0.5632 - val_acc: 0.7072 - val_f1_score: 0.5524\n",
            "Epoch 6/50\n",
            "1948/1948 [==============================] - 921s 473ms/step - loss: 0.5425 - acc: 0.7239 - f1_score: 0.7182 - val_loss: 0.5153 - val_acc: 0.7447 - val_f1_score: 0.5521\n",
            "Epoch 7/50\n",
            "1948/1948 [==============================] - 921s 473ms/step - loss: 0.5398 - acc: 0.7261 - f1_score: 0.7207 - val_loss: 0.5154 - val_acc: 0.7404 - val_f1_score: 0.5522\n"
          ]
        }
      ],
      "source": [
        "history = train(model, 50)"
      ]
    },
    {
      "cell_type": "code",
      "execution_count": null,
      "metadata": {
        "colab": {
          "background_save": true
        },
        "id": "vtEvfI-V0cRz",
        "outputId": "a5ba87a8-b2ea-4fcf-f21d-a7f06fda3a1e"
      },
      "outputs": [
        {
          "data": {
            "image/png": "[encoded data removed]",
            "text/plain": [
              "<Figure size 432x288 with 1 Axes>"
            ]
          },
          "metadata": {},
          "output_type": "display_data"
        },
        {
          "data": {
            "image/png": "[encoded data removed]",
            "text/plain": [
              "<Figure size 432x288 with 1 Axes>"
            ]
          },
          "metadata": {},
          "output_type": "display_data"
        }
      ],
      "source": [
        "plot_outputs()"
      ]
    },
    {
      "cell_type": "markdown",
      "metadata": {
        "id": "9KVp5yM-y1EN"
      },
      "source": [
        "## Model 10: Adam Optimizer\n",
        "---------------------------"
      ]
    },
    {
      "cell_type": "code",
      "execution_count": null,
      "metadata": {
        "colab": {
          "background_save": true
        },
        "id": "Lu_WqSCxy5Sk",
        "outputId": "b579c3a2-8f73-4660-9898-a4df3c28ec27"
      },
      "outputs": [
        {
          "name": "stdout",
          "output_type": "stream",
          "text": [
            "Model: \"sequential_5\"\n",
            "_________________________________________________________________\n",
            " Layer (type)                Output Shape              Param #   \n",
            "=================================================================\n",
            " embedding_5 (Embedding)     (None, None, 8)           120000    \n",
            "                                                                 \n",
            " lstm_4 (LSTM)               (None, 32)                5248      \n",
            "                                                                 \n",
            " dense_5 (Dense)             (None, 1)                 33        \n",
            "                                                                 \n",
            "=================================================================\n",
            "Total params: 125,281\n",
            "Trainable params: 125,281\n",
            "Non-trainable params: 0\n",
            "_________________________________________________________________\n"
          ]
        }
      ],
      "source": [
        "model = build_optimizer(0.4, 0.4, 'Adam')"
      ]
    },
    {
      "cell_type": "code",
      "execution_count": null,
      "metadata": {
        "colab": {
          "background_save": true
        },
        "id": "1ud1qxTYy-hs",
        "outputId": "e3634f85-003b-4a4e-993a-658cc90de328"
      },
      "outputs": [
        {
          "name": "stdout",
          "output_type": "stream",
          "text": [
            "Epoch 1/50\n",
            "1948/1948 [==============================] - 939s 479ms/step - loss: 0.6668 - acc: 0.5899 - f1_score: 0.5632 - val_loss: 0.6738 - val_acc: 0.7213 - val_f1_score: 0.0985\n",
            "Epoch 2/50\n",
            "1948/1948 [==============================] - 938s 482ms/step - loss: 0.6543 - acc: 0.6032 - f1_score: 0.5943 - val_loss: 0.6336 - val_acc: 0.6346 - val_f1_score: 0.5206\n",
            "Epoch 3/50\n",
            "1948/1948 [==============================] - 937s 481ms/step - loss: 0.6840 - acc: 0.5500 - f1_score: 0.5163 - val_loss: 0.6825 - val_acc: 0.5772 - val_f1_score: 0.3881\n",
            "Epoch 4/50\n",
            "1948/1948 [==============================] - 943s 484ms/step - loss: 0.6586 - acc: 0.6054 - f1_score: 0.5992 - val_loss: 0.6778 - val_acc: 0.5028 - val_f1_score: 0.4472\n",
            "Epoch 5/50\n",
            "1948/1948 [==============================] - 948s 487ms/step - loss: 0.6140 - acc: 0.6635 - f1_score: 0.6666 - val_loss: 0.5463 - val_acc: 0.7183 - val_f1_score: 0.5209\n",
            "Epoch 6/50\n",
            "1948/1948 [==============================] - 950s 488ms/step - loss: 0.6087 - acc: 0.6686 - f1_score: 0.6583 - val_loss: 0.6658 - val_acc: 0.7168 - val_f1_score: 0.2528\n",
            "Epoch 7/50\n",
            "1948/1948 [==============================] - 939s 482ms/step - loss: 0.6111 - acc: 0.6680 - f1_score: 0.6689 - val_loss: 0.5533 - val_acc: 0.7398 - val_f1_score: 0.5118\n",
            "Epoch 8/50\n",
            "1948/1948 [==============================] - 939s 482ms/step - loss: 0.5759 - acc: 0.7004 - f1_score: 0.6937 - val_loss: 0.5640 - val_acc: 0.7139 - val_f1_score: 0.5420\n",
            "Epoch 9/50\n",
            "1948/1948 [==============================] - 938s 481ms/step - loss: 0.5647 - acc: 0.7114 - f1_score: 0.7100 - val_loss: 0.5285 - val_acc: 0.7424 - val_f1_score: 0.5373\n",
            "Epoch 10/50\n",
            "1948/1948 [==============================] - 934s 479ms/step - loss: 0.5553 - acc: 0.7178 - f1_score: 0.7170 - val_loss: 0.5159 - val_acc: 0.7493 - val_f1_score: 0.5378\n",
            "Epoch 11/50\n",
            "1948/1948 [==============================] - 939s 482ms/step - loss: 0.5502 - acc: 0.7216 - f1_score: 0.7213 - val_loss: 0.5375 - val_acc: 0.7364 - val_f1_score: 0.5492\n",
            "Epoch 12/50\n",
            "1948/1948 [==============================] - 938s 481ms/step - loss: 0.5437 - acc: 0.7264 - f1_score: 0.7252 - val_loss: 0.5112 - val_acc: 0.7551 - val_f1_score: 0.5405\n",
            "Epoch 13/50\n",
            "1948/1948 [==============================] - 933s 479ms/step - loss: 0.5369 - acc: 0.7298 - f1_score: 0.7276 - val_loss: 0.5606 - val_acc: 0.7139 - val_f1_score: 0.5519\n",
            "Epoch 14/50\n",
            "1948/1948 [==============================] - 937s 481ms/step - loss: 0.5317 - acc: 0.7338 - f1_score: 0.7316 - val_loss: 0.5471 - val_acc: 0.7183 - val_f1_score: 0.5531\n",
            "Epoch 15/50\n",
            "1948/1948 [==============================] - 936s 480ms/step - loss: 0.5281 - acc: 0.7366 - f1_score: 0.7341 - val_loss: 0.5605 - val_acc: 0.7170 - val_f1_score: 0.5523\n",
            "Epoch 16/50\n",
            "1948/1948 [==============================] - 937s 481ms/step - loss: 0.5238 - acc: 0.7391 - f1_score: 0.7363 - val_loss: 0.5467 - val_acc: 0.7236 - val_f1_score: 0.5513\n",
            "Epoch 17/50\n",
            "1948/1948 [==============================] - 944s 484ms/step - loss: 0.5208 - acc: 0.7411 - f1_score: 0.7381 - val_loss: 0.5633 - val_acc: 0.7101 - val_f1_score: 0.5489\n"
          ]
        }
      ],
      "source": [
        "history = train(model, 50)"
      ]
    },
    {
      "cell_type": "code",
      "execution_count": null,
      "metadata": {
        "colab": {
          "background_save": true
        },
        "id": "Dl1QWqexzBg2",
        "outputId": "c6912735-bd2f-4b69-98c0-6bf42041f223"
      },
      "outputs": [
        {
          "data": {
            "image/png": "[encoded data removed]",
            "text/plain": [
              "<Figure size 432x288 with 1 Axes>"
            ]
          },
          "metadata": {},
          "output_type": "display_data"
        },
        {
          "data": {
            "image/png": "[encoded data removed]",
            "text/plain": [
              "<Figure size 432x288 with 1 Axes>"
            ]
          },
          "metadata": {},
          "output_type": "display_data"
        }
      ],
      "source": [
        "plot_outputs()"
      ]
    },
    {
      "cell_type": "markdown",
      "metadata": {
        "id": "kl9HwySyz5vd"
      },
      "source": [
        "## Model 11: Nadam Optimizer\n",
        "---------------------------"
      ]
    },
    {
      "cell_type": "code",
      "execution_count": null,
      "metadata": {
        "colab": {
          "background_save": true
        },
        "id": "lD8T5H7bz5vf",
        "outputId": "2c626bdb-b571-4b70-e939-41148570e11a"
      },
      "outputs": [
        {
          "name": "stdout",
          "output_type": "stream",
          "text": [
            "Model: \"sequential_6\"\n",
            "_________________________________________________________________\n",
            " Layer (type)                Output Shape              Param #   \n",
            "=================================================================\n",
            " embedding_6 (Embedding)     (None, None, 8)           120000    \n",
            "                                                                 \n",
            " lstm_5 (LSTM)               (None, 32)                5248      \n",
            "                                                                 \n",
            " dense_6 (Dense)             (None, 1)                 33        \n",
            "                                                                 \n",
            "=================================================================\n",
            "Total params: 125,281\n",
            "Trainable params: 125,281\n",
            "Non-trainable params: 0\n",
            "_________________________________________________________________\n"
          ]
        }
      ],
      "source": [
        "model = build_optimizer(0.4, 0.4, 'Nadam')"
      ]
    },
    {
      "cell_type": "code",
      "execution_count": null,
      "metadata": {
        "colab": {
          "background_save": true,
          "base_uri": "https://localhost:8080/"
        },
        "id": "CVIi7RXTz5vg",
        "outputId": "73eab2f4-3519-4db9-c878-1eb3b278874f"
      },
      "outputs": [
        {
          "name": "stdout",
          "output_type": "stream",
          "text": [
            "Epoch 1/50\n",
            "1948/1948 [==============================] - 936s 479ms/step - loss: 0.6860 - acc: 0.5421 - f1_score: 0.4925 - val_loss: 0.6686 - val_acc: 0.6272 - val_f1_score: 0.3441\n",
            "Epoch 2/50\n",
            "1948/1948 [==============================] - 938s 482ms/step - loss: 0.6830 - acc: 0.5571 - f1_score: 0.5312 - val_loss: 0.6615 - val_acc: 0.6451 - val_f1_score: 0.3188\n",
            "Epoch 3/50\n",
            "1948/1948 [==============================] - 939s 482ms/step - loss: 0.6582 - acc: 0.6065 - f1_score: 0.5848 - val_loss: 0.6460 - val_acc: 0.7033 - val_f1_score: 0.4463\n",
            "Epoch 4/50\n",
            "1948/1948 [==============================] - 939s 482ms/step - loss: 0.6432 - acc: 0.6360 - f1_score: 0.6279 - val_loss: 0.5951 - val_acc: 0.6731 - val_f1_score: 0.5200\n",
            "Epoch 5/50\n",
            "1948/1948 [==============================] - 935s 480ms/step - loss: 0.5948 - acc: 0.6846 - f1_score: 0.6810 - val_loss: 0.5825 - val_acc: 0.6914 - val_f1_score: 0.5375\n",
            "Epoch 6/50\n",
            "1948/1948 [==============================] - 937s 481ms/step - loss: 0.5667 - acc: 0.7046 - f1_score: 0.6998 - val_loss: 0.5694 - val_acc: 0.7140 - val_f1_score: 0.5457\n",
            "Epoch 7/50\n",
            "1948/1948 [==============================] - 938s 482ms/step - loss: 0.5564 - acc: 0.7136 - f1_score: 0.7092 - val_loss: 0.6062 - val_acc: 0.6698 - val_f1_score: 0.5430\n",
            "Epoch 8/50\n",
            "1948/1948 [==============================] - 934s 479ms/step - loss: 0.5488 - acc: 0.7178 - f1_score: 0.7131 - val_loss: 0.6087 - val_acc: 0.6828 - val_f1_score: 0.5454\n",
            "Epoch 9/50\n",
            "1948/1948 [==============================] - 933s 479ms/step - loss: 0.5429 - acc: 0.7225 - f1_score: 0.7178 - val_loss: 0.5983 - val_acc: 0.6900 - val_f1_score: 0.5476\n",
            "Epoch 10/50\n",
            "1948/1948 [==============================] - 931s 478ms/step - loss: 0.5386 - acc: 0.7261 - f1_score: 0.7213 - val_loss: 0.5394 - val_acc: 0.7298 - val_f1_score: 0.5466\n",
            "Epoch 11/50\n",
            "1948/1948 [==============================] - 939s 482ms/step - loss: 0.5346 - acc: 0.7296 - f1_score: 0.7249 - val_loss: 0.5796 - val_acc: 0.7009 - val_f1_score: 0.5488\n",
            "Epoch 12/50\n",
            "1948/1948 [==============================] - 935s 480ms/step - loss: 0.5312 - acc: 0.7322 - f1_score: 0.7273 - val_loss: 0.5473 - val_acc: 0.7232 - val_f1_score: 0.5478\n",
            "Epoch 13/50\n",
            "1948/1948 [==============================] - 934s 480ms/step - loss: 0.5283 - acc: 0.7339 - f1_score: 0.7287 - val_loss: 0.6083 - val_acc: 0.6711 - val_f1_score: 0.5431\n",
            "Epoch 14/50\n",
            "1948/1948 [==============================] - 935s 480ms/step - loss: 0.5253 - acc: 0.7354 - f1_score: 0.7302 - val_loss: 0.5542 - val_acc: 0.7194 - val_f1_score: 0.5454\n",
            "Epoch 15/50\n",
            "1948/1948 [==============================] - 933s 479ms/step - loss: 0.5226 - acc: 0.7384 - f1_score: 0.7330 - val_loss: 0.5852 - val_acc: 0.6958 - val_f1_score: 0.5475\n"
          ]
        }
      ],
      "source": [
        "history = train(model, 50)"
      ]
    },
    {
      "cell_type": "code",
      "execution_count": null,
      "metadata": {
        "colab": {
          "background_save": true
        },
        "id": "9BnO9RQiz5vh",
        "outputId": "7b626822-7489-41e0-b5b6-060d3cd71416"
      },
      "outputs": [
        {
          "data": {
            "image/png": "[encoded data removed]",
            "text/plain": [
              "<Figure size 432x288 with 1 Axes>"
            ]
          },
          "metadata": {},
          "output_type": "display_data"
        },
        {
          "data": {
            "image/png": "[encoded data removed]",
            "text/plain": [
              "<Figure size 432x288 with 1 Axes>"
            ]
          },
          "metadata": {},
          "output_type": "display_data"
        }
      ],
      "source": [
        "plot_outputs()"
      ]
    },
    {
      "cell_type": "markdown",
      "metadata": {
        "id": "3ElnyykVD6Lf"
      },
      "source": [
        "# Training Final Model <a class=\"anchor\" id=\"FinalModel\"></a>\n",
        "-----------------------------------"
      ]
    },
    {
      "cell_type": "code",
      "execution_count": null,
      "metadata": {
        "colab": {
          "base_uri": "https://localhost:8080/"
        },
        "id": "ejvlsAUZCtrP",
        "outputId": "f90e7149-b31e-4889-b99b-21e4229d2b40"
      },
      "outputs": [
        {
          "output_type": "stream",
          "name": "stdout",
          "text": [
            "Model: \"sequential\"\n",
            "_________________________________________________________________\n",
            " Layer (type)                Output Shape              Param #   \n",
            "=================================================================\n",
            " embedding (Embedding)       (None, None, 8)           120000    \n",
            "                                                                 \n",
            " lstm (LSTM)                 (None, 32)                5248      \n",
            "                                                                 \n",
            " dense (Dense)               (None, 1)                 33        \n",
            "                                                                 \n",
            "=================================================================\n",
            "Total params: 125,281\n",
            "Trainable params: 125,281\n",
            "Non-trainable params: 0\n",
            "_________________________________________________________________\n"
          ]
        }
      ],
      "source": [
        "final_model = build_dropout(0.4, 0.4)"
      ]
    },
    {
      "cell_type": "code",
      "execution_count": null,
      "metadata": {
        "colab": {
          "base_uri": "https://localhost:8080/"
        },
        "id": "7tj59HdBCtrY",
        "outputId": "daa920b9-4beb-412a-e9f4-eb62d15f67c1"
      },
      "outputs": [
        {
          "output_type": "stream",
          "name": "stdout",
          "text": [
            "Epoch 1/12\n",
            "4094/4094 [==============================] - 2717s 663ms/step - loss: 0.5313 - acc: 0.7484 - f1_score: 0.2679\n",
            "Epoch 2/12\n",
            "4094/4094 [==============================] - 2670s 652ms/step - loss: 0.5086 - acc: 0.7551 - f1_score: 0.3336\n",
            "Epoch 3/12\n",
            "4094/4094 [==============================] - 2645s 646ms/step - loss: 0.4906 - acc: 0.7692 - f1_score: 0.4041\n",
            "Epoch 4/12\n",
            "4094/4094 [==============================] - 2790s 681ms/step - loss: 0.4811 - acc: 0.7772 - f1_score: 0.4287\n",
            "Epoch 5/12\n",
            "4094/4094 [==============================] - 2809s 686ms/step - loss: 0.4769 - acc: 0.7800 - f1_score: 0.4405\n",
            "Epoch 6/12\n",
            "4094/4094 [==============================] - 2703s 660ms/step - loss: 0.4732 - acc: 0.7827 - f1_score: 0.4501\n",
            "Epoch 7/12\n",
            "4094/4094 [==============================] - 2753s 672ms/step - loss: 0.4704 - acc: 0.7841 - f1_score: 0.4538\n",
            "Epoch 8/12\n",
            "4094/4094 [==============================] - 2595s 634ms/step - loss: 0.4685 - acc: 0.7856 - f1_score: 0.4594\n",
            "Epoch 9/12\n",
            "4094/4094 [==============================] - 2596s 634ms/step - loss: 0.4677 - acc: 0.7858 - f1_score: 0.4612\n",
            "Epoch 10/12\n",
            "4094/4094 [==============================] - 2593s 633ms/step - loss: 0.4673 - acc: 0.7860 - f1_score: 0.4604\n",
            "Epoch 11/12\n",
            "4094/4094 [==============================] - 2592s 633ms/step - loss: 0.4666 - acc: 0.7868 - f1_score: 0.4640\n",
            "Epoch 12/12\n",
            "4094/4094 [==============================] - 2605s 636ms/step - loss: 0.4660 - acc: 0.7870 - f1_score: 0.4637\n"
          ]
        }
      ],
      "source": [
        "history = train_final_model(final_model, 12)"
      ]
    },
    {
      "cell_type": "code",
      "execution_count": null,
      "metadata": {
        "id": "cfqMNRKBShzP"
      },
      "outputs": [],
      "source": [
        "y_pred = final_model.predict(x_test)"
      ]
    },
    {
      "cell_type": "code",
      "execution_count": null,
      "metadata": {
        "id": "5sw4E4Yu2jFk"
      },
      "outputs": [],
      "source": [
        "y_pred_labels = np.where(y_pred > 0.5, 1, 0)"
      ]
    },
    {
      "cell_type": "code",
      "execution_count": null,
      "metadata": {
        "id": "KvWout5CRNix",
        "colab": {
          "base_uri": "https://localhost:8080/"
        },
        "outputId": "d69ba56f-1094-4c21-de93-8b6fa83ed515"
      },
      "outputs": [
        {
          "output_type": "stream",
          "name": "stdout",
          "text": [
            "Accuracy: 0.78\n",
            "Precision score: 0.74\n",
            "Recall score: 0.27\n",
            "F1 score: 0.40\n"
          ]
        }
      ],
      "source": [
        "from sklearn.metrics import accuracy_score, precision_score, recall_score, f1_score, make_scorer\n",
        "print('Accuracy: %.2f' % (accuracy_score(y_test, y_pred_labels)))\n",
        "print('Precision score: %.2f' % (precision_score(y_test, y_pred_labels)))\n",
        "print('Recall score: %.2f' % (recall_score(y_test, y_pred_labels)))\n",
        "print('F1 score: %.2f' % (f1_score(y_test, y_pred_labels)))"
      ]
    },
    {
      "cell_type": "code",
      "execution_count": null,
      "metadata": {
        "colab": {
          "base_uri": "https://localhost:8080/"
        },
        "id": "70OswE73grx-",
        "outputId": "24c98023-3650-4c73-c2be-d9350abae27d"
      },
      "outputs": [
        {
          "name": "stdout",
          "output_type": "stream",
          "text": [
            "[NbConvertApp] Converting notebook /content/LSTMGRULayers.ipynb to html\n",
            "[NbConvertApp] Writing 621334 bytes to /content/LSTMGRULayers.html\n"
          ]
        },
        {
          "data": {
            "text/plain": [
              ""
            ]
          },
          "execution_count": 3,
          "metadata": {},
          "output_type": "execute_result"
        }
      ],
      "source": [
        "%%shell\n",
        "jupyter nbconvert --to html /content/LSTMGRULayers.ipynb"
      ]
    }
  ],
  "metadata": {
    "colab": {
      "background_execution": "on",
      "collapsed_sections": [
        "hOS3anO24mLb",
        "5QzzrCZtDe4Z",
        "yqJBgVTL7tTY",
        "7amL1zLQDork",
        "Gnoq1VNSQVE6",
        "N9e8Y78B2oKm",
        "1w5u_2EK-Qsr",
        "vHxRYbpP-aYT",
        "_EEWbueXCS7d",
        "UfpTQsadZXBq",
        "QKfum3k6O2lP",
        "fcBZaw3BC2og",
        "o0lBz6h6F00f",
        "hUsNfyxdF6ny",
        "Zjtf-Hn8F-mh",
        "Lmp53e4YCP7U",
        "9KVp5yM-y1EN",
        "kl9HwySyz5vd"
      ],
      "name": "Set2:LSTMGRU-Final.ipynb",
      "provenance": [],
      "toc_visible": true,
      "authorship_tag": "ABX9TyOmQoOmf0LpeN2Bc84iH1qG",
      "include_colab_link": true
    },
    "kernelspec": {
      "display_name": "Python 3",
      "name": "python3"
    },
    "language_info": {
      "name": "python"
    },
    "accelerator": "TPU"
  },
  "nbformat": 4,
  "nbformat_minor": 0
}