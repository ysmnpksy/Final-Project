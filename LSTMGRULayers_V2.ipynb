{
  "cells": [
    {
      "cell_type": "markdown",
      "metadata": {
        "id": "view-in-github",
        "colab_type": "text"
      },
      "source": [
        "<a href=\"https://colab.research.google.com/github/ysmnpksy/Final-Project/blob/main/LSTMGRULayers_V2.ipynb\" target=\"_parent\"><img src=\"https://colab.research.google.com/assets/colab-badge.svg\" alt=\"Open In Colab\"/></a>"
      ]
    },
    {
      "cell_type": "markdown",
      "metadata": {
        "id": "3sLSAhakx6-X"
      },
      "source": [
        "<h1>LSTM & GRU Layers</h1>\n",
        "By Yasmin Paksoy"
      ]
    },
    {
      "cell_type": "markdown",
      "metadata": {
        "id": "hOS3anO24mLb"
      },
      "source": [
        "# Table of Contents \n",
        "  * [Preparing the Data](#section1)\n",
        "  * [Build Functions](#build)\n",
        "  * [Model 1: First LSTM Model](#model2)\n",
        "  * [Tuning: Dropout](#dropout)\n",
        "    * [Model 2: Rate 20%](#model3)\n",
        "    * [Model 3: Rate 40%](#model4)\n",
        "    * [Model 4: Rate 50%](#model5)\n",
        "  * [Tuning: Number of Layers](#layers)\n",
        "    * [Failed Model: 2 Layers](#model6)\n",
        "  * [Model 5: GRU](#model7)\n",
        "  * [Tuning Learning Rate](#Learning-Rate)\n",
        "    * [Model 6: 0.003](#model8)\n",
        "    * [Model 7: 0.006](#model9)\n",
        "    * [Model 8: 0.004](#model10)\n",
        "    * [Model 9: 0.01](#model11)\n",
        "  * [Training Final Model](#FinalModel)"
      ]
    },
    {
      "cell_type": "code",
      "execution_count": null,
      "metadata": {
        "colab": {
          "base_uri": "https://localhost:8080/",
          "height": 92,
          "resources": {
            "http://localhost:8080/nbextensions/google.colab/files.js": {
              "data": "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",
              "headers": [
                [
                  "content-type",
                  "application/javascript"
                ]
              ],
              "ok": true,
              "status": 200,
              "status_text": "OK"
            }
          }
        },
        "id": "QUsOFte1Hzqn",
        "outputId": "a6706742-3ecd-4418-f200-53dc0d46f491"
      },
      "outputs": [
        {
          "output_type": "display_data",
          "data": {
            "text/plain": [
              "<IPython.core.display.HTML object>"
            ],
            "text/html": [
              "\n",
              "     <input type=\"file\" id=\"files-26744876-3d48-4703-9415-d4b6b711fd24\" name=\"files[]\" multiple disabled\n",
              "        style=\"border:none\" />\n",
              "     <output id=\"result-26744876-3d48-4703-9415-d4b6b711fd24\">\n",
              "      Upload widget is only available when the cell has been executed in the\n",
              "      current browser session. Please rerun this cell to enable.\n",
              "      </output>\n",
              "      <script src=\"/nbextensions/google.colab/files.js\"></script> "
            ]
          },
          "metadata": {}
        },
        {
          "output_type": "stream",
          "name": "stdout",
          "text": [
            "Saving kaggle.json to kaggle.json\n"
          ]
        },
        {
          "output_type": "execute_result",
          "data": {
            "text/plain": [
              "{'kaggle.json': b'{\"username\":\"yasminpaksoy\",\"key\":\"9092d77ded0787db0dc92dec0c6c058c\"}'}"
            ]
          },
          "metadata": {},
          "execution_count": 2
        }
      ],
      "source": [
        "from google.colab import files\n",
        "\n",
        "files.upload()"
      ]
    },
    {
      "cell_type": "code",
      "execution_count": null,
      "metadata": {
        "id": "B37hkVNbKatl"
      },
      "outputs": [],
      "source": [
        "# making kaggle directory \n",
        "! mkdir ~/.kaggle\n",
        "\n",
        "# copying api login info into directory \n",
        "! cp kaggle.json ~/.kaggle/\n",
        "\n",
        "# allocating required permissions \n",
        "! chmod 600 ~/.kaggle/kaggle.json"
      ]
    },
    {
      "cell_type": "code",
      "execution_count": null,
      "metadata": {
        "colab": {
          "base_uri": "https://localhost:8080/"
        },
        "id": "A473jXCkJxU-",
        "outputId": "d41d79a0-70e2-4ac1-9716-f832e817a7e6"
      },
      "outputs": [
        {
          "output_type": "stream",
          "name": "stdout",
          "text": [
            "Downloading imdb-spoiler-dataset.zip to /content\n",
            " 94% 313M/331M [00:03<00:00, 98.0MB/s]\n",
            "100% 331M/331M [00:03<00:00, 108MB/s] \n",
            "Archive:  imdb-spoiler-dataset.zip\n",
            "  inflating: IMDB_movie_details.json  \n",
            "  inflating: IMDB_reviews.json       \n"
          ]
        }
      ],
      "source": [
        "! kaggle datasets download rmisra/imdb-spoiler-dataset\n",
        "\n",
        "# unzipping dataset \n",
        "! unzip imdb-spoiler-dataset.zip"
      ]
    },
    {
      "cell_type": "code",
      "execution_count": null,
      "metadata": {
        "colab": {
          "base_uri": "https://localhost:8080/",
          "height": 389
        },
        "id": "7UE2FiwiV6Um",
        "outputId": "eb43ae98-86f9-4566-f3ed-19b55dd4cf17"
      },
      "outputs": [
        {
          "output_type": "stream",
          "name": "stdout",
          "text": [
            "Total number of reviews: 573913\n",
            "Total number of reviews that contain spoilers: 150924\n",
            "User reviews shape: (573913, 7)\n",
            "\n",
            "First 5 user reviews:\n"
          ]
        },
        {
          "output_type": "execute_result",
          "data": {
            "text/plain": [
              "        review_date   movie_id    user_id  is_spoiler  \\\n",
              "0  10 February 2006  tt0111161  ur1898687        True   \n",
              "1  6 September 2000  tt0111161  ur0842118        True   \n",
              "2     3 August 2001  tt0111161  ur1285640        True   \n",
              "3  1 September 2002  tt0111161  ur1003471        True   \n",
              "4       20 May 2004  tt0111161  ur0226855        True   \n",
              "\n",
              "                                         review_text  rating  \\\n",
              "0  In its Oscar year, Shawshank Redemption (writt...      10   \n",
              "1  The Shawshank Redemption is without a doubt on...      10   \n",
              "2  I believe that this film is the best story eve...       8   \n",
              "3  **Yes, there are SPOILERS here**This film has ...      10   \n",
              "4  At the heart of this extraordinary movie is a ...       8   \n",
              "\n",
              "                                  review_summary  \n",
              "0  A classic piece of unforgettable film-making.  \n",
              "1     Simply amazing. The best film of the 90's.  \n",
              "2               The best story ever told on film  \n",
              "3                     Busy dying or busy living?  \n",
              "4         Great story, wondrously told and acted  "
            ],
            "text/html": [
              "\n",
              "  <div id=\"df-318efe27-01f4-44c7-bb04-0ac6fcd13ca2\">\n",
              "    <div class=\"colab-df-container\">\n",
              "      <div>\n",
              "<style scoped>\n",
              "    .dataframe tbody tr th:only-of-type {\n",
              "        vertical-align: middle;\n",
              "    }\n",
              "\n",
              "    .dataframe tbody tr th {\n",
              "        vertical-align: top;\n",
              "    }\n",
              "\n",
              "    .dataframe thead th {\n",
              "        text-align: right;\n",
              "    }\n",
              "</style>\n",
              "<table border=\"1\" class=\"dataframe\">\n",
              "  <thead>\n",
              "    <tr style=\"text-align: right;\">\n",
              "      <th></th>\n",
              "      <th>review_date</th>\n",
              "      <th>movie_id</th>\n",
              "      <th>user_id</th>\n",
              "      <th>is_spoiler</th>\n",
              "      <th>review_text</th>\n",
              "      <th>rating</th>\n",
              "      <th>review_summary</th>\n",
              "    </tr>\n",
              "  </thead>\n",
              "  <tbody>\n",
              "    <tr>\n",
              "      <th>0</th>\n",
              "      <td>10 February 2006</td>\n",
              "      <td>tt0111161</td>\n",
              "      <td>ur1898687</td>\n",
              "      <td>True</td>\n",
              "      <td>In its Oscar year, Shawshank Redemption (writt...</td>\n",
              "      <td>10</td>\n",
              "      <td>A classic piece of unforgettable film-making.</td>\n",
              "    </tr>\n",
              "    <tr>\n",
              "      <th>1</th>\n",
              "      <td>6 September 2000</td>\n",
              "      <td>tt0111161</td>\n",
              "      <td>ur0842118</td>\n",
              "      <td>True</td>\n",
              "      <td>The Shawshank Redemption is without a doubt on...</td>\n",
              "      <td>10</td>\n",
              "      <td>Simply amazing. The best film of the 90's.</td>\n",
              "    </tr>\n",
              "    <tr>\n",
              "      <th>2</th>\n",
              "      <td>3 August 2001</td>\n",
              "      <td>tt0111161</td>\n",
              "      <td>ur1285640</td>\n",
              "      <td>True</td>\n",
              "      <td>I believe that this film is the best story eve...</td>\n",
              "      <td>8</td>\n",
              "      <td>The best story ever told on film</td>\n",
              "    </tr>\n",
              "    <tr>\n",
              "      <th>3</th>\n",
              "      <td>1 September 2002</td>\n",
              "      <td>tt0111161</td>\n",
              "      <td>ur1003471</td>\n",
              "      <td>True</td>\n",
              "      <td>**Yes, there are SPOILERS here**This film has ...</td>\n",
              "      <td>10</td>\n",
              "      <td>Busy dying or busy living?</td>\n",
              "    </tr>\n",
              "    <tr>\n",
              "      <th>4</th>\n",
              "      <td>20 May 2004</td>\n",
              "      <td>tt0111161</td>\n",
              "      <td>ur0226855</td>\n",
              "      <td>True</td>\n",
              "      <td>At the heart of this extraordinary movie is a ...</td>\n",
              "      <td>8</td>\n",
              "      <td>Great story, wondrously told and acted</td>\n",
              "    </tr>\n",
              "  </tbody>\n",
              "</table>\n",
              "</div>\n",
              "      <button class=\"colab-df-convert\" onclick=\"convertToInteractive('df-318efe27-01f4-44c7-bb04-0ac6fcd13ca2')\"\n",
              "              title=\"Convert this dataframe to an interactive table.\"\n",
              "              style=\"display:none;\">\n",
              "        \n",
              "  <svg xmlns=\"http://www.w3.org/2000/svg\" height=\"24px\"viewBox=\"0 0 24 24\"\n",
              "       width=\"24px\">\n",
              "    <path d=\"M0 0h24v24H0V0z\" fill=\"none\"/>\n",
              "    <path d=\"M18.56 5.44l.94 2.06.94-2.06 2.06-.94-2.06-.94-.94-2.06-.94 2.06-2.06.94zm-11 1L8.5 8.5l.94-2.06 2.06-.94-2.06-.94L8.5 2.5l-.94 2.06-2.06.94zm10 10l.94 2.06.94-2.06 2.06-.94-2.06-.94-.94-2.06-.94 2.06-2.06.94z\"/><path d=\"M17.41 7.96l-1.37-1.37c-.4-.4-.92-.59-1.43-.59-.52 0-1.04.2-1.43.59L10.3 9.45l-7.72 7.72c-.78.78-.78 2.05 0 2.83L4 21.41c.39.39.9.59 1.41.59.51 0 1.02-.2 1.41-.59l7.78-7.78 2.81-2.81c.8-.78.8-2.07 0-2.86zM5.41 20L4 18.59l7.72-7.72 1.47 1.35L5.41 20z\"/>\n",
              "  </svg>\n",
              "      </button>\n",
              "      \n",
              "  <style>\n",
              "    .colab-df-container {\n",
              "      display:flex;\n",
              "      flex-wrap:wrap;\n",
              "      gap: 12px;\n",
              "    }\n",
              "\n",
              "    .colab-df-convert {\n",
              "      background-color: #E8F0FE;\n",
              "      border: none;\n",
              "      border-radius: 50%;\n",
              "      cursor: pointer;\n",
              "      display: none;\n",
              "      fill: #1967D2;\n",
              "      height: 32px;\n",
              "      padding: 0 0 0 0;\n",
              "      width: 32px;\n",
              "    }\n",
              "\n",
              "    .colab-df-convert:hover {\n",
              "      background-color: #E2EBFA;\n",
              "      box-shadow: 0px 1px 2px rgba(60, 64, 67, 0.3), 0px 1px 3px 1px rgba(60, 64, 67, 0.15);\n",
              "      fill: #174EA6;\n",
              "    }\n",
              "\n",
              "    [theme=dark] .colab-df-convert {\n",
              "      background-color: #3B4455;\n",
              "      fill: #D2E3FC;\n",
              "    }\n",
              "\n",
              "    [theme=dark] .colab-df-convert:hover {\n",
              "      background-color: #434B5C;\n",
              "      box-shadow: 0px 1px 3px 1px rgba(0, 0, 0, 0.15);\n",
              "      filter: drop-shadow(0px 1px 2px rgba(0, 0, 0, 0.3));\n",
              "      fill: #FFFFFF;\n",
              "    }\n",
              "  </style>\n",
              "\n",
              "      <script>\n",
              "        const buttonEl =\n",
              "          document.querySelector('#df-318efe27-01f4-44c7-bb04-0ac6fcd13ca2 button.colab-df-convert');\n",
              "        buttonEl.style.display =\n",
              "          google.colab.kernel.accessAllowed ? 'block' : 'none';\n",
              "\n",
              "        async function convertToInteractive(key) {\n",
              "          const element = document.querySelector('#df-318efe27-01f4-44c7-bb04-0ac6fcd13ca2');\n",
              "          const dataTable =\n",
              "            await google.colab.kernel.invokeFunction('convertToInteractive',\n",
              "                                                     [key], {});\n",
              "          if (!dataTable) return;\n",
              "\n",
              "          const docLinkHtml = 'Like what you see? Visit the ' +\n",
              "            '<a target=\"_blank\" href=https://colab.research.google.com/notebooks/data_table.ipynb>data table notebook</a>'\n",
              "            + ' to learn more about interactive tables.';\n",
              "          element.innerHTML = '';\n",
              "          dataTable['output_type'] = 'display_data';\n",
              "          await google.colab.output.renderOutput(dataTable, element);\n",
              "          const docLink = document.createElement('div');\n",
              "          docLink.innerHTML = docLinkHtml;\n",
              "          element.appendChild(docLink);\n",
              "        }\n",
              "      </script>\n",
              "    </div>\n",
              "  </div>\n",
              "  "
            ]
          },
          "metadata": {},
          "execution_count": 5
        }
      ],
      "source": [
        "# importing pandas to read the JSON files\n",
        "import pandas as pd \n",
        "\n",
        "# information regarding reviews file\n",
        "all_reviews = pd.read_json('../content/IMDB_reviews.json', lines=True)\n",
        "\n",
        "print('Total number of reviews:', all_reviews['review_date'].count())\n",
        "print('Total number of reviews that contain spoilers:', all_reviews['is_spoiler'].sum())\n",
        "print('User reviews shape:', all_reviews.shape)\n",
        "print()\n",
        "\n",
        "print('First 5 user reviews:')\n",
        "all_reviews.head()"
      ]
    },
    {
      "cell_type": "markdown",
      "metadata": {
        "id": "5QzzrCZtDe4Z"
      },
      "source": [
        "# Preparing the Data <a class=\"anchor\" id=\"preparing\"></a>\n",
        "--------------------------------\n",
        "As shown in previous code cells, the reviews database contains 573,913 records, 150,924 of them which contain spoilers. \n",
        "\n",
        "In the code cell below, I am converting the reviews and their labels into lists from the JSON file they were loaded in with. During this process, I am adding all reviews that contain spoilers to this list but only 150,924 reviews that don't. This leaves me with a fully balances dataset, which can be seen in the calculations below. "
      ]
    },
    {
      "cell_type": "code",
      "source": [
        "import json\n",
        "\n",
        "labels = [] \n",
        "texts = []\n",
        "\n",
        "with open('IMDB_reviews.json', 'r') as json_file:\n",
        "  for jsonObj in json_file:\n",
        "    data = json.loads(jsonObj)\n",
        "    if data['is_spoiler'] == True:\n",
        "       labels.append(1)\n",
        "    else:\n",
        "       labels.append(0)\n",
        "    texts.append(data['review_text'])"
      ],
      "metadata": {
        "id": "B8156liDuytT"
      },
      "execution_count": null,
      "outputs": []
    },
    {
      "cell_type": "markdown",
      "metadata": {
        "id": "qNBrXaYpfY0Y"
      },
      "source": [
        "Next, I am preparing the data. For this data to be inputted into a machine-learning model, it needs to be formatted into tensors which are small in value and normalized if heterogeneous. Heterogeneous data refers to the data being in different ranges, and while deep neural networks can adapt to this, it makes learning more difficult [1]. \n",
        "\n",
        "The data is currently not in tensors, so I will be tokenizing the text data using one-hot encoding. To do this I am using the `Tokenizer` module from Keras. I have cut the reviews of after a maximum of 500 words and am only considering the most frequent 15000 words in the dataset. \n",
        "\n",
        "After tokenizing, I have vectorized the data using the `pad_sequences` module from Keras, which converts the list of tokenized data, integers, into 2D tensors, which can then be fed into the neural network. I have also vectorized the list of labels by converting it to a list of floating point numbers.\n",
        "\n",
        "This data is now ready to be inputted into a machine-learning model. "
      ]
    },
    {
      "cell_type": "code",
      "execution_count": null,
      "metadata": {
        "colab": {
          "base_uri": "https://localhost:8080/"
        },
        "id": "94TyDEQYgWSD",
        "outputId": "0b598343-f72f-4cc4-d618-c244301ae4f6"
      },
      "outputs": [
        {
          "output_type": "stream",
          "name": "stdout",
          "text": [
            "Found 379856 unique tokens.\n",
            "Shape of data tensor: (573913, 500)\n",
            "Shape of label tensor: (573913,)\n"
          ]
        }
      ],
      "source": [
        "from keras.preprocessing.text import Tokenizer\n",
        "from keras.preprocessing.sequence import pad_sequences\n",
        "import numpy as np\n",
        "\n",
        "maxlen = 500 # cuts reviews off after 500 words \n",
        "max_words = 15000 # considers only the top 15,000 words in the dataset \n",
        "\n",
        "# tokenizing texts \n",
        "tokenizer = Tokenizer(num_words=max_words)\n",
        "tokenizer.fit_on_texts(texts)\n",
        "sequences = tokenizer.texts_to_sequences(texts)\n",
        "word_index = tokenizer.word_index\n",
        "print('Found %s unique tokens.' % len(word_index))\n",
        "\n",
        "# vectorizing texts\n",
        "data = pad_sequences(sequences, maxlen=maxlen)\n",
        "\n",
        "# vectorizing labels \n",
        "labels = np.asarray(labels).astype('float32')\n",
        "\n",
        "print('Shape of data tensor:', data.shape)\n",
        "print('Shape of label tensor:', labels.shape)"
      ]
    },
    {
      "cell_type": "markdown",
      "metadata": {
        "id": "4eXV0nN8gzoF"
      },
      "source": [
        "Lastly, to prepare the data, I am splitting it into training and testing sets. This way I will be testing the model on unseen data only, ensuring information leaking does not affect the final results. I will be training on 201,848 data points and testing on 100,00.\n",
        "\n",
        "I am first shuffling the data, since the JSON file lists all reviews including spoilers first, then splitting it."
      ]
    },
    {
      "cell_type": "code",
      "execution_count": null,
      "metadata": {
        "id": "0JOQ_1F9g9-x"
      },
      "outputs": [],
      "source": [
        "# suffling data\n",
        "indices = np.arange(data.shape[0])\n",
        "np.random.shuffle(indices)\n",
        "data = data[indices]\n",
        "labels = labels[indices]\n",
        "\n",
        "# setting number of training and testing samples\n",
        "training_samples = 523913\n",
        "testing_samples = 50000\n",
        "\n",
        "# splitting into training and testing sets\n",
        "x_train = data[:training_samples]\n",
        "y_train = labels[:training_samples]\n",
        "x_test = data[training_samples: training_samples + testing_samples]\n",
        "y_test = labels[training_samples: training_samples + testing_samples]"
      ]
    },
    {
      "cell_type": "code",
      "execution_count": null,
      "metadata": {
        "colab": {
          "base_uri": "https://localhost:8080/"
        },
        "id": "Ke0TUFwciHvs",
        "outputId": "2d23d8b0-4111-4acc-9f96-824920d3a5c2"
      },
      "outputs": [
        {
          "output_type": "stream",
          "name": "stdout",
          "text": [
            "Training data shape: (523913, 500)\n",
            "Training labels shape: (523913,)\n",
            "Test data shape: (50000, 500)\n",
            "Test labels shape: (50000,)\n"
          ]
        }
      ],
      "source": [
        "print('Training data shape:',x_train.shape)\n",
        "print('Training labels shape:', y_train.shape)\n",
        "\n",
        "print('Test data shape:',x_test.shape)\n",
        "print('Test labels shape:',y_test.shape)"
      ]
    },
    {
      "cell_type": "markdown",
      "metadata": {
        "id": "vw3DNrlIiG7O"
      },
      "source": [
        "Here I am further splitting the training set into partial training and validation. This ensures that the data used to validate will not be the same as that used to train, helping avoid overfitting issues. I will be training on 151,848 samples and validating on 50,000. "
      ]
    },
    {
      "cell_type": "code",
      "execution_count": null,
      "metadata": {
        "id": "S2XTstX4ieJu"
      },
      "outputs": [],
      "source": [
        "# setting number of training and validation samples\n",
        "partial_training_samples = 473913\n",
        "validation_samples = 50000\n",
        "\n",
        "# splitting into training and validation sets\n",
        "x_partial_train_unbal = data[:partial_training_samples]\n",
        "y_partial_train_unbal = labels[:partial_training_samples]\n",
        "x_val = data[partial_training_samples: partial_training_samples + validation_samples]\n",
        "y_val = labels[partial_training_samples: partial_training_samples + validation_samples]"
      ]
    },
    {
      "cell_type": "code",
      "execution_count": null,
      "metadata": {
        "colab": {
          "base_uri": "https://localhost:8080/"
        },
        "id": "Dngdv0rmijtL",
        "outputId": "21fa847f-0647-4a63-abfa-11b7e0cd712d"
      },
      "outputs": [
        {
          "output_type": "stream",
          "name": "stdout",
          "text": [
            "Partial training data shape: (473913, 500)\n",
            "Partial training labels shape: (473913,)\n",
            "Validation data shape: (50000, 500)\n",
            "Validation labels shape: (50000,)\n"
          ]
        }
      ],
      "source": [
        "print('Partial training data shape:',x_partial_train_unbal.shape)\n",
        "print('Partial training labels shape:', y_partial_train_unbal.shape)\n",
        "\n",
        "print('Validation data shape:',x_val.shape)\n",
        "print('Validation labels shape:',y_val.shape)"
      ]
    },
    {
      "cell_type": "code",
      "execution_count": null,
      "metadata": {
        "colab": {
          "base_uri": "https://localhost:8080/"
        },
        "id": "c2Sx8Yi3XYdD",
        "outputId": "8c883102-bee8-40fe-8d1d-3102cb652440"
      },
      "outputs": [
        {
          "output_type": "stream",
          "name": "stdout",
          "text": [
            "Total number of reviews: 573913\n",
            "Total nummber with spoilers: 124707\n",
            "Total number without spoilers 349206\n"
          ]
        }
      ],
      "source": [
        "spoilers = 0;\n",
        "nonSpoilers = 0;\n",
        "\n",
        "for i in y_partial_train_unbal: \n",
        "  if i == 1: \n",
        "    spoilers += 1 \n",
        "  else: \n",
        "    nonSpoilers += 1\n",
        "\n",
        "print(\"Total number of reviews: \" + str(len(labels)))\n",
        "print(\"Total nummber with spoilers: \" + str(spoilers))\n",
        "print(\"Total number without spoilers \" + str(nonSpoilers))"
      ]
    },
    {
      "cell_type": "code",
      "source": [
        "x_partial_train = [] \n",
        "y_partial_train = []\n",
        "sum = 0\n",
        "\n",
        "for data in range(len(y_partial_train_unbal)):\n",
        "  if y_partial_train_unbal[data] == 1:\n",
        "    y_partial_train.append(1)\n",
        "    x_partial_train.append(x_partial_train_unbal[data])\n",
        "  else:\n",
        "    if sum < spoilers:\n",
        "      sum += 1\n",
        "      y_partial_train.append(0)\n",
        "      x_partial_train.append(x_partial_train_unbal[data])"
      ],
      "metadata": {
        "id": "mAjh3sLTyrDz"
      },
      "execution_count": null,
      "outputs": []
    },
    {
      "cell_type": "code",
      "source": [
        "spoilers = 0;\n",
        "nonSpoilers = 0;\n",
        "\n",
        "for i in y_partial_train: \n",
        "  if i == 1: \n",
        "    spoilers += 1 \n",
        "  else: \n",
        "    nonSpoilers += 1\n",
        "\n",
        "print(\"Total number of reviews: \" + str(len(x_partial_train)))\n",
        "print(\"Total nummber with spoilers: \" + str(spoilers))\n",
        "print(\"Total number without spoilers \" + str(nonSpoilers))"
      ],
      "metadata": {
        "colab": {
          "base_uri": "https://localhost:8080/"
        },
        "id": "wKYXl5Ol0K7i",
        "outputId": "a3103885-1472-4df9-c0c6-0c24e14dee96"
      },
      "execution_count": null,
      "outputs": [
        {
          "output_type": "stream",
          "name": "stdout",
          "text": [
            "Total number of reviews: 249414\n",
            "Total nummber with spoilers: 124707\n",
            "Total number without spoilers 124707\n"
          ]
        }
      ]
    },
    {
      "cell_type": "code",
      "source": [
        "x_val = np.array(x_val)\n",
        "y_val = np.array(y_val)\n",
        "x_partial_train = np.array(x_partial_train) \n",
        "y_partial_train = np.array(y_partial_train)\n",
        "x_test = np.array(x_test)\n",
        "y_test = np.array(y_test)"
      ],
      "metadata": {
        "id": "k2lUwyyB1BPd"
      },
      "execution_count": null,
      "outputs": []
    },
    {
      "cell_type": "markdown",
      "metadata": {
        "id": "yqJBgVTL7tTY"
      },
      "source": [
        "# Build Functions <a class=\"anchor\" id=\"build\"></a>\n",
        "---------------------\n",
        "I have included all the functions I will use below.\n",
        "\n",
        "The code functions I have included are: \n",
        "* Build baseline model. \n",
        "* Build scaled up model. \n",
        "* Build model with dropout and recurrent dropout. \n",
        "* Plot loss function. \n",
        "* Plot final loss function. \n",
        "* Plot accuracy function. \n",
        "* Plot final accuracy function. \n",
        "* Train function. \n",
        "* Train final model function. \n",
        "* Evaluate function. \n",
        "\n"
      ]
    },
    {
      "cell_type": "code",
      "execution_count": null,
      "metadata": {
        "id": "J3Drvs6GoVww"
      },
      "outputs": [],
      "source": [
        "# Importing all necessary libraries\n",
        "import tensorflow as tf\n",
        "import keras\n",
        "import matplotlib.pyplot as plt\n",
        "\n",
        "\n",
        "from gc import callbacks\n",
        "from keras import models, layers\n",
        "from tensorflow.keras import optimizers\n",
        "from keras.layers import Embedding, Flatten, LSTM"
      ]
    },
    {
      "cell_type": "code",
      "execution_count": null,
      "metadata": {
        "id": "hTT-iQsY-TEq"
      },
      "outputs": [],
      "source": [
        "def build_small():\n",
        "  model = models.Sequential()\n",
        "  \n",
        "  # Embedding layers \n",
        "  # network will learn 8-dimensional embeddings for each of the 15,000 words\n",
        "  model.add(Embedding(15000, 8, input_length=maxlen))\n",
        "  \n",
        "  # flattens the 3D tensor output to a 2D tensor\n",
        "  model.add(Flatten())\n",
        "  \n",
        "  # training single dense layer for classfication  \n",
        "  model.add(layers.Dense(32, activation = 'relu'))\n",
        "  # output layer \n",
        "  model.add(layers.Dense(1, activation = 'sigmoid'))\n",
        "  \n",
        "  model.compile(optimizer = 'rmsprop', \n",
        "              loss = 'binary_crossentropy', \n",
        "              metrics = ['acc'])\n",
        "  model.build()\n",
        "  model.summary()\n",
        "  return model"
      ]
    },
    {
      "cell_type": "code",
      "execution_count": null,
      "metadata": {
        "id": "kZqebn48-jnh"
      },
      "outputs": [],
      "source": [
        "def build_scaled_up():\n",
        "  model = models.Sequential()\n",
        "\n",
        "  # Embedding layers \n",
        "  # network will learn 32-dimensional embeddings for each of the 15,000 words\n",
        "  model.add(Embedding(15000, 8))\n",
        "\n",
        "  # LSTM layer\n",
        "  model.add(LSTM(32))\n",
        "  # output layer\n",
        "  model.add(layers.Dense(1, activation='sigmoid'))\n",
        "\n",
        "  model.compile(optimizer='rmsprop',\n",
        "                loss='binary_crossentropy',\n",
        "                metrics=['acc'])\n",
        "  model.build()\n",
        "  model.summary()\n",
        "  return model "
      ]
    },
    {
      "cell_type": "code",
      "execution_count": null,
      "metadata": {
        "id": "z_4QslKX-7q7"
      },
      "outputs": [],
      "source": [
        "def build_dropout(drop, rec_drop):\n",
        "  model = models.Sequential()\n",
        "\n",
        "  # Embedding layers \n",
        "  # network will learn 8-dimensional embeddings for each of the 15,000 words\n",
        "  model.add(Embedding(15000, 8))\n",
        "\n",
        "  # LSTM layer\n",
        "  # includes dropout and reccurrent dropout \n",
        "  model.add(LSTM(32, \n",
        "                 dropout=drop,\n",
        "                 recurrent_dropout=rec_drop\n",
        "                 ))\n",
        "  \n",
        "  # output layer \n",
        "  model.add(layers.Dense(1, activation='sigmoid'))\n",
        "\n",
        "  model.compile(optimizer='rmsprop',\n",
        "                loss='binary_crossentropy',\n",
        "                metrics=['acc'])\n",
        "  model.build()\n",
        "  model.summary()\n",
        "  return model "
      ]
    },
    {
      "cell_type": "code",
      "execution_count": null,
      "metadata": {
        "id": "fsryVua9Y3wg"
      },
      "outputs": [],
      "source": [
        "def build_layers(drop, rec_drop, layer):\n",
        "  model = models.Sequential()\n",
        "\n",
        "  # Embedding layers \n",
        "  # network will learn 8-dimensional embeddings for each of the 15,000 words\n",
        "  model.add(Embedding(15000, 8))\n",
        "\n",
        "  # LSTM layer\n",
        "  # includes dropout and reccurrent dropout \n",
        "  model.add(LSTM(32, \n",
        "                 dropout=drop,\n",
        "                 recurrent_dropout=rec_drop,\n",
        "                 input_shape=(151848, 500), \n",
        "                 return_sequences=True))\n",
        "  \n",
        "  if layer==2:\n",
        "    model.add(LSTM(32,\n",
        "                   dropout=drop,\n",
        "                   recurrent_dropout=rec_drop))\n",
        "    \n",
        "  if layer==3:\n",
        "    model.add(LSTM(32,\n",
        "                   dropout=drop,\n",
        "                   recurrent_dropout=rec_drop,\n",
        "                   return_sequences=True))\n",
        "    model.add(LSTM(32,\n",
        "                   dropout=drop,\n",
        "                   recurrent_dropout=rec_drop))\n",
        "\n",
        "  # output layer \n",
        "  model.add(layers.Dense(1, activation='sigmoid'))\n",
        "  \n",
        "  model.compile(optimizer='rmsprop',\n",
        "                loss='binary_crossentropy',\n",
        "                metrics=['acc'])\n",
        "  model.build()\n",
        "  model.summary()\n",
        "  return model "
      ]
    },
    {
      "cell_type": "code",
      "execution_count": null,
      "metadata": {
        "id": "5EE3kj8N5Lf5"
      },
      "outputs": [],
      "source": [
        "def build_GRU(drop, rec_drop):\n",
        "  model = models.Sequential()\n",
        "\n",
        "  # Embedding layers \n",
        "  # network will learn 8-dimensional embeddings for each of the 15,000 words\n",
        "  model.add(Embedding(15000, 8))\n",
        "\n",
        "  # LSTM layer\n",
        "  # includes dropout and reccurrent dropout \n",
        "  model.add(layers.GRU(32, \n",
        "                 dropout=drop,\n",
        "                 recurrent_dropout=rec_drop,\n",
        "                 input_shape=(151848, 500)))\n",
        "\n",
        "  # output layer \n",
        "  model.add(layers.Dense(1, activation='sigmoid'))\n",
        "  \n",
        "  model.compile(optimizer='rmsprop',\n",
        "                loss='binary_crossentropy',\n",
        "                metrics=['acc'])\n",
        "  model.build()\n",
        "  model.summary()\n",
        "  return model "
      ]
    },
    {
      "cell_type": "code",
      "execution_count": null,
      "metadata": {
        "id": "KeA2Qzd7FUPM"
      },
      "outputs": [],
      "source": [
        "def build_learning_rate(drop, rec_drop, lr):\n",
        "  model = models.Sequential()\n",
        "\n",
        "  # Embedding layers \n",
        "  # network will learn 8-dimensional embeddings for each of the 15,000 words\n",
        "  model.add(Embedding(15000, 8))\n",
        "\n",
        "  # LSTM layer\n",
        "  # includes dropout and reccurrent dropout \n",
        "  model.add(layers.GRU(32, \n",
        "                 dropout=drop,\n",
        "                 recurrent_dropout=rec_drop,\n",
        "                 input_shape=(151848, 500))\n",
        "  )\n",
        "\n",
        "  # output layer \n",
        "  model.add(layers.Dense(1, activation='sigmoid'))\n",
        "  \n",
        "  model.compile(optimizer = optimizers.RMSprop(learning_rate = lr),\n",
        "                loss='binary_crossentropy',\n",
        "                metrics=['acc'])\n",
        "  model.build()\n",
        "  model.summary()\n",
        "  return model "
      ]
    },
    {
      "cell_type": "code",
      "execution_count": null,
      "metadata": {
        "id": "Y9B6awohyiPu"
      },
      "outputs": [],
      "source": [
        "def build_optimizer(drop, rec_drop, optimizer):\n",
        "  model = models.Sequential()\n",
        "\n",
        "  # Embedding layers \n",
        "  # network will learn 8-dimensional embeddings for each of the 15,000 words\n",
        "  model.add(Embedding(15000, 8))\n",
        "\n",
        "  # LSTM layer\n",
        "  # includes dropout and reccurrent dropout \n",
        "  model.add(layers.GRU(32, \n",
        "                 dropout=drop,\n",
        "                 recurrent_dropout=rec_drop,\n",
        "                 input_shape=(151848, 500))\n",
        "  )\n",
        "\n",
        "  # output layer \n",
        "  model.add(layers.Dense(1, activation='sigmoid'))\n",
        "  \n",
        "  if optimizer == 'Adam':\n",
        "    model.compile(optimizer = optimizers.Adam(),\n",
        "                  loss='binary_crossentropy',\n",
        "                  metrics=['acc'])\n",
        "  else:\n",
        "    model.compile(optimizer = optimizers.Nadam(),\n",
        "                  loss='binary_crossentropy',\n",
        "                  metrics=['acc'])\n",
        "  model.build()\n",
        "  model.summary()\n",
        "  return model "
      ]
    },
    {
      "cell_type": "code",
      "execution_count": null,
      "metadata": {
        "id": "sM59ZYms7gjI"
      },
      "outputs": [],
      "source": [
        "def plot_outputs():\n",
        "\n",
        "  acc = history.history['acc']\n",
        "  val_acc = history.history['val_acc']\n",
        "  loss = history.history['loss']\n",
        "  val_loss = history.history['val_loss']\n",
        "\n",
        "  epochs = range(1, len(acc) + 1)\n",
        "\n",
        "  plt.plot(epochs, acc, 'bo', label='Training acc')\n",
        "  plt.plot(epochs, val_acc, 'b', label='Validation acc')\n",
        "  plt.title('Training and validation accuracy')\n",
        "  plt.legend()\n",
        "\n",
        "  plt.figure()\n",
        "\n",
        "  plt.plot(epochs, loss, 'bo', label='Training loss')\n",
        "  plt.plot(epochs, val_loss, 'b', label='Validation loss')\n",
        "  plt.title('Training and validation loss')\n",
        "  plt.legend()\n",
        "\n",
        "  plt.show()"
      ]
    },
    {
      "cell_type": "code",
      "execution_count": null,
      "metadata": {
        "id": "MPD09m9hwYzQ"
      },
      "outputs": [],
      "source": [
        "callbacks_list = [keras.callbacks.EarlyStopping(\n",
        "    monitor='val_loss',\n",
        "    patience=5\n",
        "    )]"
      ]
    },
    {
      "cell_type": "code",
      "execution_count": null,
      "metadata": {
        "id": "1TdWEKAI_8rv"
      },
      "outputs": [],
      "source": [
        "def train(model, epoch):\n",
        "  return model.fit(x_partial_train, y_partial_train,\n",
        "                   epochs = epoch,\n",
        "                   batch_size = 128,\n",
        "                   callbacks = callbacks_list,\n",
        "                   validation_data = (x_val, y_val))"
      ]
    },
    {
      "cell_type": "code",
      "execution_count": null,
      "metadata": {
        "id": "gUBwG-MJAmQH"
      },
      "outputs": [],
      "source": [
        "def train_final_model(model, epoch):\n",
        "  return model.fit(x_train, y_train, epochs = epoch, batch_size = 128)"
      ]
    },
    {
      "cell_type": "code",
      "execution_count": null,
      "metadata": {
        "id": "4N42m_tSBG56"
      },
      "outputs": [],
      "source": [
        "def evaluate():\n",
        "  model.evaluate(x_test, y_test)"
      ]
    },
    {
      "cell_type": "markdown",
      "metadata": {
        "id": "7amL1zLQDork"
      },
      "source": [
        "# Model 1: First LSTM Model<a class=\"anchor\" id=\"model2\"></a>\n",
        "-------------------------"
      ]
    },
    {
      "cell_type": "code",
      "execution_count": null,
      "metadata": {
        "colab": {
          "base_uri": "https://localhost:8080/"
        },
        "id": "TVqjBeg5EiQT",
        "outputId": "5a0c895c-b994-4f30-fbe0-e7a3ca3eb2ee"
      },
      "outputs": [
        {
          "output_type": "stream",
          "name": "stdout",
          "text": [
            "Model: \"sequential\"\n",
            "_________________________________________________________________\n",
            " Layer (type)                Output Shape              Param #   \n",
            "=================================================================\n",
            " embedding (Embedding)       (None, None, 8)           120000    \n",
            "                                                                 \n",
            " lstm (LSTM)                 (None, 32)                5248      \n",
            "                                                                 \n",
            " dense (Dense)               (None, 1)                 33        \n",
            "                                                                 \n",
            "=================================================================\n",
            "Total params: 125,281\n",
            "Trainable params: 125,281\n",
            "Non-trainable params: 0\n",
            "_________________________________________________________________\n"
          ]
        }
      ],
      "source": [
        "model = build_scaled_up()"
      ]
    },
    {
      "cell_type": "code",
      "execution_count": null,
      "metadata": {
        "colab": {
          "base_uri": "https://localhost:8080/"
        },
        "id": "IvuPlxW7v_zH",
        "outputId": "d3391b08-c909-4d54-fa0f-a084d1477125"
      },
      "outputs": [
        {
          "output_type": "stream",
          "name": "stdout",
          "text": [
            "Epoch 1/50\n",
            "829/829 [==============================] - 268s 323ms/step - loss: 0.5280 - acc: 0.7450 - val_loss: 0.5379 - val_acc: 0.7245\n",
            "Epoch 2/50\n",
            "829/829 [==============================] - 268s 323ms/step - loss: 0.5205 - acc: 0.7499 - val_loss: 0.5754 - val_acc: 0.7232\n",
            "Epoch 3/50\n",
            "829/829 [==============================] - 270s 326ms/step - loss: 0.5135 - acc: 0.7546 - val_loss: 0.5252 - val_acc: 0.7548\n",
            "Epoch 4/50\n",
            "829/829 [==============================] - 269s 325ms/step - loss: 0.5059 - acc: 0.7604 - val_loss: 0.5719 - val_acc: 0.7209\n",
            "Epoch 5/50\n",
            "829/829 [==============================] - 269s 325ms/step - loss: 0.4979 - acc: 0.7656 - val_loss: 0.6241 - val_acc: 0.6595\n",
            "Epoch 6/50\n",
            "829/829 [==============================] - 274s 330ms/step - loss: 0.4896 - acc: 0.7710 - val_loss: 0.6312 - val_acc: 0.6860\n",
            "Epoch 7/50\n",
            "829/829 [==============================] - 269s 325ms/step - loss: 0.4802 - acc: 0.7749 - val_loss: 0.6020 - val_acc: 0.7381\n",
            "Epoch 8/50\n",
            "829/829 [==============================] - 272s 328ms/step - loss: 0.4738 - acc: 0.7812 - val_loss: 0.6267 - val_acc: 0.6919\n",
            "Epoch 9/50\n",
            "829/829 [==============================] - 273s 330ms/step - loss: 0.4650 - acc: 0.7863 - val_loss: 0.7134 - val_acc: 0.6019\n",
            "Epoch 10/50\n",
            "829/829 [==============================] - 270s 325ms/step - loss: 0.4580 - acc: 0.7912 - val_loss: 0.5639 - val_acc: 0.7367\n",
            "Epoch 11/50\n",
            "829/829 [==============================] - 275s 332ms/step - loss: 0.4528 - acc: 0.7936 - val_loss: 0.6438 - val_acc: 0.6739\n",
            "Epoch 12/50\n",
            "829/829 [==============================] - 275s 332ms/step - loss: 0.4473 - acc: 0.7979 - val_loss: 0.6314 - val_acc: 0.6874\n",
            "Epoch 13/50\n",
            "829/829 [==============================] - 271s 327ms/step - loss: 0.4401 - acc: 0.8030 - val_loss: 0.6881 - val_acc: 0.6435\n"
          ]
        }
      ],
      "source": [
        "history = train(model, 50)"
      ]
    },
    {
      "cell_type": "code",
      "execution_count": null,
      "metadata": {
        "colab": {
          "base_uri": "https://localhost:8080/",
          "height": 545
        },
        "id": "kKN0rfstE0US",
        "outputId": "f5a093ae-facd-47c3-cff0-9985f774d7f1"
      },
      "outputs": [
        {
          "output_type": "display_data",
          "data": {
            "text/plain": [
              "<Figure size 432x288 with 1 Axes>"
            ],
            "image/png": "[encoded data removed]"
          },
          "metadata": {
            "needs_background": "light"
          }
        },
        {
          "output_type": "display_data",
          "data": {
            "text/plain": [
              "<Figure size 432x288 with 1 Axes>"
            ],
            "image/png": "[encoded data removed]"
          },
          "metadata": {
            "needs_background": "light"
          }
        }
      ],
      "source": [
        "plot_outputs()"
      ]
    },
    {
      "cell_type": "markdown",
      "metadata": {
        "id": "N9e8Y78B2oKm"
      },
      "source": [
        "# Tuning: Dropout <a class=\"anchor\" id=\"dropout\"></a>\n",
        "------------"
      ]
    },
    {
      "cell_type": "markdown",
      "metadata": {
        "id": "1w5u_2EK-Qsr"
      },
      "source": [
        "## Model 2: Rate 20% <a class=\"anchor\" id=\"model3\"></a>\n",
        "-----------------------"
      ]
    },
    {
      "cell_type": "code",
      "execution_count": null,
      "metadata": {
        "colab": {
          "base_uri": "https://localhost:8080/"
        },
        "id": "ite5-62s23RO",
        "outputId": "525a8b79-8139-4a0e-cca0-12cdc7a1114e"
      },
      "outputs": [
        {
          "output_type": "stream",
          "name": "stdout",
          "text": [
            "Model: \"sequential_3\"\n",
            "_________________________________________________________________\n",
            " Layer (type)                Output Shape              Param #   \n",
            "=================================================================\n",
            " embedding_3 (Embedding)     (None, None, 8)           120000    \n",
            "                                                                 \n",
            " lstm_3 (LSTM)               (None, 32)                5248      \n",
            "                                                                 \n",
            " dense_3 (Dense)             (None, 1)                 33        \n",
            "                                                                 \n",
            "=================================================================\n",
            "Total params: 125,281\n",
            "Trainable params: 125,281\n",
            "Non-trainable params: 0\n",
            "_________________________________________________________________\n"
          ]
        }
      ],
      "source": [
        "model = build_dropout(0.2, 0.2)"
      ]
    },
    {
      "cell_type": "code",
      "execution_count": null,
      "metadata": {
        "colab": {
          "base_uri": "https://localhost:8080/"
        },
        "id": "kHnBZYx9u-Ap",
        "outputId": "911cb8c9-b1a1-4e83-bfe4-75eaa3b92782"
      },
      "outputs": [
        {
          "output_type": "stream",
          "name": "stdout",
          "text": [
            "Epoch 1/50\n",
            "1942/1942 [==============================] - 1310s 673ms/step - loss: 0.6218 - acc: 0.6538 - val_loss: 0.6264 - val_acc: 0.6615\n",
            "Epoch 2/50\n",
            "1942/1942 [==============================] - 1302s 671ms/step - loss: 0.5833 - acc: 0.6996 - val_loss: 0.5696 - val_acc: 0.7245\n",
            "Epoch 3/50\n",
            "1942/1942 [==============================] - 1310s 675ms/step - loss: 0.5706 - acc: 0.7077 - val_loss: 0.5113 - val_acc: 0.7547\n",
            "Epoch 4/50\n",
            "1942/1942 [==============================] - 1304s 672ms/step - loss: 0.5616 - acc: 0.7127 - val_loss: 0.5999 - val_acc: 0.7083\n",
            "Epoch 5/50\n",
            "1942/1942 [==============================] - 1305s 672ms/step - loss: 0.5559 - acc: 0.7186 - val_loss: 0.5307 - val_acc: 0.7437\n",
            "Epoch 6/50\n",
            "1942/1942 [==============================] - 1311s 675ms/step - loss: 0.5500 - acc: 0.7212 - val_loss: 0.5565 - val_acc: 0.7347\n",
            "Epoch 7/50\n",
            "1942/1942 [==============================] - 1326s 683ms/step - loss: 0.5472 - acc: 0.7235 - val_loss: 0.5660 - val_acc: 0.7148\n",
            "Epoch 8/50\n",
            "1942/1942 [==============================] - 1331s 685ms/step - loss: 0.5440 - acc: 0.7254 - val_loss: 0.5709 - val_acc: 0.7287\n",
            "Epoch 9/50\n",
            "1942/1942 [==============================] - 1316s 678ms/step - loss: 0.5410 - acc: 0.7273 - val_loss: 0.5197 - val_acc: 0.7355\n",
            "Epoch 10/50\n",
            "1942/1942 [==============================] - 1317s 678ms/step - loss: 0.5370 - acc: 0.7303 - val_loss: 0.5581 - val_acc: 0.7291\n",
            "Epoch 11/50\n",
            "1942/1942 [==============================] - 1315s 677ms/step - loss: 0.5339 - acc: 0.7317 - val_loss: 0.5757 - val_acc: 0.7299\n",
            "Epoch 12/50\n",
            "1942/1942 [==============================] - 1313s 676ms/step - loss: 0.5330 - acc: 0.7321 - val_loss: 0.5408 - val_acc: 0.7426\n",
            "Epoch 13/50\n",
            "1942/1942 [==============================] - 1309s 674ms/step - loss: 0.5303 - acc: 0.7341 - val_loss: 0.5471 - val_acc: 0.7272\n"
          ]
        }
      ],
      "source": [
        "history = train(model, 50)"
      ]
    },
    {
      "cell_type": "markdown",
      "metadata": {
        "id": "Yrm83f2TZcLd"
      },
      "source": [
        "Below I have included graphs showing the training and validation accuracy and loss of this model:\n"
      ]
    },
    {
      "cell_type": "code",
      "execution_count": null,
      "metadata": {
        "colab": {
          "base_uri": "https://localhost:8080/",
          "height": 545
        },
        "id": "iXc_6UlUmT2E",
        "outputId": "f5ef763b-1db5-4b9a-ebfa-c4061603c144"
      },
      "outputs": [
        {
          "output_type": "display_data",
          "data": {
            "text/plain": [
              "<Figure size 432x288 with 1 Axes>"
            ],
            "image/png": "[encoded data removed]"
          },
          "metadata": {
            "needs_background": "light"
          }
        },
        {
          "output_type": "display_data",
          "data": {
            "text/plain": [
              "<Figure size 432x288 with 1 Axes>"
            ],
            "image/png": "[encoded data removed]"
          },
          "metadata": {
            "needs_background": "light"
          }
        }
      ],
      "source": [
        "plot_outputs()"
      ]
    },
    {
      "cell_type": "markdown",
      "metadata": {
        "id": "vHxRYbpP-aYT"
      },
      "source": [
        "## Model 3: Rate 40% <a class=\"anchor\" id=\"model4\"></a>\n",
        "-----------------------"
      ]
    },
    {
      "cell_type": "code",
      "source": [
        "model = build_dropout(0.4, 0.4)"
      ],
      "metadata": {
        "colab": {
          "base_uri": "https://localhost:8080/"
        },
        "id": "lrJY8ajmcQIe",
        "outputId": "69ee8a16-feca-4da4-acf5-1be78474ec06"
      },
      "execution_count": null,
      "outputs": [
        {
          "output_type": "stream",
          "name": "stdout",
          "text": [
            "Model: \"sequential_6\"\n",
            "_________________________________________________________________\n",
            " Layer (type)                Output Shape              Param #   \n",
            "=================================================================\n",
            " embedding_6 (Embedding)     (None, None, 8)           120000    \n",
            "                                                                 \n",
            " lstm_6 (LSTM)               (None, 32)                5248      \n",
            "                                                                 \n",
            " dense_6 (Dense)             (None, 1)                 33        \n",
            "                                                                 \n",
            "=================================================================\n",
            "Total params: 125,281\n",
            "Trainable params: 125,281\n",
            "Non-trainable params: 0\n",
            "_________________________________________________________________\n"
          ]
        }
      ]
    },
    {
      "cell_type": "code",
      "execution_count": null,
      "metadata": {
        "colab": {
          "base_uri": "https://localhost:8080/"
        },
        "id": "XS0X9i_6v1PS",
        "outputId": "ee4a9deb-a88c-4a89-858e-74645959b207"
      },
      "outputs": [
        {
          "output_type": "stream",
          "name": "stdout",
          "text": [
            "Epoch 1/50\n",
            "1942/1942 [==============================] - 1342s 683ms/step - loss: 0.6294 - acc: 0.6497 - val_loss: 0.5619 - val_acc: 0.7132\n",
            "Epoch 2/50\n",
            "1942/1942 [==============================] - 1312s 675ms/step - loss: 0.5946 - acc: 0.6921 - val_loss: 0.5704 - val_acc: 0.6950\n",
            "Epoch 3/50\n",
            "1942/1942 [==============================] - 1307s 673ms/step - loss: 0.5764 - acc: 0.7034 - val_loss: 0.5920 - val_acc: 0.7116\n",
            "Epoch 4/50\n",
            "1942/1942 [==============================] - 1304s 671ms/step - loss: 0.5665 - acc: 0.7075 - val_loss: 0.5707 - val_acc: 0.6959\n",
            "Epoch 5/50\n",
            "1942/1942 [==============================] - 1313s 676ms/step - loss: 0.5580 - acc: 0.7133 - val_loss: 0.5408 - val_acc: 0.7064\n",
            "Epoch 6/50\n",
            "1942/1942 [==============================] - 1313s 676ms/step - loss: 0.5510 - acc: 0.7180 - val_loss: 0.5398 - val_acc: 0.7381\n",
            "Epoch 7/50\n",
            "1942/1942 [==============================] - 1314s 677ms/step - loss: 0.5470 - acc: 0.7190 - val_loss: 0.5284 - val_acc: 0.7536\n",
            "Epoch 8/50\n",
            "1942/1942 [==============================] - 1315s 677ms/step - loss: 0.5452 - acc: 0.7201 - val_loss: 0.5446 - val_acc: 0.7389\n",
            "Epoch 9/50\n",
            "1942/1942 [==============================] - 1316s 678ms/step - loss: 0.5425 - acc: 0.7219 - val_loss: 0.5320 - val_acc: 0.7365\n",
            "Epoch 10/50\n",
            "1942/1942 [==============================] - 1316s 678ms/step - loss: 0.5406 - acc: 0.7233 - val_loss: 0.5449 - val_acc: 0.7141\n",
            "Epoch 11/50\n",
            "1942/1942 [==============================] - 1309s 674ms/step - loss: 0.5385 - acc: 0.7250 - val_loss: 0.5427 - val_acc: 0.7259\n",
            "Epoch 12/50\n",
            "1942/1942 [==============================] - 1319s 679ms/step - loss: 0.5381 - acc: 0.7247 - val_loss: 0.5816 - val_acc: 0.7138\n"
          ]
        }
      ],
      "source": [
        "history = train(model, 50)"
      ]
    },
    {
      "cell_type": "markdown",
      "metadata": {
        "id": "9Yv8WEPQaPjI"
      },
      "source": [
        "Graphs showing the training and validation loss and accuracy can be found below:"
      ]
    },
    {
      "cell_type": "code",
      "source": [
        "plot_outputs()"
      ],
      "metadata": {
        "id": "mZElJhUycUDi",
        "colab": {
          "base_uri": "https://localhost:8080/",
          "height": 545
        },
        "outputId": "33f43e5d-6dcc-4b01-a8fe-3197601f9937"
      },
      "execution_count": null,
      "outputs": [
        {
          "output_type": "display_data",
          "data": {
            "text/plain": [
              "<Figure size 432x288 with 1 Axes>"
            ],
            "image/png": "[encoded data removed]"
          },
          "metadata": {
            "needs_background": "light"
          }
        },
        {
          "output_type": "display_data",
          "data": {
            "text/plain": [
              "<Figure size 432x288 with 1 Axes>"
            ],
            "image/png": "[encoded data removed]"
          },
          "metadata": {
            "needs_background": "light"
          }
        }
      ]
    },
    {
      "cell_type": "markdown",
      "metadata": {
        "id": "_EEWbueXCS7d"
      },
      "source": [
        "## Model 4: Rate 30% <a class=\"anchor\" id=\"model5\"></a>\n",
        "-----------------------"
      ]
    },
    {
      "cell_type": "code",
      "execution_count": null,
      "metadata": {
        "id": "6EPKuGN_CLvv",
        "colab": {
          "base_uri": "https://localhost:8080/"
        },
        "outputId": "968b345b-9cb1-4da6-beec-3de0b761de36"
      },
      "outputs": [
        {
          "output_type": "stream",
          "name": "stdout",
          "text": [
            "Model: \"sequential_7\"\n",
            "_________________________________________________________________\n",
            " Layer (type)                Output Shape              Param #   \n",
            "=================================================================\n",
            " embedding_7 (Embedding)     (None, None, 8)           120000    \n",
            "                                                                 \n",
            " lstm_7 (LSTM)               (None, 32)                5248      \n",
            "                                                                 \n",
            " dense_7 (Dense)             (None, 1)                 33        \n",
            "                                                                 \n",
            "=================================================================\n",
            "Total params: 125,281\n",
            "Trainable params: 125,281\n",
            "Non-trainable params: 0\n",
            "_________________________________________________________________\n"
          ]
        }
      ],
      "source": [
        "model = build_dropout(0.3, 0.3)"
      ]
    },
    {
      "cell_type": "code",
      "execution_count": null,
      "metadata": {
        "id": "YRZwq_AuCNp1",
        "colab": {
          "base_uri": "https://localhost:8080/"
        },
        "outputId": "6fa32ef3-0cdd-4678-aaa1-9614ce04c43b"
      },
      "outputs": [
        {
          "output_type": "stream",
          "name": "stdout",
          "text": [
            "Epoch 1/50\n",
            "1942/1942 [==============================] - 1286s 661ms/step - loss: 0.6260 - acc: 0.6522 - val_loss: 0.5645 - val_acc: 0.7099\n",
            "Epoch 2/50\n",
            "1942/1942 [==============================] - 1284s 661ms/step - loss: 0.5835 - acc: 0.6960 - val_loss: 0.5431 - val_acc: 0.7353\n",
            "Epoch 3/50\n",
            "1942/1942 [==============================] - 1289s 664ms/step - loss: 0.5700 - acc: 0.7066 - val_loss: 0.5368 - val_acc: 0.7452\n",
            "Epoch 4/50\n",
            "1942/1942 [==============================] - 1287s 663ms/step - loss: 0.5614 - acc: 0.7128 - val_loss: 0.5710 - val_acc: 0.7151\n",
            "Epoch 5/50\n",
            "1942/1942 [==============================] - 1286s 662ms/step - loss: 0.5556 - acc: 0.7158 - val_loss: 0.6110 - val_acc: 0.6875\n",
            "Epoch 6/50\n",
            "1942/1942 [==============================] - 1303s 671ms/step - loss: 0.5491 - acc: 0.7211 - val_loss: 0.5331 - val_acc: 0.7419\n",
            "Epoch 7/50\n",
            "1942/1942 [==============================] - 1309s 674ms/step - loss: 0.5445 - acc: 0.7236 - val_loss: 0.6129 - val_acc: 0.6581\n",
            "Epoch 8/50\n",
            "1942/1942 [==============================] - 1311s 675ms/step - loss: 0.5405 - acc: 0.7258 - val_loss: 0.5604 - val_acc: 0.6996\n",
            "Epoch 9/50\n",
            "1942/1942 [==============================] - 1310s 675ms/step - loss: 0.5390 - acc: 0.7269 - val_loss: 0.5210 - val_acc: 0.7502\n",
            "Epoch 10/50\n",
            "1942/1942 [==============================] - 1311s 675ms/step - loss: 0.5379 - acc: 0.7261 - val_loss: 0.5856 - val_acc: 0.6805\n",
            "Epoch 11/50\n",
            "1942/1942 [==============================] - 1306s 672ms/step - loss: 0.5367 - acc: 0.7285 - val_loss: 0.5454 - val_acc: 0.7128\n",
            "Epoch 12/50\n",
            "1942/1942 [==============================] - 1303s 671ms/step - loss: 0.5344 - acc: 0.7291 - val_loss: 0.5757 - val_acc: 0.7192\n",
            "Epoch 13/50\n",
            "1942/1942 [==============================] - 1301s 670ms/step - loss: 0.5336 - acc: 0.7305 - val_loss: 0.5930 - val_acc: 0.6745\n",
            "Epoch 14/50\n",
            "1942/1942 [==============================] - 1301s 670ms/step - loss: 0.5321 - acc: 0.7313 - val_loss: 0.6841 - val_acc: 0.5751\n"
          ]
        }
      ],
      "source": [
        "history = train(model, 50)"
      ]
    },
    {
      "cell_type": "code",
      "execution_count": null,
      "metadata": {
        "id": "aY60CegHOGKg",
        "colab": {
          "base_uri": "https://localhost:8080/",
          "height": 545
        },
        "outputId": "c074c146-3507-4422-e473-4b157b4298c1"
      },
      "outputs": [
        {
          "output_type": "display_data",
          "data": {
            "text/plain": [
              "<Figure size 432x288 with 1 Axes>"
            ],
            "image/png": "[encoded data removed]"
          },
          "metadata": {
            "needs_background": "light"
          }
        },
        {
          "output_type": "display_data",
          "data": {
            "text/plain": [
              "<Figure size 432x288 with 1 Axes>"
            ],
            "image/png": "[encoded data removed]"
          },
          "metadata": {
            "needs_background": "light"
          }
        }
      ],
      "source": [
        "plot_outputs()"
      ]
    },
    {
      "cell_type": "markdown",
      "metadata": {
        "id": "UfpTQsadZXBq"
      },
      "source": [
        "# Tuning: Number of Layers <a class=\"anchor\" id=\"layers\"></a>\n",
        "----------------------------\n",
        "Next, I will be changing the architecture by adding layers. Adding layers will increase the capacity of the network, making it more likely to learn important patterns that can allow it to make more accurate predictions. "
      ]
    },
    {
      "cell_type": "markdown",
      "metadata": {
        "id": "QKfum3k6O2lP"
      },
      "source": [
        "## Failed Model: 2 Layers <a class=\"anchor\" id=\"model6\"></a>\n",
        "--------------------\n",
        "For the next model, I will be increasing the number of LSTM layers to 2. The model definition can be seen below. "
      ]
    },
    {
      "cell_type": "code",
      "execution_count": null,
      "metadata": {
        "id": "dl0MU_eYZii-"
      },
      "outputs": [],
      "source": [
        "model = build_layers(0.4, 0.4, 2)"
      ]
    },
    {
      "cell_type": "code",
      "execution_count": null,
      "metadata": {
        "id": "JVzlzUzlZ8_y"
      },
      "outputs": [],
      "source": [
        "history = train(model, 50)"
      ]
    },
    {
      "cell_type": "markdown",
      "metadata": {
        "id": "Gnoq1VNSQVE6"
      },
      "source": [
        "# Model 5: First GRU Model <a class=\"anchor\" id=\"model7\"></a>\n",
        "-----------------"
      ]
    },
    {
      "cell_type": "code",
      "execution_count": null,
      "metadata": {
        "id": "h1JEPGh85dzs",
        "colab": {
          "base_uri": "https://localhost:8080/"
        },
        "outputId": "ade3c7d2-c4c7-4e98-b873-afbf9cdf445b"
      },
      "outputs": [
        {
          "output_type": "stream",
          "name": "stdout",
          "text": [
            "Model: \"sequential\"\n",
            "_________________________________________________________________\n",
            " Layer (type)                Output Shape              Param #   \n",
            "=================================================================\n",
            " embedding (Embedding)       (None, None, 8)           120000    \n",
            "                                                                 \n",
            " gru (GRU)                   (None, 32)                4032      \n",
            "                                                                 \n",
            " dense (Dense)               (None, 1)                 33        \n",
            "                                                                 \n",
            "=================================================================\n",
            "Total params: 124,065\n",
            "Trainable params: 124,065\n",
            "Non-trainable params: 0\n",
            "_________________________________________________________________\n"
          ]
        }
      ],
      "source": [
        "model = build_GRU(0.2, 0.2)"
      ]
    },
    {
      "cell_type": "code",
      "execution_count": null,
      "metadata": {
        "id": "cHqgy2aU2YFM",
        "colab": {
          "base_uri": "https://localhost:8080/"
        },
        "outputId": "94682841-57c0-4b6e-cf8a-b081f031c941"
      },
      "outputs": [
        {
          "output_type": "stream",
          "name": "stdout",
          "text": [
            "Epoch 1/50\n",
            "1942/1942 [==============================] - 1143s 587ms/step - loss: 0.6357 - acc: 0.6277 - val_loss: 0.5548 - val_acc: 0.7095\n",
            "Epoch 2/50\n",
            "1942/1942 [==============================] - 1136s 585ms/step - loss: 0.5721 - acc: 0.7024 - val_loss: 0.5629 - val_acc: 0.7116\n",
            "Epoch 3/50\n",
            "1942/1942 [==============================] - 1135s 585ms/step - loss: 0.5557 - acc: 0.7149 - val_loss: 0.5379 - val_acc: 0.7363\n",
            "Epoch 4/50\n",
            "1942/1942 [==============================] - 1133s 583ms/step - loss: 0.5466 - acc: 0.7209 - val_loss: 0.5986 - val_acc: 0.6803\n",
            "Epoch 5/50\n",
            "1942/1942 [==============================] - 1132s 583ms/step - loss: 0.5407 - acc: 0.7251 - val_loss: 0.5395 - val_acc: 0.7317\n",
            "Epoch 6/50\n",
            "1942/1942 [==============================] - 1132s 583ms/step - loss: 0.5359 - acc: 0.7276 - val_loss: 0.5575 - val_acc: 0.7131\n",
            "Epoch 7/50\n",
            "1942/1942 [==============================] - 1130s 582ms/step - loss: 0.5319 - acc: 0.7305 - val_loss: 0.5687 - val_acc: 0.7074\n",
            "Epoch 8/50\n",
            "1942/1942 [==============================] - 1138s 586ms/step - loss: 0.5280 - acc: 0.7338 - val_loss: 0.5746 - val_acc: 0.7075\n"
          ]
        }
      ],
      "source": [
        "history = train(model, 50)"
      ]
    },
    {
      "cell_type": "code",
      "execution_count": null,
      "metadata": {
        "id": "JaUU91OT2X7_",
        "colab": {
          "base_uri": "https://localhost:8080/",
          "height": 545
        },
        "outputId": "80448294-1922-4b10-a459-112b7f0a5137"
      },
      "outputs": [
        {
          "output_type": "display_data",
          "data": {
            "text/plain": [
              "<Figure size 432x288 with 1 Axes>"
            ],
            "image/png": "[encoded data removed]"
          },
          "metadata": {
            "needs_background": "light"
          }
        },
        {
          "output_type": "display_data",
          "data": {
            "text/plain": [
              "<Figure size 432x288 with 1 Axes>"
            ],
            "image/png": "[encoded data removed]"
          },
          "metadata": {
            "needs_background": "light"
          }
        }
      ],
      "source": [
        "plot_outputs()"
      ]
    },
    {
      "cell_type": "markdown",
      "metadata": {
        "id": "fcBZaw3BC2og"
      },
      "source": [
        "# Tuning: Learning Rate <a class=\"anchor\" id=\"Learning-Rate\"></a>\n",
        "----------------------------"
      ]
    },
    {
      "cell_type": "markdown",
      "metadata": {
        "id": "o0lBz6h6F00f"
      },
      "source": [
        "## Model 6: 0.003 <a class=\"anchor\" id=\"model8\"></a>\n",
        "-----------------"
      ]
    },
    {
      "cell_type": "code",
      "execution_count": null,
      "metadata": {
        "id": "My-6PlgUF6F9",
        "colab": {
          "base_uri": "https://localhost:8080/"
        },
        "outputId": "263766d7-0caa-476f-8fd0-248507466da0"
      },
      "outputs": [
        {
          "output_type": "stream",
          "name": "stdout",
          "text": [
            "Model: \"sequential_1\"\n",
            "_________________________________________________________________\n",
            " Layer (type)                Output Shape              Param #   \n",
            "=================================================================\n",
            " embedding_1 (Embedding)     (None, None, 8)           120000    \n",
            "                                                                 \n",
            " gru_1 (GRU)                 (None, 32)                4032      \n",
            "                                                                 \n",
            " dense_1 (Dense)             (None, 1)                 33        \n",
            "                                                                 \n",
            "=================================================================\n",
            "Total params: 124,065\n",
            "Trainable params: 124,065\n",
            "Non-trainable params: 0\n",
            "_________________________________________________________________\n"
          ]
        }
      ],
      "source": [
        "model = build_learning_rate(0.2, 0.2, 0.003)"
      ]
    },
    {
      "cell_type": "code",
      "execution_count": null,
      "metadata": {
        "id": "wceGNTiuF58I",
        "colab": {
          "base_uri": "https://localhost:8080/"
        },
        "outputId": "2be62224-7dc9-4493-811f-0c168c4f878b"
      },
      "outputs": [
        {
          "output_type": "stream",
          "name": "stdout",
          "text": [
            "Epoch 1/50\n",
            "1948/1948 [==============================] - 1109s 568ms/step - loss: 0.6352 - acc: 0.6300 - val_loss: 0.5705 - val_acc: 0.7058\n",
            "Epoch 2/50\n",
            "1948/1948 [==============================] - 1120s 575ms/step - loss: 0.5608 - acc: 0.7068 - val_loss: 0.5278 - val_acc: 0.7462\n",
            "Epoch 3/50\n",
            "1948/1948 [==============================] - 1124s 577ms/step - loss: 0.5463 - acc: 0.7189 - val_loss: 0.5673 - val_acc: 0.7017\n",
            "Epoch 4/50\n",
            "1948/1948 [==============================] - 1122s 576ms/step - loss: 0.5374 - acc: 0.7265 - val_loss: 0.5211 - val_acc: 0.7422\n",
            "Epoch 5/50\n",
            "1948/1948 [==============================] - 1126s 578ms/step - loss: 0.5301 - acc: 0.7322 - val_loss: 0.5402 - val_acc: 0.7212\n",
            "Epoch 6/50\n",
            "1948/1948 [==============================] - 1129s 580ms/step - loss: 0.5251 - acc: 0.7360 - val_loss: 0.5166 - val_acc: 0.7359\n",
            "Epoch 7/50\n",
            "1948/1948 [==============================] - 1128s 579ms/step - loss: 0.5200 - acc: 0.7396 - val_loss: 0.5051 - val_acc: 0.7537\n",
            "Epoch 8/50\n",
            "1948/1948 [==============================] - 1130s 580ms/step - loss: 0.5169 - acc: 0.7424 - val_loss: 0.5411 - val_acc: 0.7251\n",
            "Epoch 9/50\n",
            "1948/1948 [==============================] - 1130s 580ms/step - loss: 0.5132 - acc: 0.7454 - val_loss: 0.5688 - val_acc: 0.7100\n",
            "Epoch 10/50\n",
            "1948/1948 [==============================] - 1130s 580ms/step - loss: 0.5098 - acc: 0.7481 - val_loss: 0.5937 - val_acc: 0.6999\n",
            "Epoch 11/50\n",
            "1948/1948 [==============================] - 1130s 580ms/step - loss: 0.5063 - acc: 0.7522 - val_loss: 0.4946 - val_acc: 0.7643\n",
            "Epoch 12/50\n",
            "1948/1948 [==============================] - 1131s 581ms/step - loss: 0.5033 - acc: 0.7530 - val_loss: 0.5312 - val_acc: 0.7416\n",
            "Epoch 13/50\n",
            "1948/1948 [==============================] - 1129s 580ms/step - loss: 0.5008 - acc: 0.7558 - val_loss: 0.6348 - val_acc: 0.6653\n",
            "Epoch 14/50\n",
            "1948/1948 [==============================] - 1128s 579ms/step - loss: 0.4982 - acc: 0.7566 - val_loss: 0.5260 - val_acc: 0.7384\n",
            "Epoch 15/50\n",
            "1948/1948 [==============================] - 1135s 583ms/step - loss: 0.4960 - acc: 0.7587 - val_loss: 0.6345 - val_acc: 0.6748\n",
            "Epoch 16/50\n",
            "1948/1948 [==============================] - 1127s 578ms/step - loss: 0.4946 - acc: 0.7596 - val_loss: 0.5732 - val_acc: 0.7080\n"
          ]
        }
      ],
      "source": [
        "history = train(model, 50)"
      ]
    },
    {
      "cell_type": "code",
      "execution_count": null,
      "metadata": {
        "id": "HYFMM8INF5ws",
        "colab": {
          "base_uri": "https://localhost:8080/",
          "height": 545
        },
        "outputId": "330413ab-a1f6-4a8c-aae0-b68a5a283d9a"
      },
      "outputs": [
        {
          "output_type": "display_data",
          "data": {
            "text/plain": [
              "<Figure size 432x288 with 1 Axes>"
            ],
            "image/png": "[encoded data removed]"
          },
          "metadata": {
            "needs_background": "light"
          }
        },
        {
          "output_type": "display_data",
          "data": {
            "text/plain": [
              "<Figure size 432x288 with 1 Axes>"
            ],
            "image/png": "[encoded data removed]"
          },
          "metadata": {
            "needs_background": "light"
          }
        }
      ],
      "source": [
        "plot_outputs()"
      ]
    },
    {
      "cell_type": "markdown",
      "metadata": {
        "id": "hUsNfyxdF6ny"
      },
      "source": [
        "## Model 7: 0.006 <a class=\"anchor\" id=\"model9\"></a>\n",
        "--------------"
      ]
    },
    {
      "cell_type": "code",
      "source": [
        "model = build_learning_rate(0.2, 0.2, 0.006)"
      ],
      "metadata": {
        "colab": {
          "base_uri": "https://localhost:8080/"
        },
        "id": "2-IsRpDEEa1c",
        "outputId": "bd230851-f2e6-4890-9b43-cf541e4b3245"
      },
      "execution_count": null,
      "outputs": [
        {
          "output_type": "stream",
          "name": "stdout",
          "text": [
            "Model: \"sequential_4\"\n",
            "_________________________________________________________________\n",
            " Layer (type)                Output Shape              Param #   \n",
            "=================================================================\n",
            " embedding_4 (Embedding)     (None, None, 8)           120000    \n",
            "                                                                 \n",
            " gru_4 (GRU)                 (None, 32)                4032      \n",
            "                                                                 \n",
            " dense_4 (Dense)             (None, 1)                 33        \n",
            "                                                                 \n",
            "=================================================================\n",
            "Total params: 124,065\n",
            "Trainable params: 124,065\n",
            "Non-trainable params: 0\n",
            "_________________________________________________________________\n"
          ]
        }
      ]
    },
    {
      "cell_type": "code",
      "execution_count": null,
      "metadata": {
        "id": "1IOV53vnF9_x",
        "colab": {
          "base_uri": "https://localhost:8080/"
        },
        "outputId": "018b6548-2a8f-4036-c2d0-9052f23c34ad"
      },
      "outputs": [
        {
          "output_type": "stream",
          "name": "stdout",
          "text": [
            "Epoch 1/50\n",
            "1948/1948 [==============================] - 1146s 587ms/step - loss: 0.6005 - acc: 0.6646 - val_loss: 0.5126 - val_acc: 0.7567\n",
            "Epoch 2/50\n",
            "1948/1948 [==============================] - 1143s 587ms/step - loss: 0.5569 - acc: 0.7112 - val_loss: 0.5328 - val_acc: 0.7373\n",
            "Epoch 3/50\n",
            "1948/1948 [==============================] - 1145s 588ms/step - loss: 0.5442 - acc: 0.7203 - val_loss: 0.6561 - val_acc: 0.6451\n",
            "Epoch 4/50\n",
            "1948/1948 [==============================] - 1147s 589ms/step - loss: 0.5369 - acc: 0.7263 - val_loss: 0.5524 - val_acc: 0.7209\n",
            "Epoch 5/50\n",
            "1948/1948 [==============================] - 1148s 589ms/step - loss: 0.5296 - acc: 0.7307 - val_loss: 0.5913 - val_acc: 0.6834\n",
            "Epoch 6/50\n",
            "1948/1948 [==============================] - 1146s 589ms/step - loss: 0.5250 - acc: 0.7344 - val_loss: 0.5879 - val_acc: 0.6977\n"
          ]
        }
      ],
      "source": [
        "history = train(model, 50)"
      ]
    },
    {
      "cell_type": "code",
      "execution_count": null,
      "metadata": {
        "id": "Zm1ZzSO3F90e",
        "colab": {
          "base_uri": "https://localhost:8080/",
          "height": 545
        },
        "outputId": "49b5897d-a3e0-4773-8a83-00359a6479f1"
      },
      "outputs": [
        {
          "output_type": "display_data",
          "data": {
            "text/plain": [
              "<Figure size 432x288 with 1 Axes>"
            ],
            "image/png": "[encoded data removed]"
          },
          "metadata": {
            "needs_background": "light"
          }
        },
        {
          "output_type": "display_data",
          "data": {
            "text/plain": [
              "<Figure size 432x288 with 1 Axes>"
            ],
            "image/png": "[encoded data removed]"
          },
          "metadata": {
            "needs_background": "light"
          }
        }
      ],
      "source": [
        "plot_outputs()"
      ]
    },
    {
      "cell_type": "markdown",
      "metadata": {
        "id": "Zjtf-Hn8F-mh"
      },
      "source": [
        "## Model 8: 0.004 <a class=\"anchor\" id=\"model10\"></a>\n",
        "----------------"
      ]
    },
    {
      "cell_type": "code",
      "execution_count": null,
      "metadata": {
        "id": "e1_Ecb8TGFE-",
        "colab": {
          "base_uri": "https://localhost:8080/"
        },
        "outputId": "f71acdf3-1267-46c4-a090-4bb0a0b62141"
      },
      "outputs": [
        {
          "output_type": "stream",
          "name": "stdout",
          "text": [
            "Model: \"sequential_7\"\n",
            "_________________________________________________________________\n",
            " Layer (type)                Output Shape              Param #   \n",
            "=================================================================\n",
            " embedding_7 (Embedding)     (None, None, 8)           120000    \n",
            "                                                                 \n",
            " gru_7 (GRU)                 (None, 32)                4032      \n",
            "                                                                 \n",
            " dense_7 (Dense)             (None, 1)                 33        \n",
            "                                                                 \n",
            "=================================================================\n",
            "Total params: 124,065\n",
            "Trainable params: 124,065\n",
            "Non-trainable params: 0\n",
            "_________________________________________________________________\n"
          ]
        }
      ],
      "source": [
        "model = build_learning_rate(0.2, 0.2, 0.004)"
      ]
    },
    {
      "cell_type": "code",
      "execution_count": null,
      "metadata": {
        "colab": {
          "base_uri": "https://localhost:8080/"
        },
        "id": "W_tc1ShUGE8Y",
        "outputId": "08097609-adef-476d-ebc3-5a3d2c635c58"
      },
      "outputs": [
        {
          "output_type": "stream",
          "name": "stdout",
          "text": [
            "Epoch 1/50\n",
            "1948/1948 [==============================] - 1148s 583ms/step - loss: 0.6089 - acc: 0.6537 - val_loss: 0.5535 - val_acc: 0.7209\n",
            "Epoch 2/50\n",
            "1948/1948 [==============================] - 1135s 583ms/step - loss: 0.5570 - acc: 0.7096 - val_loss: 0.5211 - val_acc: 0.7407\n",
            "Epoch 3/50\n",
            "1948/1948 [==============================] - 1151s 591ms/step - loss: 0.5446 - acc: 0.7200 - val_loss: 0.5295 - val_acc: 0.7363\n",
            "Epoch 4/50\n",
            "1948/1948 [==============================] - 1143s 587ms/step - loss: 0.5363 - acc: 0.7270 - val_loss: 0.4830 - val_acc: 0.7701\n",
            "Epoch 5/50\n",
            "1948/1948 [==============================] - 1152s 591ms/step - loss: 0.5291 - acc: 0.7323 - val_loss: 0.5213 - val_acc: 0.7411\n",
            "Epoch 6/50\n",
            "1948/1948 [==============================] - 1153s 592ms/step - loss: 0.5230 - acc: 0.7369 - val_loss: 0.6096 - val_acc: 0.6701\n",
            "Epoch 7/50\n",
            "1948/1948 [==============================] - 1148s 590ms/step - loss: 0.5183 - acc: 0.7406 - val_loss: 0.5498 - val_acc: 0.7230\n",
            "Epoch 8/50\n",
            "1948/1948 [==============================] - 1157s 594ms/step - loss: 0.5127 - acc: 0.7460 - val_loss: 0.5635 - val_acc: 0.7112\n",
            "Epoch 9/50\n",
            "1948/1948 [==============================] - 1162s 596ms/step - loss: 0.5081 - acc: 0.7489 - val_loss: 0.5387 - val_acc: 0.7289\n"
          ]
        }
      ],
      "source": [
        "history = train(model, 50)"
      ]
    },
    {
      "cell_type": "code",
      "execution_count": null,
      "metadata": {
        "id": "HbH7IgqoGEyR",
        "colab": {
          "base_uri": "https://localhost:8080/",
          "height": 545
        },
        "outputId": "7bf12d03-72ba-4790-e24c-c7874b7274b0"
      },
      "outputs": [
        {
          "output_type": "display_data",
          "data": {
            "text/plain": [
              "<Figure size 432x288 with 1 Axes>"
            ],
            "image/png": "[encoded data removed]"
          },
          "metadata": {
            "needs_background": "light"
          }
        },
        {
          "output_type": "display_data",
          "data": {
            "text/plain": [
              "<Figure size 432x288 with 1 Axes>"
            ],
            "image/png": "[encoded data removed]"
          },
          "metadata": {
            "needs_background": "light"
          }
        }
      ],
      "source": [
        "plot_outputs()"
      ]
    },
    {
      "cell_type": "markdown",
      "source": [
        "## Model 9: 0.01 <a class=\"anchor\" id=\"model11\"></a>\n",
        "-----------------"
      ],
      "metadata": {
        "id": "Lmp53e4YCP7U"
      }
    },
    {
      "cell_type": "code",
      "source": [
        "model = build_learning_rate(0.2, 0.2, 0.01)"
      ],
      "metadata": {
        "id": "MaIHjBWU0ava",
        "colab": {
          "base_uri": "https://localhost:8080/"
        },
        "outputId": "e4e1b342-8f9b-412d-8bd9-aae5f70c42ff"
      },
      "execution_count": null,
      "outputs": [
        {
          "output_type": "stream",
          "name": "stdout",
          "text": [
            "Model: \"sequential_1\"\n",
            "_________________________________________________________________\n",
            " Layer (type)                Output Shape              Param #   \n",
            "=================================================================\n",
            " embedding_1 (Embedding)     (None, None, 8)           120000    \n",
            "                                                                 \n",
            " gru (GRU)                   (None, 32)                4032      \n",
            "                                                                 \n",
            " dense_1 (Dense)             (None, 1)                 33        \n",
            "                                                                 \n",
            "=================================================================\n",
            "Total params: 124,065\n",
            "Trainable params: 124,065\n",
            "Non-trainable params: 0\n",
            "_________________________________________________________________\n"
          ]
        }
      ]
    },
    {
      "cell_type": "code",
      "source": [
        "history = train(model, 50)"
      ],
      "metadata": {
        "id": "LQKOiqeaVQIe",
        "colab": {
          "base_uri": "https://localhost:8080/"
        },
        "outputId": "c4b79155-77b4-47f8-fb6a-dd56bf4568fd"
      },
      "execution_count": null,
      "outputs": [
        {
          "output_type": "stream",
          "name": "stdout",
          "text": [
            "Epoch 1/50\n",
            "1949/1949 [==============================] - 1133s 580ms/step - loss: 0.5949 - acc: 0.6685 - val_loss: 0.4870 - val_acc: 0.7791\n",
            "Epoch 2/50\n",
            "1949/1949 [==============================] - 1111s 570ms/step - loss: 0.5515 - acc: 0.7149 - val_loss: 0.5518 - val_acc: 0.7216\n",
            "Epoch 3/50\n",
            "1949/1949 [==============================] - 1124s 577ms/step - loss: 0.5393 - acc: 0.7240 - val_loss: 0.5758 - val_acc: 0.6916\n",
            "Epoch 4/50\n",
            "1949/1949 [==============================] - 1124s 577ms/step - loss: 0.5331 - acc: 0.7296 - val_loss: 0.4941 - val_acc: 0.7671\n",
            "Epoch 5/50\n",
            "1949/1949 [==============================] - 1141s 585ms/step - loss: 0.5280 - acc: 0.7330 - val_loss: 0.5190 - val_acc: 0.7470\n",
            "Epoch 6/50\n",
            "1949/1949 [==============================] - 1125s 577ms/step - loss: 0.5238 - acc: 0.7369 - val_loss: 0.6043 - val_acc: 0.6808\n"
          ]
        }
      ]
    },
    {
      "cell_type": "code",
      "source": [
        "plot_outputs()"
      ],
      "metadata": {
        "id": "vtEvfI-V0cRz",
        "colab": {
          "base_uri": "https://localhost:8080/",
          "height": 545
        },
        "outputId": "8ae1f0fb-f1c5-49ff-febb-74bd133e393b"
      },
      "execution_count": null,
      "outputs": [
        {
          "output_type": "display_data",
          "data": {
            "text/plain": [
              "<Figure size 432x288 with 1 Axes>"
            ],
            "image/png": "[encoded data removed]"
          },
          "metadata": {
            "needs_background": "light"
          }
        },
        {
          "output_type": "display_data",
          "data": {
            "text/plain": [
              "<Figure size 432x288 with 1 Axes>"
            ],
            "image/png": "[encoded data removed]"
          },
          "metadata": {
            "needs_background": "light"
          }
        }
      ]
    },
    {
      "cell_type": "markdown",
      "source": [
        "## Model 10: Adam Optimizer\n",
        "---------------------------"
      ],
      "metadata": {
        "id": "9KVp5yM-y1EN"
      }
    },
    {
      "cell_type": "code",
      "source": [
        "model = build_optimizer(0.2, 0.2, 'Adam')"
      ],
      "metadata": {
        "colab": {
          "base_uri": "https://localhost:8080/"
        },
        "id": "Lu_WqSCxy5Sk",
        "outputId": "2744afb0-4f8c-47e6-a58e-56db0cec5d02"
      },
      "execution_count": null,
      "outputs": [
        {
          "output_type": "stream",
          "name": "stdout",
          "text": [
            "Model: \"sequential_6\"\n",
            "_________________________________________________________________\n",
            " Layer (type)                Output Shape              Param #   \n",
            "=================================================================\n",
            " embedding_6 (Embedding)     (None, None, 8)           120000    \n",
            "                                                                 \n",
            " gru_5 (GRU)                 (None, 32)                4032      \n",
            "                                                                 \n",
            " dense_6 (Dense)             (None, 1)                 33        \n",
            "                                                                 \n",
            "=================================================================\n",
            "Total params: 124,065\n",
            "Trainable params: 124,065\n",
            "Non-trainable params: 0\n",
            "_________________________________________________________________\n"
          ]
        }
      ]
    },
    {
      "cell_type": "code",
      "source": [
        "history = train(model, 50)"
      ],
      "metadata": {
        "colab": {
          "base_uri": "https://localhost:8080/"
        },
        "id": "1ud1qxTYy-hs",
        "outputId": "8a77d3e8-f25e-4887-b08c-8d28886aa312"
      },
      "execution_count": null,
      "outputs": [
        {
          "output_type": "stream",
          "name": "stdout",
          "text": [
            "Epoch 1/50\n",
            "1949/1949 [==============================] - 1140s 583ms/step - loss: 0.6223 - acc: 0.6435 - val_loss: 0.5815 - val_acc: 0.6972\n",
            "Epoch 2/50\n",
            "1949/1949 [==============================] - 1124s 576ms/step - loss: 0.5580 - acc: 0.7118 - val_loss: 0.5569 - val_acc: 0.7282\n",
            "Epoch 3/50\n",
            "1949/1949 [==============================] - 1138s 584ms/step - loss: 0.5420 - acc: 0.7244 - val_loss: 0.5555 - val_acc: 0.7245\n",
            "Epoch 4/50\n",
            "1949/1949 [==============================] - 1144s 587ms/step - loss: 0.5313 - acc: 0.7316 - val_loss: 0.5553 - val_acc: 0.7241\n",
            "Epoch 5/50\n",
            "1949/1949 [==============================] - 1153s 592ms/step - loss: 0.5221 - acc: 0.7384 - val_loss: 0.5544 - val_acc: 0.7179\n",
            "Epoch 6/50\n",
            "1949/1949 [==============================] - 1133s 581ms/step - loss: 0.5135 - acc: 0.7444 - val_loss: 0.5533 - val_acc: 0.7222\n",
            "Epoch 7/50\n",
            "1949/1949 [==============================] - 1143s 587ms/step - loss: 0.5039 - acc: 0.7509 - val_loss: 0.5690 - val_acc: 0.7056\n",
            "Epoch 8/50\n",
            "1949/1949 [==============================] - 1135s 582ms/step - loss: 0.4965 - acc: 0.7554 - val_loss: 0.5656 - val_acc: 0.7052\n",
            "Epoch 9/50\n",
            "1949/1949 [==============================] - 1150s 590ms/step - loss: 0.4883 - acc: 0.7605 - val_loss: 0.6042 - val_acc: 0.6876\n",
            "Epoch 10/50\n",
            "1949/1949 [==============================] - 1149s 589ms/step - loss: 0.4823 - acc: 0.7648 - val_loss: 0.5675 - val_acc: 0.7163\n",
            "Epoch 11/50\n",
            "1949/1949 [==============================] - 1171s 601ms/step - loss: 0.4768 - acc: 0.7681 - val_loss: 0.5833 - val_acc: 0.7146\n"
          ]
        }
      ]
    },
    {
      "cell_type": "code",
      "source": [
        "plot_outputs()"
      ],
      "metadata": {
        "colab": {
          "base_uri": "https://localhost:8080/",
          "height": 545
        },
        "id": "Dl1QWqexzBg2",
        "outputId": "68898113-5bc9-4b1c-f834-b3705fd892b7"
      },
      "execution_count": null,
      "outputs": [
        {
          "output_type": "display_data",
          "data": {
            "text/plain": [
              "<Figure size 432x288 with 1 Axes>"
            ],
            "image/png": "[encoded data removed]"
          },
          "metadata": {
            "needs_background": "light"
          }
        },
        {
          "output_type": "display_data",
          "data": {
            "text/plain": [
              "<Figure size 432x288 with 1 Axes>"
            ],
            "image/png": "[encoded data removed]"
          },
          "metadata": {
            "needs_background": "light"
          }
        }
      ]
    },
    {
      "cell_type": "markdown",
      "source": [
        "## Model 11: Nadam Optimizer\n",
        "---------------------------"
      ],
      "metadata": {
        "id": "kl9HwySyz5vd"
      }
    },
    {
      "cell_type": "code",
      "source": [
        "model = build_optimizer(0.2, 0.2, 'Nadam')"
      ],
      "metadata": {
        "colab": {
          "base_uri": "https://localhost:8080/"
        },
        "outputId": "b7d6b052-e024-48de-a39c-8b58380042fc",
        "id": "lD8T5H7bz5vf"
      },
      "execution_count": null,
      "outputs": [
        {
          "output_type": "stream",
          "name": "stdout",
          "text": [
            "Model: \"sequential_7\"\n",
            "_________________________________________________________________\n",
            " Layer (type)                Output Shape              Param #   \n",
            "=================================================================\n",
            " embedding_7 (Embedding)     (None, None, 8)           120000    \n",
            "                                                                 \n",
            " gru_6 (GRU)                 (None, 32)                4032      \n",
            "                                                                 \n",
            " dense_7 (Dense)             (None, 1)                 33        \n",
            "                                                                 \n",
            "=================================================================\n",
            "Total params: 124,065\n",
            "Trainable params: 124,065\n",
            "Non-trainable params: 0\n",
            "_________________________________________________________________\n"
          ]
        }
      ]
    },
    {
      "cell_type": "code",
      "source": [
        "history = train(model, 50)"
      ],
      "metadata": {
        "colab": {
          "base_uri": "https://localhost:8080/"
        },
        "outputId": "208cfab3-0cfb-4fea-e01e-4558fcbebe89",
        "id": "CVIi7RXTz5vg"
      },
      "execution_count": null,
      "outputs": [
        {
          "output_type": "stream",
          "name": "stdout",
          "text": [
            "Epoch 1/50\n",
            "1949/1949 [==============================] - 1158s 588ms/step - loss: 0.6839 - acc: 0.5448 - val_loss: 0.6024 - val_acc: 0.6625\n",
            "Epoch 2/50\n",
            "1949/1949 [==============================] - 1156s 593ms/step - loss: 0.5789 - acc: 0.6915 - val_loss: 0.5598 - val_acc: 0.7110\n",
            "Epoch 3/50\n",
            "1949/1949 [==============================] - 1123s 576ms/step - loss: 0.5514 - acc: 0.7154 - val_loss: 0.5776 - val_acc: 0.6992\n",
            "Epoch 4/50\n",
            "1949/1949 [==============================] - 1122s 575ms/step - loss: 0.5409 - acc: 0.7231 - val_loss: 0.5667 - val_acc: 0.7108\n",
            "Epoch 5/50\n",
            "1949/1949 [==============================] - 1135s 582ms/step - loss: 0.5335 - acc: 0.7299 - val_loss: 0.5420 - val_acc: 0.7272\n",
            "Epoch 6/50\n",
            "1949/1949 [==============================] - 1141s 585ms/step - loss: 0.5278 - acc: 0.7331 - val_loss: 0.5544 - val_acc: 0.7186\n",
            "Epoch 7/50\n",
            "1949/1949 [==============================] - 1137s 583ms/step - loss: 0.5227 - acc: 0.7377 - val_loss: 0.5877 - val_acc: 0.6957\n",
            "Epoch 8/50\n",
            "1949/1949 [==============================] - 1144s 587ms/step - loss: 0.5176 - acc: 0.7411 - val_loss: 0.5407 - val_acc: 0.7307\n",
            "Epoch 9/50\n",
            "1949/1949 [==============================] - 1187s 609ms/step - loss: 0.5139 - acc: 0.7449 - val_loss: 0.5425 - val_acc: 0.7306\n",
            "Epoch 10/50\n",
            "1949/1949 [==============================] - 1183s 607ms/step - loss: 0.5098 - acc: 0.7476 - val_loss: 0.5239 - val_acc: 0.7445\n",
            "Epoch 11/50\n",
            "1949/1949 [==============================] - 1166s 598ms/step - loss: 0.5064 - acc: 0.7504 - val_loss: 0.5425 - val_acc: 0.7314\n",
            "Epoch 12/50\n",
            "1949/1949 [==============================] - 1157s 593ms/step - loss: 0.5029 - acc: 0.7531 - val_loss: 0.5694 - val_acc: 0.7120\n",
            "Epoch 13/50\n",
            "1949/1949 [==============================] - 1156s 593ms/step - loss: 0.4993 - acc: 0.7551 - val_loss: 0.5651 - val_acc: 0.7213\n",
            "Epoch 14/50\n",
            "1949/1949 [==============================] - 1137s 583ms/step - loss: 0.4959 - acc: 0.7585 - val_loss: 0.5410 - val_acc: 0.7336\n",
            "Epoch 15/50\n",
            "1949/1949 [==============================] - 1130s 580ms/step - loss: 0.4926 - acc: 0.7602 - val_loss: 0.6003 - val_acc: 0.6950\n"
          ]
        }
      ]
    },
    {
      "cell_type": "code",
      "source": [
        "plot_outputs()"
      ],
      "metadata": {
        "colab": {
          "base_uri": "https://localhost:8080/",
          "height": 545
        },
        "id": "9BnO9RQiz5vh",
        "outputId": "911d0436-bb65-471b-de7a-e098300add2e"
      },
      "execution_count": null,
      "outputs": [
        {
          "output_type": "display_data",
          "data": {
            "text/plain": [
              "<Figure size 432x288 with 1 Axes>"
            ],
            "image/png": "[encoded data removed]"
          },
          "metadata": {
            "needs_background": "light"
          }
        },
        {
          "output_type": "display_data",
          "data": {
            "text/plain": [
              "<Figure size 432x288 with 1 Axes>"
            ],
            "image/png": "[encoded data removed]"
          },
          "metadata": {
            "needs_background": "light"
          }
        }
      ]
    },
    {
      "cell_type": "markdown",
      "metadata": {
        "id": "3ElnyykVD6Lf"
      },
      "source": [
        "# Training Final Model <a class=\"anchor\" id=\"FinalModel\"></a>\n",
        "-----------------------------------"
      ]
    },
    {
      "cell_type": "code",
      "execution_count": null,
      "metadata": {
        "colab": {
          "base_uri": "https://localhost:8080/"
        },
        "outputId": "ede04f0b-4229-4c80-a4df-48eb35d14c4a",
        "id": "ejvlsAUZCtrP"
      },
      "outputs": [
        {
          "output_type": "stream",
          "name": "stdout",
          "text": [
            "Model: \"sequential_8\"\n",
            "_________________________________________________________________\n",
            " Layer (type)                Output Shape              Param #   \n",
            "=================================================================\n",
            " embedding_8 (Embedding)     (None, None, 8)           120000    \n",
            "                                                                 \n",
            " gru_7 (GRU)                 (None, 32)                4032      \n",
            "                                                                 \n",
            " dense_8 (Dense)             (None, 1)                 33        \n",
            "                                                                 \n",
            "=================================================================\n",
            "Total params: 124,065\n",
            "Trainable params: 124,065\n",
            "Non-trainable params: 0\n",
            "_________________________________________________________________\n"
          ]
        }
      ],
      "source": [
        "model = build_learning_rate(0.2, 0.2, 0.004)"
      ]
    },
    {
      "cell_type": "code",
      "execution_count": null,
      "metadata": {
        "colab": {
          "base_uri": "https://localhost:8080/"
        },
        "outputId": "2ba72cee-94be-416d-a11f-676682c19d23",
        "id": "7tj59HdBCtrY"
      },
      "outputs": [
        {
          "output_type": "stream",
          "name": "stdout",
          "text": [
            "Epoch 1/4\n",
            "4094/4094 [==============================] - 2319s 566ms/step - loss: 0.4948 - acc: 0.7701\n",
            "Epoch 2/4\n",
            "4094/4094 [==============================] - 2293s 560ms/step - loss: 0.4683 - acc: 0.7861\n",
            "Epoch 3/4\n",
            "4094/4094 [==============================] - 2293s 560ms/step - loss: 0.4629 - acc: 0.7889\n",
            "Epoch 4/4\n",
            "4094/4094 [==============================] - 2299s 562ms/step - loss: 0.4598 - acc: 0.7909\n"
          ]
        }
      ],
      "source": [
        "history = train_final_model(model, 4)"
      ]
    },
    {
      "cell_type": "code",
      "execution_count": null,
      "metadata": {
        "colab": {
          "base_uri": "https://localhost:8080/"
        },
        "outputId": "9b285ecf-d903-4fae-e7ab-d8cdbf62b2df",
        "id": "XQ9EGjdQCtrd"
      },
      "outputs": [
        {
          "output_type": "stream",
          "name": "stdout",
          "text": [
            "1563/1563 [==============================] - 76s 48ms/step - loss: 0.4653 - acc: 0.7908\n"
          ]
        }
      ],
      "source": [
        "results = evaluate()"
      ]
    },
    {
      "cell_type": "code",
      "source": [
        "%%shell\n",
        "jupyter nbconvert --to html /content/LSTMGRULayers.ipynb"
      ],
      "metadata": {
        "id": "70OswE73grx-",
        "outputId": "24c98023-3650-4c73-c2be-d9350abae27d",
        "colab": {
          "base_uri": "https://localhost:8080/"
        }
      },
      "execution_count": null,
      "outputs": [
        {
          "output_type": "stream",
          "name": "stdout",
          "text": [
            "[NbConvertApp] Converting notebook /content/LSTMGRULayers.ipynb to html\n",
            "[NbConvertApp] Writing 621334 bytes to /content/LSTMGRULayers.html\n"
          ]
        },
        {
          "output_type": "execute_result",
          "data": {
            "text/plain": [
              ""
            ]
          },
          "metadata": {},
          "execution_count": 3
        }
      ]
    }
  ],
  "metadata": {
    "colab": {
      "collapsed_sections": [],
      "name": "LSTMGRULayers-V2.ipynb",
      "provenance": [],
      "toc_visible": true,
      "background_execution": "on",
      "authorship_tag": "ABX9TyPjXV+McpO6PNlVLx800yu3",
      "include_colab_link": true
    },
    "kernelspec": {
      "display_name": "Python 3",
      "name": "python3"
    },
    "language_info": {
      "name": "python"
    }
  },
  "nbformat": 4,
  "nbformat_minor": 0
}